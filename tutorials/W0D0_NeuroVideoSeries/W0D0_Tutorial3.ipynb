{
  "cells": [
    {
      "cell_type": "markdown",
      "metadata": {
        "id": "view-in-github",
        "colab_type": "text"
      },
      "source": [
        "<a href=\"https://colab.research.google.com/github/NeuromatchAcademy/precourse/blob/spirosChv-patch-1/tutorials/W0D0_NeuroVideoSeries/W0D0_Tutorial3.ipynb\" target=\"_parent\"><img src=\"https://colab.research.google.com/assets/colab-badge.svg\" alt=\"Open In Colab\"/></a>"
      ]
    },
    {
      "cell_type": "markdown",
      "metadata": {
        "pycharm": {
          "name": "#%% md\n"
        },
        "id": "Rns13MuRXcJG"
      },
      "source": [
        "# Behavioral Readout\n",
        "**Neuro Video Series**\n",
        "\n",
        "**By Neuromatch Academy**\n",
        "\n",
        "**Content creator**: Ella Batty\n",
        "\n",
        "**Content reviewers**: Swapnil Kumar, Pooya Pakarian, Tara van Viegen\n",
        "\n",
        "**Video editors, captioners, and translators**: Jeremy Forest, Aditya Singh, Tara van Viegen"
      ]
    },
    {
      "cell_type": "markdown",
      "metadata": {
        "id": "XfFxtiLoXcJM"
      },
      "source": [
        "**Our 2021 Sponsors, including Presenting Sponsor Facebook Reality Labs**\n",
        "\n",
        "<p align='center'><img src='https://github.com/NeuromatchAcademy/widgets/blob/master/sponsors.png?raw=True'/></p>"
      ]
    },
    {
      "cell_type": "markdown",
      "metadata": {
        "pycharm": {
          "name": "#%% md\n"
        },
        "id": "vFvM-VzWXcJO"
      },
      "source": [
        "## Video"
      ]
    },
    {
      "cell_type": "code",
      "execution_count": 1,
      "metadata": {
        "cellView": "form",
        "execution": {
          "iopub.execute_input": "2021-06-25T15:05:08.638200Z",
          "iopub.status.busy": "2021-06-25T15:05:08.637616Z",
          "iopub.status.idle": "2021-06-25T15:05:08.764168Z",
          "shell.execute_reply": "2021-06-25T15:05:08.763547Z"
        },
        "pycharm": {
          "name": "#%%\n"
        },
        "id": "lUINVuTyXcJO",
        "outputId": "6722a11d-d0dc-41bb-ece8-6d4390b46893",
        "colab": {
          "base_uri": "https://localhost:8080/",
          "height": 582,
          "referenced_widgets": [
            "fb2a618159a14efa9174b23636f4a765",
            "e69fecdfb3e04bf4846f660902270ba5",
            "84f78f91aa3f4c9bb7d77f9f167c95b9",
            "beb48f89ab9b48dfacd3e75b24a5e6c7",
            "e88f48453fa046bd903f06de913df168",
            "62b5f270ce61473b8ff61ff75af707b5"
          ]
        }
      },
      "outputs": [
        {
          "output_type": "display_data",
          "data": {
            "application/vnd.jupyter.widget-view+json": {
              "model_id": "fb2a618159a14efa9174b23636f4a765",
              "version_minor": 0,
              "version_major": 2
            },
            "text/plain": [
              "Tab(children=(Output(), Output()), _titles={'0': 'Youtube', '1': 'Bilibili'})"
            ]
          },
          "metadata": {}
        }
      ],
      "source": [
        "# @markdown\n",
        "from ipywidgets import widgets\n",
        "\n",
        "out2 = widgets.Output()\n",
        "with out2:\n",
        "  from IPython.display import IFrame\n",
        "  class BiliVideo(IFrame):\n",
        "      def __init__(self, id, page=1, width=400, height=300, **kwargs):\n",
        "          self.id=id\n",
        "          src = \"https://player.bilibili.com/player.html?bvid={0}&page={1}\".format(id, page)\n",
        "          super(BiliVideo, self).__init__(src, width, height, **kwargs)\n",
        "\n",
        "  video = BiliVideo(id=\"BV1fU4y1G7jX\", width=854, height=480, fs=1)\n",
        "  print(\"Video available at https://www.bilibili.com/video/{0}\".format(video.id))\n",
        "  display(video)\n",
        "\n",
        "out1 = widgets.Output()\n",
        "with out1:\n",
        "  from IPython.display import YouTubeVideo\n",
        "  video = YouTubeVideo(id=\"1DsxzkaLTOQ\", width=854, height=480, fs=1, rel=0)\n",
        "  print(\"Video available at https://youtube.com/watch?v=\" + video.id)\n",
        "  display(video)\n",
        "\n",
        "out = widgets.Tab([out1, out2])\n",
        "out.set_title(0, 'Youtube')\n",
        "out.set_title(1, 'Bilibili')\n",
        "\n",
        "display(out)"
      ]
    },
    {
      "cell_type": "markdown",
      "metadata": {
        "id": "Ng_c7bL7XcJQ"
      },
      "source": [
        "## Slides"
      ]
    },
    {
      "cell_type": "code",
      "execution_count": 2,
      "metadata": {
        "cellView": "form",
        "execution": {
          "iopub.execute_input": "2021-06-25T15:05:08.776410Z",
          "iopub.status.busy": "2021-06-25T15:05:08.775320Z",
          "iopub.status.idle": "2021-06-25T15:05:08.777959Z",
          "shell.execute_reply": "2021-06-25T15:05:08.777563Z"
        },
        "pycharm": {
          "name": "#%%\n"
        },
        "id": "LPgZbsaTXcJR",
        "outputId": "f62e1812-a739-4dc9-a5b8-117f7311fbcf",
        "colab": {
          "base_uri": "https://localhost:8080/",
          "height": 502
        }
      },
      "outputs": [
        {
          "output_type": "execute_result",
          "data": {
            "text/html": [
              "\n",
              "        <iframe\n",
              "            width=\"854\"\n",
              "            height=\"480\"\n",
              "            src=\"https://mfr.ca-1.osf.io/render?url=https://osf.io/te6v5/?direct%26mode=render%26action=download%26mode=render\"\n",
              "            frameborder=\"0\"\n",
              "            allowfullscreen\n",
              "        ></iframe>\n",
              "        "
            ],
            "text/plain": [
              "<IPython.lib.display.IFrame at 0x7f9a1b7e5110>"
            ]
          },
          "metadata": {},
          "execution_count": 2
        }
      ],
      "source": [
        "# @markdown\n",
        "from IPython.display import IFrame\n",
        "url = \"https://mfr.ca-1.osf.io/render?url=https://osf.io/te6v5/?direct%26mode=render%26action=download%26mode=render\"\n",
        "IFrame(src=url, width=854, height=480)"
      ]
    }
  ],
  "metadata": {
    "colab": {
      "collapsed_sections": [],
      "name": "W0D0_Tutorial3",
      "provenance": [],
      "toc_visible": true,
      "include_colab_link": true
    },
    "kernel": {
      "display_name": "Python 3",
      "language": "python",
      "name": "python3"
    },
    "kernelspec": {
      "display_name": "Python 3",
      "name": "python3"
    },
    "language_info": {
      "codemirror_mode": {
        "name": "ipython",
        "version": 3
      },
      "file_extension": ".py",
      "mimetype": "text/x-python",
      "name": "python",
      "nbconvert_exporter": "python",
      "pygments_lexer": "ipython3",
      "version": "3.7.10"
    },
    "widgets": {
      "application/vnd.jupyter.widget-state+json": {
        "fb2a618159a14efa9174b23636f4a765": {
          "model_module": "@jupyter-widgets/controls",
          "model_name": "TabModel",
          "model_module_version": "1.5.0",
          "state": {
            "_view_name": "TabView",
            "_dom_classes": [],
            "_titles": {
              "0": "Youtube",
              "1": "Bilibili"
            },
            "_model_name": "TabModel",
            "_view_module": "@jupyter-widgets/controls",
            "selected_index": 0,
            "_model_module_version": "1.5.0",
            "_view_count": null,
            "_view_module_version": "1.5.0",
            "box_style": "",
            "layout": "IPY_MODEL_e69fecdfb3e04bf4846f660902270ba5",
            "_model_module": "@jupyter-widgets/controls",
            "children": [
              "IPY_MODEL_84f78f91aa3f4c9bb7d77f9f167c95b9",
              "IPY_MODEL_beb48f89ab9b48dfacd3e75b24a5e6c7"
            ]
          }
        },
        "e69fecdfb3e04bf4846f660902270ba5": {
          "model_module": "@jupyter-widgets/base",
          "model_name": "LayoutModel",
          "model_module_version": "1.2.0",
          "state": {
            "_view_name": "LayoutView",
            "grid_template_rows": null,
            "right": null,
            "justify_content": null,
            "_view_module": "@jupyter-widgets/base",
            "overflow": null,
            "_model_module_version": "1.2.0",
            "_view_count": null,
            "flex_flow": null,
            "width": null,
            "min_width": null,
            "border": null,
            "align_items": null,
            "bottom": null,
            "_model_module": "@jupyter-widgets/base",
            "top": null,
            "grid_column": null,
            "overflow_y": null,
            "overflow_x": null,
            "grid_auto_flow": null,
            "grid_area": null,
            "grid_template_columns": null,
            "flex": null,
            "_model_name": "LayoutModel",
            "justify_items": null,
            "grid_row": null,
            "max_height": null,
            "align_content": null,
            "visibility": null,
            "align_self": null,
            "height": null,
            "min_height": null,
            "padding": null,
            "grid_auto_rows": null,
            "grid_gap": null,
            "max_width": null,
            "order": null,
            "_view_module_version": "1.2.0",
            "grid_template_areas": null,
            "object_position": null,
            "object_fit": null,
            "grid_auto_columns": null,
            "margin": null,
            "display": null,
            "left": null
          }
        },
        "84f78f91aa3f4c9bb7d77f9f167c95b9": {
          "model_module": "@jupyter-widgets/output",
          "model_name": "OutputModel",
          "model_module_version": "1.0.0",
          "state": {
            "_view_name": "OutputView",
            "msg_id": "",
            "_dom_classes": [],
            "_model_name": "OutputModel",
            "outputs": [
              {
                "output_type": "stream",
                "name": "stdout",
                "text": [
                  "Video available at https://youtube.com/watch?v=1DsxzkaLTOQ\n"
                ]
              },
              {
                "output_type": "display_data",
                "data": {
                  "text/html": "\n        <iframe\n            width=\"854\"\n            height=\"480\"\n            src=\"https://www.youtube.com/embed/1DsxzkaLTOQ?fs=1&rel=0\"\n            frameborder=\"0\"\n            allowfullscreen\n        ></iframe>\n        ",
                  "text/plain": "<IPython.lib.display.YouTubeVideo at 0x7f9a1ce3ed90>",
                  "image/jpeg": "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\n"
                },
                "metadata": {}
              }
            ],
            "_view_module": "@jupyter-widgets/output",
            "_model_module_version": "1.0.0",
            "_view_count": null,
            "_view_module_version": "1.0.0",
            "layout": "IPY_MODEL_e88f48453fa046bd903f06de913df168",
            "_model_module": "@jupyter-widgets/output"
          }
        },
        "beb48f89ab9b48dfacd3e75b24a5e6c7": {
          "model_module": "@jupyter-widgets/output",
          "model_name": "OutputModel",
          "model_module_version": "1.0.0",
          "state": {
            "_view_name": "OutputView",
            "msg_id": "",
            "_dom_classes": [],
            "_model_name": "OutputModel",
            "outputs": [
              {
                "output_type": "stream",
                "name": "stdout",
                "text": [
                  "Video available at https://www.bilibili.com/video/BV1fU4y1G7jX\n"
                ]
              },
              {
                "output_type": "display_data",
                "data": {
                  "text/html": "\n        <iframe\n            width=\"854\"\n            height=\"480\"\n            src=\"https://player.bilibili.com/player.html?bvid=BV1fU4y1G7jX&page=1?fs=1\"\n            frameborder=\"0\"\n            allowfullscreen\n        ></iframe>\n        ",
                  "text/plain": "<__main__.BiliVideo at 0x7f9a1b7e5950>"
                },
                "metadata": {}
              }
            ],
            "_view_module": "@jupyter-widgets/output",
            "_model_module_version": "1.0.0",
            "_view_count": null,
            "_view_module_version": "1.0.0",
            "layout": "IPY_MODEL_62b5f270ce61473b8ff61ff75af707b5",
            "_model_module": "@jupyter-widgets/output"
          }
        },
        "e88f48453fa046bd903f06de913df168": {
          "model_module": "@jupyter-widgets/base",
          "model_name": "LayoutModel",
          "model_module_version": "1.2.0",
          "state": {
            "_view_name": "LayoutView",
            "grid_template_rows": null,
            "right": null,
            "justify_content": null,
            "_view_module": "@jupyter-widgets/base",
            "overflow": null,
            "_model_module_version": "1.2.0",
            "_view_count": null,
            "flex_flow": null,
            "width": null,
            "min_width": null,
            "border": null,
            "align_items": null,
            "bottom": null,
            "_model_module": "@jupyter-widgets/base",
            "top": null,
            "grid_column": null,
            "overflow_y": null,
            "overflow_x": null,
            "grid_auto_flow": null,
            "grid_area": null,
            "grid_template_columns": null,
            "flex": null,
            "_model_name": "LayoutModel",
            "justify_items": null,
            "grid_row": null,
            "max_height": null,
            "align_content": null,
            "visibility": null,
            "align_self": null,
            "height": null,
            "min_height": null,
            "padding": null,
            "grid_auto_rows": null,
            "grid_gap": null,
            "max_width": null,
            "order": null,
            "_view_module_version": "1.2.0",
            "grid_template_areas": null,
            "object_position": null,
            "object_fit": null,
            "grid_auto_columns": null,
            "margin": null,
            "display": null,
            "left": null
          }
        },
        "62b5f270ce61473b8ff61ff75af707b5": {
          "model_module": "@jupyter-widgets/base",
          "model_name": "LayoutModel",
          "model_module_version": "1.2.0",
          "state": {
            "_view_name": "LayoutView",
            "grid_template_rows": null,
            "right": null,
            "justify_content": null,
            "_view_module": "@jupyter-widgets/base",
            "overflow": null,
            "_model_module_version": "1.2.0",
            "_view_count": null,
            "flex_flow": null,
            "width": null,
            "min_width": null,
            "border": null,
            "align_items": null,
            "bottom": null,
            "_model_module": "@jupyter-widgets/base",
            "top": null,
            "grid_column": null,
            "overflow_y": null,
            "overflow_x": null,
            "grid_auto_flow": null,
            "grid_area": null,
            "grid_template_columns": null,
            "flex": null,
            "_model_name": "LayoutModel",
            "justify_items": null,
            "grid_row": null,
            "max_height": null,
            "align_content": null,
            "visibility": null,
            "align_self": null,
            "height": null,
            "min_height": null,
            "padding": null,
            "grid_auto_rows": null,
            "grid_gap": null,
            "max_width": null,
            "order": null,
            "_view_module_version": "1.2.0",
            "grid_template_areas": null,
            "object_position": null,
            "object_fit": null,
            "grid_auto_columns": null,
            "margin": null,
            "display": null,
            "left": null
          }
        }
      }
    }
  },
  "nbformat": 4,
  "nbformat_minor": 0
}