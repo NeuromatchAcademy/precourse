{
  "cells": [
    {
      "cell_type": "markdown",
      "metadata": {
        "id": "view-in-github",
        "colab_type": "text"
      },
      "source": [
        "<a href=\"https://colab.research.google.com/github/NeuromatchAcademy/precourse/blob/spirosChv-patch-1/tutorials/W0D0_NeuroVideoSeries/W0D0_Tutorial1.ipynb\" target=\"_parent\"><img src=\"https://colab.research.google.com/assets/colab-badge.svg\" alt=\"Open In Colab\"/></a>"
      ]
    },
    {
      "cell_type": "markdown",
      "metadata": {
        "pycharm": {
          "name": "#%% md\n"
        },
        "id": "Et4zCW3IW2JZ"
      },
      "source": [
        "# Intro\n",
        "**Neuro Video Series**\n",
        "\n",
        "**By Neuromatch Academy**\n",
        "\n",
        "**Content creator**: Arvind Kumar\n",
        "\n",
        "**Content reviewers**: Tara van Viegen\n",
        "\n",
        "**Video editors, captioners, and translators**: Ashish Sahoo, Kushaan Gupta, Cynthia Castillo, Shuze Liu"
      ]
    },
    {
      "cell_type": "markdown",
      "metadata": {
        "id": "RyfIs2kCW2Jc"
      },
      "source": [
        "**Our 2021 Sponsors, including Presenting Sponsor Facebook Reality Labs**\n",
        "\n",
        "<p align='center'><img src='https://github.com/NeuromatchAcademy/widgets/blob/master/sponsors.png?raw=True'/></p>"
      ]
    },
    {
      "cell_type": "markdown",
      "metadata": {
        "pycharm": {
          "name": "#%% md\n"
        },
        "id": "3Vz1cstQW2Jd"
      },
      "source": [
        "## Video"
      ]
    },
    {
      "cell_type": "code",
      "execution_count": 1,
      "metadata": {
        "cellView": "form",
        "execution": {
          "iopub.execute_input": "2021-06-25T15:05:03.256621Z",
          "iopub.status.busy": "2021-06-25T15:05:03.256083Z",
          "iopub.status.idle": "2021-06-25T15:05:03.421639Z",
          "shell.execute_reply": "2021-06-25T15:05:03.422095Z"
        },
        "pycharm": {
          "name": "#%%\n"
        },
        "id": "yAN6nBIHW2Jd",
        "outputId": "7f2bcc6f-2560-4d1d-9188-621e4860a28b",
        "colab": {
          "base_uri": "https://localhost:8080/",
          "height": 582,
          "referenced_widgets": [
            "1c4ff700a82a4a94a2e81c08494a1b59",
            "054f9a9719ea4fc2b3f52b4057fd4563",
            "183ba41122ee4266a9b86aac46159785",
            "dd624b10e380411595a09deea763e20c",
            "d8c999d1e5db4850985d5b46450e6f42",
            "4406e7287c874320928aaf9b3d5f7374"
          ]
        }
      },
      "outputs": [
        {
          "output_type": "display_data",
          "data": {
            "application/vnd.jupyter.widget-view+json": {
              "model_id": "1c4ff700a82a4a94a2e81c08494a1b59",
              "version_minor": 0,
              "version_major": 2
            },
            "text/plain": [
              "Tab(children=(Output(), Output()), _titles={'0': 'Youtube', '1': 'Bilibili'})"
            ]
          },
          "metadata": {}
        }
      ],
      "source": [
        "# @markdown\n",
        "from ipywidgets import widgets\n",
        "\n",
        "out2 = widgets.Output()\n",
        "with out2:\n",
        "  from IPython.display import IFrame\n",
        "  class BiliVideo(IFrame):\n",
        "      def __init__(self, id, page=1, width=400, height=300, **kwargs):\n",
        "          self.id=id\n",
        "          src = \"https://player.bilibili.com/player.html?bvid={0}&page={1}\".format(id, page)\n",
        "          super(BiliVideo, self).__init__(src, width, height, **kwargs)\n",
        "\n",
        "  video = BiliVideo(id=\"BV1Kg41137Cp\", width=854, height=480, fs=1)\n",
        "  print(\"Video available at https://www.bilibili.com/video/{0}\".format(video.id))\n",
        "  display(video)\n",
        "\n",
        "out1 = widgets.Output()\n",
        "with out1:\n",
        "  from IPython.display import YouTubeVideo\n",
        "  video = YouTubeVideo(id=\"mZkujcMW1uI\", width=854, height=480, fs=1, rel=0)\n",
        "  print(\"Video available at https://youtube.com/watch?v=\" + video.id)\n",
        "  display(video)\n",
        "\n",
        "out = widgets.Tab([out1, out2])\n",
        "out.set_title(0, 'Youtube')\n",
        "out.set_title(1, 'Bilibili')\n",
        "\n",
        "display(out)"
      ]
    },
    {
      "cell_type": "markdown",
      "metadata": {
        "id": "sNieIobdW2Je"
      },
      "source": [
        "## Slides"
      ]
    },
    {
      "cell_type": "code",
      "execution_count": 2,
      "metadata": {
        "cellView": "form",
        "execution": {
          "iopub.execute_input": "2021-06-25T15:05:03.434071Z",
          "iopub.status.busy": "2021-06-25T15:05:03.432871Z",
          "iopub.status.idle": "2021-06-25T15:05:03.436213Z",
          "shell.execute_reply": "2021-06-25T15:05:03.435631Z"
        },
        "pycharm": {
          "name": "#%%\n"
        },
        "id": "pfQsk1ASW2Jf",
        "outputId": "6552b6c1-c3ed-4d81-b3fa-232d98f28db6",
        "colab": {
          "base_uri": "https://localhost:8080/",
          "height": 502
        }
      },
      "outputs": [
        {
          "output_type": "execute_result",
          "data": {
            "text/html": [
              "\n",
              "        <iframe\n",
              "            width=\"854\"\n",
              "            height=\"480\"\n",
              "            src=\"https://mfr.ca-1.osf.io/render?url=https://osf.io/96dqp/?direct%26mode=render%26action=download%26mode=render\"\n",
              "            frameborder=\"0\"\n",
              "            allowfullscreen\n",
              "        ></iframe>\n",
              "        "
            ],
            "text/plain": [
              "<IPython.lib.display.IFrame at 0x7fbac5fdc250>"
            ]
          },
          "metadata": {},
          "execution_count": 2
        }
      ],
      "source": [
        "# @markdown\n",
        "from IPython.display import IFrame\n",
        "url = \"https://mfr.ca-1.osf.io/render?url=https://osf.io/96dqp/?direct%26mode=render%26action=download%26mode=render\"\n",
        "IFrame(src=url, width=854, height=480)"
      ]
    }
  ],
  "metadata": {
    "colab": {
      "collapsed_sections": [],
      "name": "W0D0_Tutorial1",
      "provenance": [],
      "toc_visible": true,
      "include_colab_link": true
    },
    "kernel": {
      "display_name": "Python 3",
      "language": "python",
      "name": "python3"
    },
    "kernelspec": {
      "display_name": "Python 3",
      "name": "python3"
    },
    "language_info": {
      "codemirror_mode": {
        "name": "ipython",
        "version": 3
      },
      "file_extension": ".py",
      "mimetype": "text/x-python",
      "name": "python",
      "nbconvert_exporter": "python",
      "pygments_lexer": "ipython3",
      "version": "3.7.10"
    },
    "widgets": {
      "application/vnd.jupyter.widget-state+json": {
        "1c4ff700a82a4a94a2e81c08494a1b59": {
          "model_module": "@jupyter-widgets/controls",
          "model_name": "TabModel",
          "model_module_version": "1.5.0",
          "state": {
            "_view_name": "TabView",
            "_dom_classes": [],
            "_titles": {
              "0": "Youtube",
              "1": "Bilibili"
            },
            "_model_name": "TabModel",
            "_view_module": "@jupyter-widgets/controls",
            "selected_index": 0,
            "_model_module_version": "1.5.0",
            "_view_count": null,
            "_view_module_version": "1.5.0",
            "box_style": "",
            "layout": "IPY_MODEL_054f9a9719ea4fc2b3f52b4057fd4563",
            "_model_module": "@jupyter-widgets/controls",
            "children": [
              "IPY_MODEL_183ba41122ee4266a9b86aac46159785",
              "IPY_MODEL_dd624b10e380411595a09deea763e20c"
            ]
          }
        },
        "054f9a9719ea4fc2b3f52b4057fd4563": {
          "model_module": "@jupyter-widgets/base",
          "model_name": "LayoutModel",
          "model_module_version": "1.2.0",
          "state": {
            "_view_name": "LayoutView",
            "grid_template_rows": null,
            "right": null,
            "justify_content": null,
            "_view_module": "@jupyter-widgets/base",
            "overflow": null,
            "_model_module_version": "1.2.0",
            "_view_count": null,
            "flex_flow": null,
            "width": null,
            "min_width": null,
            "border": null,
            "align_items": null,
            "bottom": null,
            "_model_module": "@jupyter-widgets/base",
            "top": null,
            "grid_column": null,
            "overflow_y": null,
            "overflow_x": null,
            "grid_auto_flow": null,
            "grid_area": null,
            "grid_template_columns": null,
            "flex": null,
            "_model_name": "LayoutModel",
            "justify_items": null,
            "grid_row": null,
            "max_height": null,
            "align_content": null,
            "visibility": null,
            "align_self": null,
            "height": null,
            "min_height": null,
            "padding": null,
            "grid_auto_rows": null,
            "grid_gap": null,
            "max_width": null,
            "order": null,
            "_view_module_version": "1.2.0",
            "grid_template_areas": null,
            "object_position": null,
            "object_fit": null,
            "grid_auto_columns": null,
            "margin": null,
            "display": null,
            "left": null
          }
        },
        "183ba41122ee4266a9b86aac46159785": {
          "model_module": "@jupyter-widgets/output",
          "model_name": "OutputModel",
          "model_module_version": "1.0.0",
          "state": {
            "_view_name": "OutputView",
            "msg_id": "",
            "_dom_classes": [],
            "_model_name": "OutputModel",
            "outputs": [
              {
                "output_type": "stream",
                "name": "stdout",
                "text": [
                  "Video available at https://youtube.com/watch?v=mZkujcMW1uI\n"
                ]
              },
              {
                "output_type": "display_data",
                "data": {
                  "text/html": "\n        <iframe\n            width=\"854\"\n            height=\"480\"\n            src=\"https://www.youtube.com/embed/mZkujcMW1uI?fs=1&rel=0\"\n            frameborder=\"0\"\n            allowfullscreen\n        ></iframe>\n        ",
                  "text/plain": "<IPython.lib.display.YouTubeVideo at 0x7fbac9a27ed0>",
                  "image/jpeg": "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\n"
                },
                "metadata": {}
              }
            ],
            "_view_module": "@jupyter-widgets/output",
            "_model_module_version": "1.0.0",
            "_view_count": null,
            "_view_module_version": "1.0.0",
            "layout": "IPY_MODEL_d8c999d1e5db4850985d5b46450e6f42",
            "_model_module": "@jupyter-widgets/output"
          }
        },
        "dd624b10e380411595a09deea763e20c": {
          "model_module": "@jupyter-widgets/output",
          "model_name": "OutputModel",
          "model_module_version": "1.0.0",
          "state": {
            "_view_name": "OutputView",
            "msg_id": "",
            "_dom_classes": [],
            "_model_name": "OutputModel",
            "outputs": [
              {
                "output_type": "stream",
                "name": "stdout",
                "text": [
                  "Video available at https://www.bilibili.com/video/BV1Kg41137Cp\n"
                ]
              },
              {
                "output_type": "display_data",
                "data": {
                  "text/html": "\n        <iframe\n            width=\"854\"\n            height=\"480\"\n            src=\"https://player.bilibili.com/player.html?bvid=BV1Kg41137Cp&page=1?fs=1\"\n            frameborder=\"0\"\n            allowfullscreen\n        ></iframe>\n        ",
                  "text/plain": "<__main__.BiliVideo at 0x7fbac9a27e10>"
                },
                "metadata": {}
              }
            ],
            "_view_module": "@jupyter-widgets/output",
            "_model_module_version": "1.0.0",
            "_view_count": null,
            "_view_module_version": "1.0.0",
            "layout": "IPY_MODEL_4406e7287c874320928aaf9b3d5f7374",
            "_model_module": "@jupyter-widgets/output"
          }
        },
        "d8c999d1e5db4850985d5b46450e6f42": {
          "model_module": "@jupyter-widgets/base",
          "model_name": "LayoutModel",
          "model_module_version": "1.2.0",
          "state": {
            "_view_name": "LayoutView",
            "grid_template_rows": null,
            "right": null,
            "justify_content": null,
            "_view_module": "@jupyter-widgets/base",
            "overflow": null,
            "_model_module_version": "1.2.0",
            "_view_count": null,
            "flex_flow": null,
            "width": null,
            "min_width": null,
            "border": null,
            "align_items": null,
            "bottom": null,
            "_model_module": "@jupyter-widgets/base",
            "top": null,
            "grid_column": null,
            "overflow_y": null,
            "overflow_x": null,
            "grid_auto_flow": null,
            "grid_area": null,
            "grid_template_columns": null,
            "flex": null,
            "_model_name": "LayoutModel",
            "justify_items": null,
            "grid_row": null,
            "max_height": null,
            "align_content": null,
            "visibility": null,
            "align_self": null,
            "height": null,
            "min_height": null,
            "padding": null,
            "grid_auto_rows": null,
            "grid_gap": null,
            "max_width": null,
            "order": null,
            "_view_module_version": "1.2.0",
            "grid_template_areas": null,
            "object_position": null,
            "object_fit": null,
            "grid_auto_columns": null,
            "margin": null,
            "display": null,
            "left": null
          }
        },
        "4406e7287c874320928aaf9b3d5f7374": {
          "model_module": "@jupyter-widgets/base",
          "model_name": "LayoutModel",
          "model_module_version": "1.2.0",
          "state": {
            "_view_name": "LayoutView",
            "grid_template_rows": null,
            "right": null,
            "justify_content": null,
            "_view_module": "@jupyter-widgets/base",
            "overflow": null,
            "_model_module_version": "1.2.0",
            "_view_count": null,
            "flex_flow": null,
            "width": null,
            "min_width": null,
            "border": null,
            "align_items": null,
            "bottom": null,
            "_model_module": "@jupyter-widgets/base",
            "top": null,
            "grid_column": null,
            "overflow_y": null,
            "overflow_x": null,
            "grid_auto_flow": null,
            "grid_area": null,
            "grid_template_columns": null,
            "flex": null,
            "_model_name": "LayoutModel",
            "justify_items": null,
            "grid_row": null,
            "max_height": null,
            "align_content": null,
            "visibility": null,
            "align_self": null,
            "height": null,
            "min_height": null,
            "padding": null,
            "grid_auto_rows": null,
            "grid_gap": null,
            "max_width": null,
            "order": null,
            "_view_module_version": "1.2.0",
            "grid_template_areas": null,
            "object_position": null,
            "object_fit": null,
            "grid_auto_columns": null,
            "margin": null,
            "display": null,
            "left": null
          }
        }
      }
    }
  },
  "nbformat": 4,
  "nbformat_minor": 0
}