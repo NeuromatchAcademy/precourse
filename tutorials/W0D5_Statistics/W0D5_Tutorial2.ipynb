{
  "cells": [
    {
      "cell_type": "markdown",
      "metadata": {
        "id": "view-in-github",
        "colab_type": "text"
      },
      "source": [
        "<a href=\"https://colab.research.google.com/github/NeuromatchAcademy/precourse/blob/fixing_issues/tutorials/W0D5_Statistics/W0D5_Tutorial2.ipynb\" target=\"_parent\"><img src=\"https://colab.research.google.com/assets/colab-badge.svg\" alt=\"Open In Colab\"/></a>"
      ]
    },
    {
      "cell_type": "markdown",
      "metadata": {
        "execution": {},
        "id": "y7QO3gRlAxcV"
      },
      "source": [
        "# Tutorial 2: Statistical Inference\n",
        "\n",
        "**Week 0, Day 5: Probability & Statistics**\n",
        "\n",
        "**By Neuromatch Academy**\n",
        "\n",
        "**Content creators:** Ulrik Beierholm\n",
        "\n",
        "**Content reviewers:** Natalie Schaworonkow, Keith van Antwerp, Anoop Kulkarni, Pooya Pakarian, Hyosub Kim\n",
        "\n",
        "**Production editors:** Ethan Cheng, Ella Batty"
      ]
    },
    {
      "cell_type": "markdown",
      "metadata": {
        "execution": {},
        "id": "2aTvgwH5AxcX"
      },
      "source": [
        "---\n",
        "#Tutorial Objectives\n",
        "\n",
        "This tutorial builds on Tutorial 1 by explaining how to do inference through inverting the generative process.\n",
        "\n",
        "By completing the exercises in this tutorial, you should:\n",
        "* understand what the likelihood function is, and have some intuition of why it is important\n",
        "* know how to summarise the Gaussian distribution using mean and variance\n",
        "* know how to maximise a likelihood function\n",
        "* be able to do simple inference in both classical and Bayesian ways\n",
        "* (Optional) understand how Bayes Net can be used to model causal relationships"
      ]
    },
    {
      "cell_type": "markdown",
      "metadata": {
        "execution": {},
        "id": "-ZtiHO1tAxcZ"
      },
      "source": [
        "---\n",
        "# Setup"
      ]
    },
    {
      "cell_type": "code",
      "execution_count": null,
      "metadata": {
        "cellView": "form",
        "execution": {},
        "id": "GnGXHl0nAxcZ"
      },
      "outputs": [],
      "source": [
        "# @title Install and import feedback gadget\n",
        "\n",
        "!pip3 install vibecheck datatops --quiet\n",
        "\n",
        "from vibecheck import DatatopsContentReviewContainer\n",
        "def content_review(notebook_section: str):\n",
        "    return DatatopsContentReviewContainer(\n",
        "        \"\",  # No text prompt\n",
        "        notebook_section,\n",
        "        {\n",
        "            \"url\": \"https://pmyvdlilci.execute-api.us-east-1.amazonaws.com/klab\",\n",
        "            \"name\": \"neuromatch-precourse\",\n",
        "            \"user_key\": \"8zxfvwxw\",\n",
        "        },\n",
        "    ).render()\n",
        "\n",
        "\n",
        "feedback_prefix = \"W0D5_T2\""
      ]
    },
    {
      "cell_type": "code",
      "execution_count": null,
      "metadata": {
        "cellView": "code",
        "execution": {},
        "id": "-Ykf_yWHAxcb"
      },
      "outputs": [],
      "source": [
        "# Imports\n",
        "import numpy as np\n",
        "import matplotlib.pyplot as plt\n",
        "import scipy as sp\n",
        "from scipy.stats import norm\n",
        "from numpy.random import default_rng  # a default random number generator"
      ]
    },
    {
      "cell_type": "code",
      "execution_count": null,
      "metadata": {
        "cellView": "form",
        "execution": {},
        "id": "KJfHsfC4Axcb"
      },
      "outputs": [],
      "source": [
        "# @title Figure settings\n",
        "import logging\n",
        "logging.getLogger('matplotlib.font_manager').disabled = True\n",
        "import ipywidgets as widgets  # interactive display\n",
        "from ipywidgets import interact, fixed, HBox, Layout, VBox, interactive, Label, interact_manual\n",
        "%config InlineBackend.figure_format = 'retina'\n",
        "plt.style.use(\"https://raw.githubusercontent.com/NeuromatchAcademy/content-creation/main/nma.mplstyle\")"
      ]
    },
    {
      "cell_type": "code",
      "execution_count": null,
      "metadata": {
        "cellView": "form",
        "execution": {},
        "id": "qNxNHTuLAxcc"
      },
      "outputs": [],
      "source": [
        "# @title Plotting functions\n",
        "\n",
        "def plot_hist(data, xlabel, figtitle = None, num_bins = None):\n",
        "  \"\"\" Plot the given data as a histogram.\n",
        "\n",
        "    Args:\n",
        "      data (ndarray): array with data to plot as histogram\n",
        "      xlabel (str): label of x-axis\n",
        "      figtitle (str): title of histogram plot (default is no title)\n",
        "      num_bins (int): number of bins for histogram (default is 10)\n",
        "\n",
        "    Returns:\n",
        "      count (ndarray): number of samples in each histogram bin\n",
        "      bins (ndarray): center of each histogram bin\n",
        "  \"\"\"\n",
        "  fig, ax = plt.subplots()\n",
        "  ax.set_xlabel(xlabel)\n",
        "  ax.set_ylabel('Count')\n",
        "  if num_bins is not None:\n",
        "    count, bins, _ = plt.hist(data, max(data), bins=num_bins)\n",
        "  else:\n",
        "    count, bins, _ = plt.hist(data, max(data))  # 10 bins default\n",
        "  if figtitle is not None:\n",
        "    fig.suptitle(figtitle, size=16)\n",
        "  plt.show()\n",
        "  return count, bins\n",
        "\n",
        "\n",
        "def plot_gaussian_samples_true(samples, xspace, mu, sigma, xlabel, ylabel):\n",
        "  \"\"\" Plot a histogram of the data samples on the same plot as the gaussian\n",
        "  distribution specified by the give mu and sigma values.\n",
        "\n",
        "    Args:\n",
        "      samples (ndarray): data samples for gaussian distribution\n",
        "      xspace (ndarray): x values to sample from normal distribution\n",
        "      mu (scalar): mean parameter of normal distribution\n",
        "      sigma (scalar): variance parameter of normal distribution\n",
        "      xlabel (str): the label of the x-axis of the histogram\n",
        "      ylabel (str): the label of the y-axis of the histogram\n",
        "\n",
        "    Returns:\n",
        "      Nothing.\n",
        "  \"\"\"\n",
        "  fig, ax = plt.subplots()\n",
        "  ax.set_xlabel(xlabel)\n",
        "  ax.set_ylabel(ylabel)\n",
        "  # num_samples = samples.shape[0]\n",
        "\n",
        "  count, bins, _ = plt.hist(samples, density=True)  # probability density function\n",
        "\n",
        "  plt.plot(xspace, norm.pdf(xspace, mu, sigma), 'r-')\n",
        "  plt.show()\n",
        "\n",
        "\n",
        "def plot_likelihoods(likelihoods, mean_vals, variance_vals):\n",
        "  \"\"\" Plot the likelihood values on a heatmap plot where the x and y axes match\n",
        "  the mean and variance parameter values the likelihoods were computed for.\n",
        "\n",
        "    Args:\n",
        "      likelihoods (ndarray): array of computed likelihood values\n",
        "      mean_vals (ndarray): array of mean parameter values for which the\n",
        "                            likelihood was computed\n",
        "      variance_vals (ndarray): array of variance parameter values for which the\n",
        "                            likelihood was computed\n",
        "\n",
        "    Returns:\n",
        "      Nothing.\n",
        "  \"\"\"\n",
        "  fig, ax = plt.subplots()\n",
        "  im = ax.imshow(likelihoods)\n",
        "\n",
        "  cbar = ax.figure.colorbar(im, ax=ax)\n",
        "  cbar.ax.set_ylabel('log likelihood', rotation=-90, va=\"bottom\")\n",
        "\n",
        "  ax.set_xticks(np.arange(len(mean_vals)))\n",
        "  ax.set_yticks(np.arange(len(variance_vals)))\n",
        "  ax.set_xticklabels(mean_vals)\n",
        "  ax.set_yticklabels(variance_vals)\n",
        "  ax.set_xlabel('Mean')\n",
        "  ax.set_ylabel('Variance')\n",
        "  plt.show()\n",
        "\n",
        "\n",
        "def posterior_plot(x, likelihood=None, prior=None,\n",
        "                   posterior_pointwise=None, ax=None):\n",
        "  \"\"\"\n",
        "  Plots normalized Gaussian distributions and posterior.\n",
        "\n",
        "    Args:\n",
        "        x (numpy array of floats):         points at which the likelihood has been evaluated\n",
        "        auditory (numpy array of floats):  normalized probabilities for auditory likelihood evaluated at each `x`\n",
        "        visual (numpy array of floats):    normalized probabilities for visual likelihood evaluated at each `x`\n",
        "        posterior (numpy array of floats): normalized probabilities for the posterior evaluated at each `x`\n",
        "        ax: Axis in which to plot. If None, create new axis.\n",
        "\n",
        "    Returns:\n",
        "        Nothing.\n",
        "  \"\"\"\n",
        "  if likelihood is None:\n",
        "      likelihood = np.zeros_like(x)\n",
        "\n",
        "  if prior is None:\n",
        "      prior = np.zeros_like(x)\n",
        "\n",
        "  if posterior_pointwise is None:\n",
        "      posterior_pointwise = np.zeros_like(x)\n",
        "\n",
        "  if ax is None:\n",
        "    fig, ax = plt.subplots()\n",
        "\n",
        "  ax.plot(x, likelihood, '-C1', linewidth=2, label='Auditory')\n",
        "  ax.plot(x, prior, '-C0', linewidth=2, label='Visual')\n",
        "  ax.plot(x, posterior_pointwise, '-C2', linewidth=2, label='Posterior')\n",
        "  ax.legend()\n",
        "  ax.set_ylabel('Probability')\n",
        "  ax.set_xlabel('Orientation (Degrees)')\n",
        "  plt.show()\n",
        "\n",
        "  return ax\n",
        "\n",
        "\n",
        "def plot_classical_vs_bayesian_normal(num_points, mu_classic, var_classic,\n",
        "                                      mu_bayes, var_bayes):\n",
        "  \"\"\" Helper function to plot optimal normal distribution parameters for varying\n",
        "  observed sample sizes using both classic and Bayesian inference methods.\n",
        "\n",
        "    Args:\n",
        "      num_points (int): max observed sample size to perform inference with\n",
        "      mu_classic (ndarray): estimated mean parameter for each observed sample size\n",
        "                                using classic inference method\n",
        "      var_classic (ndarray): estimated variance parameter for each observed sample size\n",
        "                                using classic inference method\n",
        "      mu_bayes (ndarray): estimated mean parameter for each observed sample size\n",
        "                                using Bayesian inference method\n",
        "      var_bayes (ndarray): estimated variance parameter for each observed sample size\n",
        "                                using Bayesian inference method\n",
        "\n",
        "    Returns:\n",
        "      Nothing.\n",
        "  \"\"\"\n",
        "  xspace = np.linspace(0, num_points, num_points)\n",
        "  fig, ax = plt.subplots()\n",
        "  ax.set_xlabel('n data points')\n",
        "  ax.set_ylabel('mu')\n",
        "  plt.plot(xspace, mu_classic,'r-', label=\"Classical\")\n",
        "  plt.plot(xspace, mu_bayes,'b-', label=\"Bayes\")\n",
        "  plt.legend()\n",
        "  plt.show()\n",
        "\n",
        "  fig, ax = plt.subplots()\n",
        "  ax.set_xlabel('n data points')\n",
        "  ax.set_ylabel('sigma^2')\n",
        "  plt.plot(xspace, var_classic,'r-', label=\"Classical\")\n",
        "  plt.plot(xspace, var_bayes,'b-', label=\"Bayes\")\n",
        "  plt.legend()\n",
        "  plt.show()"
      ]
    },
    {
      "cell_type": "markdown",
      "metadata": {
        "execution": {},
        "id": "I3Nopal6Axcd"
      },
      "source": [
        " ---\n",
        "# Section 1: Basic probability"
      ]
    },
    {
      "cell_type": "markdown",
      "metadata": {
        "execution": {},
        "id": "pC3q-qpfAxce"
      },
      "source": [
        "## Section 1.1: Basic probability theory"
      ]
    },
    {
      "cell_type": "code",
      "execution_count": null,
      "metadata": {
        "cellView": "form",
        "execution": {},
        "id": "Ov7Mcn0MAxce"
      },
      "outputs": [],
      "source": [
        "# @title Video 1: Basic Probability\n",
        "from ipywidgets import widgets\n",
        "from IPython.display import YouTubeVideo\n",
        "from IPython.display import IFrame\n",
        "from IPython.display import display\n",
        "\n",
        "\n",
        "class PlayVideo(IFrame):\n",
        "  def __init__(self, id, source, page=1, width=400, height=300, **kwargs):\n",
        "    self.id = id\n",
        "    if source == 'Bilibili':\n",
        "      src = f'https://player.bilibili.com/player.html?bvid={id}&page={page}'\n",
        "    elif source == 'Osf':\n",
        "      src = f'https://mfr.ca-1.osf.io/render?url=https://osf.io/download/{id}/?direct%26mode=render'\n",
        "    super(PlayVideo, self).__init__(src, width, height, **kwargs)\n",
        "\n",
        "\n",
        "def display_videos(video_ids, W=400, H=300, fs=1):\n",
        "  tab_contents = []\n",
        "  for i, video_id in enumerate(video_ids):\n",
        "    out = widgets.Output()\n",
        "    with out:\n",
        "      if video_ids[i][0] == 'Youtube':\n",
        "        video = YouTubeVideo(id=video_ids[i][1], width=W,\n",
        "                             height=H, fs=fs, rel=0)\n",
        "        print(f'Video available at https://youtube.com/watch?v={video.id}')\n",
        "      else:\n",
        "        video = PlayVideo(id=video_ids[i][1], source=video_ids[i][0], width=W,\n",
        "                          height=H, fs=fs, autoplay=False)\n",
        "        if video_ids[i][0] == 'Bilibili':\n",
        "          print(f'Video available at https://www.bilibili.com/video/{video.id}')\n",
        "        elif video_ids[i][0] == 'Osf':\n",
        "          print(f'Video available at https://osf.io/{video.id}')\n",
        "      display(video)\n",
        "    tab_contents.append(out)\n",
        "  return tab_contents\n",
        "\n",
        "\n",
        "video_ids = [('Youtube', 'SL0_6rw8zrM'), ('Bilibili', 'BV1bw411o7HR')]\n",
        "tab_contents = display_videos(video_ids, W=854, H=480)\n",
        "tabs = widgets.Tab()\n",
        "tabs.children = tab_contents\n",
        "for i in range(len(tab_contents)):\n",
        "  tabs.set_title(i, video_ids[i][0])\n",
        "display(tabs)"
      ]
    },
    {
      "cell_type": "code",
      "execution_count": null,
      "metadata": {
        "cellView": "form",
        "execution": {},
        "id": "VfayeyiWAxcf"
      },
      "outputs": [],
      "source": [
        "# @title Submit your feedback\n",
        "content_review(f\"{feedback_prefix}_Basic_Probability_Video\")"
      ]
    },
    {
      "cell_type": "markdown",
      "metadata": {
        "execution": {},
        "id": "VSDsE3T1Axcf"
      },
      "source": [
        "This video covers basic probability theory, including complementary probability, conditional probability, joint probability, and marginalisation.\n",
        "\n",
        "<details>\n",
        "<summary> <font color='blue'>Click here for text recap of video </font></summary>\n",
        "\n",
        "Previously we were only looking at sampling or properties of a single variables, but as we will now move on to statistical inference, it is useful to go over basic probability theory.\n",
        "\n",
        "\n",
        "As a reminder, probability has to be in the range 0 to 1\n",
        "$P(A) \\in  [0,1] $\n",
        "\n",
        "and the complementary can always be defined as\n",
        "\n",
        "$P(\\neg A) = 1-P(A)$\n",
        "\n",
        "\n",
        "When we have two variables, the *conditional probability* of $A$ given $B$ is\n",
        "\n",
        "$P (A|B) = P (A \\cap B)/P (B)=P (A, B)/P (B)$\n",
        "\n",
        "while the *joint probability* of $A$ and $B$ is\n",
        "\n",
        "$P(A \\cap B)=P(A,B) = P(B|A)P(A) = P(A|B)P(B) $\n",
        "\n",
        "We can then also define the process of *marginalisation* (for discrete variables) as\n",
        "\n",
        "$P(A)=\\sum P(A,B)=\\sum P(A|B)P(B)$\n",
        "\n",
        "where the summation is over the possible values of $B$.\n",
        "\n",
        "As an example if $B$ is a binary variable that can take values $B+$ or $B0$ then\n",
        "$P(A)=\\sum P(A,B)=P(A|B+)P(B+)+ P(A|B0)P(B0) $.\n",
        "\n",
        "For continuous variables marginalization is given as\n",
        "$P(A)=\\int P(A,B) dB=\\int P(A|B)P(B) dB$\n",
        "</details>"
      ]
    },
    {
      "cell_type": "markdown",
      "metadata": {
        "execution": {},
        "id": "RpkALAA5Axcg"
      },
      "source": [
        "### Math Exercise 1.1: Probability example\n",
        "\n",
        "To remind ourselves of how to use basic probability theory we will do a short exercise (no coding needed!), based on measurement of binary probabilistic neural responses.\n",
        "As shown by Hubel and Wiesel in 1959 there are neurons in primary visual cortex that respond to different orientations of visual stimuli, with different neurons being sensitive to different orientations. The numbers in the following are however purely fictional.\n",
        "\n",
        "Imagine that your collaborator tells you that they have recorded the activity of visual neurons while presenting either a horizontal or vertical grid as a visual stimulus. The activity of the neurons is measured as binary: they are either active or inactive in response to the stimulus.\n",
        "\n",
        "After recording from a large number of neurons they find that when presenting a horizontal grid, on average 40% of neurons are active, while 30% respond to vertical grids.\n",
        "\n",
        "We will use the following notation to indicate the probability that a randomly chosen neuron responds to horizontal grids\n",
        "\n",
        "\\begin{equation}\n",
        "P(h_+)=0.4\n",
        "\\end{equation}\n",
        "\n",
        "and this to show the probability it responds to vertical:\n",
        "\n",
        "\\begin{equation}\n",
        "P(v_+)=0.3\n",
        "\\end{equation}\n",
        "\n",
        "We can find the complementary event, that the neuron does not respond to the horizontal grid, using the fact that these events must add up to 1. We see that the probability the neuron does not respond to the horizontal grid ($h_0$) is\n",
        "\n",
        "\\begin{equation}\n",
        "P(h_0)=1-P(h_+)=0.6\n",
        "\\end{equation}\n",
        "\n",
        "and that the probability to not respond to vertical is\n",
        "\n",
        "\\begin{equation}\n",
        "P(v_0)=1-P(v_+)=0.7\n",
        "\\end{equation}\n",
        "\n",
        "We will practice computing various probabilities in this framework."
      ]
    },
    {
      "cell_type": "markdown",
      "metadata": {
        "execution": {},
        "id": "COfTHosKAxcg"
      },
      "source": [
        "### A) Product\n",
        "\n",
        "Assuming that the horizontal and vertical orientation selectivity are independent, what is the probability that a randomly chosen neuron is sensitive to both horizontal and vertical orientations?\n",
        "\n",
        "Hint: Two events are independent if the outcome of one does not affect the outcome of the other.\n",
        "\n",
        "\n"
      ]
    },
    {
      "cell_type": "code",
      "execution_count": null,
      "metadata": {
        "execution": {},
        "id": "hWXVWrvZAxcg"
      },
      "outputs": [],
      "source": [
        "# to_remove explanation\n",
        "\n",
        "\"\"\"\n",
        "Independent here means that P(h+,v+) = P(h+)𝑃(v+)\n",
        "\n",
        "P(h+,v+) = P(h+) P(v+) = 0.4*0.3 = 0.12\n",
        "\"\"\";"
      ]
    },
    {
      "cell_type": "markdown",
      "metadata": {
        "execution": {},
        "id": "79WfpwKuAxch"
      },
      "source": [
        "### B) Joint probability generally\n",
        "A collaborator informs you that actually these are not independent. Of those neurons that respond to vertical, only 10 percent also respond to horizontal, i.e. the probability of responding to horizonal *given* that it responds to vertical is $P(h+|v+)=0.1$\n",
        "\n",
        "Given this new information, what is now the probability that a randomly chosen neuron is sensitive to both horizontal and vertical orientations?\n",
        "\n",
        "\n",
        "\n"
      ]
    },
    {
      "cell_type": "code",
      "execution_count": null,
      "metadata": {
        "execution": {},
        "id": "29YLBxMgAxch"
      },
      "outputs": [],
      "source": [
        "# to_remove explanation\n",
        "\n",
        "\"\"\"\n",
        "Remember that joint probability can generally be expressed as  𝑃(𝑎,𝑏)=𝑃(𝑎|𝑏)𝑃(𝑏)\n",
        "\n",
        "P(h+,v+) = P(h+|v+)P(v+) = 0.1 ∗ 0.3 = 0.03\n",
        "\n",
        "\"\"\";"
      ]
    },
    {
      "cell_type": "markdown",
      "metadata": {
        "execution": {},
        "id": "m34Cl5DrAxch"
      },
      "source": [
        "### C) Conditional probability\n",
        "\n",
        "You start measuring from a neuron and find that it responds to horizontal orientations. What is now the probability that it also responds to vertical, i.e., $P(v_+|h_+)$)?\n",
        "\n",
        "\n",
        "\n",
        "\n",
        "\n"
      ]
    },
    {
      "cell_type": "code",
      "execution_count": null,
      "metadata": {
        "execution": {},
        "id": "K9yRDhlpAxci"
      },
      "outputs": [],
      "source": [
        "# to_remove explanation\n",
        "\n",
        "\"\"\"\n",
        "The conditional probability is given by P(a|b) = P(a,b)/P(b)\n",
        "\n",
        "P(v+|h+) = P(v+,h+)/P(h+) = P(h+|v+)P(v+)/P(h+) = 0.1∗0.3/0.4 = 0.075\n",
        "\"\"\";"
      ]
    },
    {
      "cell_type": "markdown",
      "metadata": {
        "execution": {},
        "id": "9z8N4VdSAxci"
      },
      "source": [
        "### D) Marginal probability\n",
        "\n",
        "Lastly, let's check that everything has been done correctly. Given our knowledge about the conditional probabilities, we should be able to use marginalisation to recover the marginal probability of a random neuron responding to vertical orientations, i.e.,$P(v_+)$. We know from above that this should equal 0.3.\n",
        "\n",
        "Calculate $P(v_+)$ based on the conditional probabilities for $P(v_+|h_+)$ and $P(v_+|h_0)$ (the latter which you will need to calculate).\n",
        "\n"
      ]
    },
    {
      "cell_type": "code",
      "execution_count": null,
      "metadata": {
        "execution": {},
        "id": "xgRni7UUAxci"
      },
      "outputs": [],
      "source": [
        "# to_remove explanation\n",
        "\n",
        "\"\"\"\n",
        "The first step is to calculute:\n",
        "P(v+|h0) = P(h0|v+)P(v+)/P(h0) = (1 − 0.1)∗0.3/(1 − 0.4) = 0.45\n",
        "\n",
        "Then use the property of marginalisation (discrete version)\n",
        "\n",
        "P(a) = Sum(i*P(a|b=i)P(b=i))\n",
        "\n",
        "P(v+) = P(v+|h+)P(h+) + P(v+|h0)P(h0) = 0.075∗0.4 + 0.45∗(1 − 0.4) = 0.3\n",
        "\n",
        "Phew, we recovered the correct value!\n",
        "\"\"\";"
      ]
    },
    {
      "cell_type": "code",
      "execution_count": null,
      "metadata": {
        "cellView": "form",
        "execution": {},
        "id": "bu4oP9Z8Axci"
      },
      "outputs": [],
      "source": [
        "# @title Submit your feedback\n",
        "content_review(f\"{feedback_prefix}_Probability_Example_Main_Exercise\")"
      ]
    },
    {
      "cell_type": "markdown",
      "metadata": {
        "execution": {},
        "id": "d5OZSfcNAxcj"
      },
      "source": [
        "## Section 1.2: Markov chains\n",
        "\n"
      ]
    },
    {
      "cell_type": "code",
      "execution_count": null,
      "metadata": {
        "cellView": "form",
        "execution": {},
        "id": "X_dp3fUgAxcj"
      },
      "outputs": [],
      "source": [
        "# @title Video 2: Markov Chains\n",
        "from ipywidgets import widgets\n",
        "from IPython.display import YouTubeVideo\n",
        "from IPython.display import IFrame\n",
        "from IPython.display import display\n",
        "\n",
        "\n",
        "class PlayVideo(IFrame):\n",
        "  def __init__(self, id, source, page=1, width=400, height=300, **kwargs):\n",
        "    self.id = id\n",
        "    if source == 'Bilibili':\n",
        "      src = f'https://player.bilibili.com/player.html?bvid={id}&page={page}'\n",
        "    elif source == 'Osf':\n",
        "      src = f'https://mfr.ca-1.osf.io/render?url=https://osf.io/download/{id}/?direct%26mode=render'\n",
        "    super(PlayVideo, self).__init__(src, width, height, **kwargs)\n",
        "\n",
        "\n",
        "def display_videos(video_ids, W=400, H=300, fs=1):\n",
        "  tab_contents = []\n",
        "  for i, video_id in enumerate(video_ids):\n",
        "    out = widgets.Output()\n",
        "    with out:\n",
        "      if video_ids[i][0] == 'Youtube':\n",
        "        video = YouTubeVideo(id=video_ids[i][1], width=W,\n",
        "                             height=H, fs=fs, rel=0)\n",
        "        print(f'Video available at https://youtube.com/watch?v={video.id}')\n",
        "      else:\n",
        "        video = PlayVideo(id=video_ids[i][1], source=video_ids[i][0], width=W,\n",
        "                          height=H, fs=fs, autoplay=False)\n",
        "        if video_ids[i][0] == 'Bilibili':\n",
        "          print(f'Video available at https://www.bilibili.com/video/{video.id}')\n",
        "        elif video_ids[i][0] == 'Osf':\n",
        "          print(f'Video available at https://osf.io/{video.id}')\n",
        "      display(video)\n",
        "    tab_contents.append(out)\n",
        "  return tab_contents\n",
        "\n",
        "\n",
        "video_ids = [('Youtube', 'XjQF13xMpss'), ('Bilibili', 'BV1Rh41187ZC')]\n",
        "tab_contents = display_videos(video_ids, W=854, H=480)\n",
        "tabs = widgets.Tab()\n",
        "tabs.children = tab_contents\n",
        "for i in range(len(tab_contents)):\n",
        "  tabs.set_title(i, video_ids[i][0])\n",
        "display(tabs)"
      ]
    },
    {
      "cell_type": "code",
      "execution_count": null,
      "metadata": {
        "cellView": "form",
        "execution": {},
        "id": "f4y5GLw_Axcj"
      },
      "outputs": [],
      "source": [
        "# @title Submit your feedback\n",
        "content_review(f\"{feedback_prefix}_Markov_Chains_Video\")"
      ]
    },
    {
      "cell_type": "markdown",
      "metadata": {
        "execution": {},
        "id": "7gK_LCAeAxck"
      },
      "source": [
        "\n",
        "### Coding exercise 1.2 Markov chains\n",
        "\n",
        "\n",
        "We will practice more probability theory by looking at **Markov chains**. The Markov property specifies that you can fully encapsulate the important properties of a system based on its *current* state at the current time, any previous history does not matter. It is memoryless.\n",
        "\n",
        "As an example imagine that a rat is able to move freely between 3 areas: a dark rest area\n",
        "($state=1$), a nesting area ($state=2$) and a bright area for collecting food ($state=3$). Every 5 minutes (timepoint $i$) we record the rat's location. We can use a **categorical distribution** to look at the probability that the rat moves to one state from another.\n",
        "\n",
        "The table below shows the probability of the rat transitioning from one area to another between timepoints ($state_i$ to $state_{i+1}$).\n",
        "\n",
        "\\begin{matrix}\n",
        "\\hline\n",
        "state_{i} &P(state_{i+1}=1|state_i=*) &P(state_{i+1}=2|state_i=*) & P(state_{i+1}=3|state=_i*) \\\\ \\hline\n",
        "state_{i}=1 & 0.2 & 0.6 & 0.2 \\\\\n",
        "state_{i}=2 & 0.6 & 0.3 & 0.1 \\\\\n",
        "state_{i}=3 & 0.8 & 0.2 & 0.0 \\\\\n",
        "\\hline\n",
        "\\end{matrix}\n",
        "\n",
        "We are modeling this as a Markov chain, so the animal is only in one of the states at a time and can transition between the states.\n",
        "\n",
        "We want to get the probability of each state at time $i+1$. We know from Section 1.1 that we can use marginalisation:\n",
        "\n",
        "\\begin{equation}\n",
        "P(state_{i+1} = 1) = P(state_{i+1}=1|state_i=1)P(state_i = 1) +  P(state_{i+1}=1|state_i=2)P(state_i = 2) +  P(state_{i+1}=1|state_i=3)P(state_i = 3)\n",
        "\\end{equation}\n",
        "\n",
        "Let's say we had a row vector (a vector defined as a row, not a column so matrix multiplication will work out) of the probabilities of the current state:\n",
        "\n",
        "\\begin{equation}\n",
        "P_i = [P(state_i = 1), P(state_i = 2), P(state_i = 3) ]\n",
        "\\end{equation}\n",
        "\n",
        "If we actually know where the rat is at the current time point, this would be deterministic (e.g., $P_i = [0, 1, 0]$ if the rat is in state 2). Otherwise, this could be probabilistic (e.g. $P_i = [0.1, 0.7, 0.2]$).\n",
        "\n",
        "To compute the vector of probabilities of the state at the time $i+1$, we can use linear algebra and multiply our vector of the probabilities of the current state with the transition matrix.  Recall your matrix multiplication skills from W0D3 to check this!\n",
        "\n",
        "\\begin{equation}\n",
        "P_{i+1} = P_{i} T\n",
        "\\end{equation}\n",
        "\n",
        "where $T$ is our transition matrix.\n",
        "\n",
        "This is the same formula for every step, which allows us to get the probabilities for a time more than 1 step in advance easily. If we started at $i=0$ and wanted to look at the probabilities at step $i=2$, we could do:\n",
        "\n",
        "\\begin{align}\n",
        "P_{1} &= P_{0}T\\\\\n",
        "P_{2} &= P_{1}T = P_{0}TT = P_{0}T^2\\\\\n",
        "\\end{align}\n",
        "\n",
        "So, every time we take a further step we can just multiply with the transition matrix again. So, the probability vector of states at j timepoints after the current state at timepoint i is equal to the probability vector at timepoint i times the transition matrix raised to the jth power.\n",
        "\n",
        "\\begin{equation}\n",
        "P_{i + j} = P_{i}T^j\n",
        "\\end{equation}\n",
        "\n",
        "If the animal starts in area 2, what is the probability the animal will again be in area 2 when we check on it 20 minutes (4 transitions) later?\n",
        "\n",
        "Fill in the transition matrix in the code below."
      ]
    },
    {
      "cell_type": "code",
      "execution_count": null,
      "metadata": {
        "execution": {},
        "id": "K-FBJZlmAxck"
      },
      "outputs": [],
      "source": [
        "###################################################################\n",
        "## TODO for student\n",
        "## Fill out the following then remove\n",
        "raise NotImplementedError(\"Student exercise: compute state probabilities after 4 transitions\")\n",
        "###################################################################\n",
        "\n",
        "# Transition matrix\n",
        "transition_matrix = np.array([[ 0.2, 0.6, 0.2], [ .6, 0.3, 0.1], [0.8, 0.2, 0]])\n",
        "\n",
        "# Initial state, p0\n",
        "p0 = np.array([0, 1, 0])\n",
        "\n",
        "# Compute the probabilities 4 transitions later (use np.linalg.matrix_power to raise a matrix a power)\n",
        "p4 = ...\n",
        "\n",
        "# The second area is indexed as 1 (Python starts indexing at 0)\n",
        "print(f\"The probability the rat will be in area 2 after 4 transitions is: {p4[1]}\")"
      ]
    },
    {
      "cell_type": "markdown",
      "metadata": {
        "execution": {},
        "id": "K8cVsFtqAxck"
      },
      "source": [
        "You should get a probability of `0.4311`, i.e., there is a 43.11% chance that you will find the rat in area 2 in 20 minutes."
      ]
    },
    {
      "cell_type": "code",
      "execution_count": null,
      "metadata": {
        "execution": {},
        "id": "l0Qhv1s3Axck"
      },
      "outputs": [],
      "source": [
        "# to_remove solution\n",
        "\n",
        "# Transition matrix\n",
        "transition_matrix = np.array([[ 0.2, 0.6, 0.2], [ .6, 0.3, 0.1], [0.8, 0.2, 0]])\n",
        "\n",
        "# Initial state, p0\n",
        "p0 = np.array([0, 1, 0])\n",
        "\n",
        "# Compute the probabilities 4 transitions later (use np.linalg.matrix_power to raise a matrix a power)\n",
        "p4 = p0 @ np.linalg.matrix_power(transition_matrix, 4)\n",
        "\n",
        "# The second area is indexed as 1 (Python starts indexing at 0)\n",
        "print(f\"The probability the rat will be in area 2 after 4 transitions is: {p4[1]}\")"
      ]
    },
    {
      "cell_type": "markdown",
      "metadata": {
        "execution": {},
        "id": "FuelgscZAxcl"
      },
      "source": [
        "What is the average amount of time spent by the rat in each of the states?\n",
        "\n",
        "Implicit in the question is the idea that we can start off with a random initial state and then measure how much relative time is spent in each area. If we make a few assumptions (e.g. ergodic or 'randomly mixing' system), we can instead start with an initial random distribution and see how the final probabilities of each state after many time steps (100) to estimate the time spent in each state."
      ]
    },
    {
      "cell_type": "code",
      "execution_count": null,
      "metadata": {
        "execution": {},
        "id": "WTOaAwP6Axcl"
      },
      "outputs": [],
      "source": [
        "# Initialize random initial distribution\n",
        "p_random = np.ones((1, 3))/3\n",
        "\n",
        "###################################################################\n",
        "## TODO for student: Fill compute the state matrix after 100 transitions\n",
        "raise NotImplementedError(\"Student exercise: need to complete computation below\")\n",
        "###################################################################\n",
        "\n",
        "# Fill in the missing line to get the state matrix after 100 transitions, like above\n",
        "p_average_time_spent = ...\n",
        "print(f\"The proportion of time spend by the rat in each of the three states is: {p_average_time_spent[0]}\")"
      ]
    },
    {
      "cell_type": "markdown",
      "metadata": {
        "execution": {},
        "id": "aRtozHkCAxcl"
      },
      "source": [
        "The proportion of time spend in each of the three areas are `0.4473`, `0.4211`, and `0.1316`, respectively."
      ]
    },
    {
      "cell_type": "code",
      "execution_count": null,
      "metadata": {
        "execution": {},
        "id": "ZMgmE9chAxcl"
      },
      "outputs": [],
      "source": [
        "# to_remove solution\n",
        "\n",
        "# Initialize random initial distribution\n",
        "p_random = np.ones((1, 3))/3\n",
        "\n",
        "# Fill in the missing line to get the state matrix after 100 transitions, like above\n",
        "p_average_time_spent = p_random @ np.linalg.matrix_power(transition_matrix, 100)\n",
        "print(f\"The proportion of time spend by the rat in each of the three states is: {p_average_time_spent[0]}\")"
      ]
    },
    {
      "cell_type": "code",
      "execution_count": null,
      "metadata": {
        "cellView": "form",
        "execution": {},
        "id": "tMUJ6_TrAxcm"
      },
      "outputs": [],
      "source": [
        "# @title Submit your feedback\n",
        "content_review(f\"{feedback_prefix}_Markov_Chains_Exercise\")"
      ]
    },
    {
      "cell_type": "markdown",
      "metadata": {
        "execution": {},
        "id": "iT9UcF1MAxcm"
      },
      "source": [
        "Imagine now that if the animal is satiated and tired the transitions change to:\n",
        "\n",
        "\\begin{matrix}\n",
        "\\hline\n",
        "state_{i} & P(state_{i+1}=1|state_i=*) & P(state_{i+1}=2|state_i=*) & P(state_{i+1}=3|state_i=*) \\\\\n",
        "\\hline\n",
        "state_{i}=1 & 0.2 & 0.7 & 0.1\\\\\n",
        "state_{i}=2 & 0.3 & 0.7 & 0.0\\\\\n",
        "state_{i}=3 & 0.8 & 0.2 & 0.0\\\\\n",
        "\\hline\n",
        "\\end{matrix}\n",
        "\n",
        "Try repeating the questions above for this table of transitions by changing the transition matrix. Based on the probability values, what would you predict? Check how much time the rat spends on average in each area and see if it matches your predictions.\n",
        "\n",
        "**Main course preview:** The Markov property is extremely important for many models, particularly Hidden Markov Models, discussed on [hidden dynamics day](https://compneuro.neuromatch.io/tutorials/W3D2_HiddenDynamics/chapter_title.html), and for methods such as Markov Chain Monte Carlo sampling."
      ]
    },
    {
      "cell_type": "markdown",
      "metadata": {
        "execution": {},
        "id": "vHxrA3cpAxcm"
      },
      "source": [
        "---\n",
        "# Section 2: Statistical inference and likelihood"
      ]
    },
    {
      "cell_type": "markdown",
      "metadata": {
        "execution": {},
        "id": "AQ_95Od-Axcm"
      },
      "source": [
        "## Section 2.1: Likelihoods"
      ]
    },
    {
      "cell_type": "code",
      "execution_count": null,
      "metadata": {
        "cellView": "form",
        "execution": {},
        "id": "R3Rrf-fdAxcm"
      },
      "outputs": [],
      "source": [
        "# @title Video 3: Statistical inference and likelihood\n",
        "from ipywidgets import widgets\n",
        "from IPython.display import YouTubeVideo\n",
        "from IPython.display import IFrame\n",
        "from IPython.display import display\n",
        "\n",
        "\n",
        "class PlayVideo(IFrame):\n",
        "  def __init__(self, id, source, page=1, width=400, height=300, **kwargs):\n",
        "    self.id = id\n",
        "    if source == 'Bilibili':\n",
        "      src = f'https://player.bilibili.com/player.html?bvid={id}&page={page}'\n",
        "    elif source == 'Osf':\n",
        "      src = f'https://mfr.ca-1.osf.io/render?url=https://osf.io/download/{id}/?direct%26mode=render'\n",
        "    super(PlayVideo, self).__init__(src, width, height, **kwargs)\n",
        "\n",
        "\n",
        "def display_videos(video_ids, W=400, H=300, fs=1):\n",
        "  tab_contents = []\n",
        "  for i, video_id in enumerate(video_ids):\n",
        "    out = widgets.Output()\n",
        "    with out:\n",
        "      if video_ids[i][0] == 'Youtube':\n",
        "        video = YouTubeVideo(id=video_ids[i][1], width=W,\n",
        "                             height=H, fs=fs, rel=0)\n",
        "        print(f'Video available at https://youtube.com/watch?v={video.id}')\n",
        "      else:\n",
        "        video = PlayVideo(id=video_ids[i][1], source=video_ids[i][0], width=W,\n",
        "                          height=H, fs=fs, autoplay=False)\n",
        "        if video_ids[i][0] == 'Bilibili':\n",
        "          print(f'Video available at https://www.bilibili.com/video/{video.id}')\n",
        "        elif video_ids[i][0] == 'Osf':\n",
        "          print(f'Video available at https://osf.io/{video.id}')\n",
        "      display(video)\n",
        "    tab_contents.append(out)\n",
        "  return tab_contents\n",
        "\n",
        "\n",
        "video_ids = [('Youtube', '7aiKvKlYwR0'), ('Bilibili', 'BV1LM4y1g7wT')]\n",
        "tab_contents = display_videos(video_ids, W=854, H=480)\n",
        "tabs = widgets.Tab()\n",
        "tabs.children = tab_contents\n",
        "for i in range(len(tab_contents)):\n",
        "  tabs.set_title(i, video_ids[i][0])\n",
        "display(tabs)"
      ]
    },
    {
      "cell_type": "code",
      "execution_count": null,
      "metadata": {
        "cellView": "form",
        "execution": {},
        "id": "WBed8IsbAxcn"
      },
      "outputs": [],
      "source": [
        "# @title Submit your feedback\n",
        "content_review(f\"{feedback_prefix}_Statistical_inference_and_likelihood_Video\")"
      ]
    },
    {
      "cell_type": "markdown",
      "metadata": {
        "execution": {},
        "id": "edFSjD8TAxc0"
      },
      "source": [
        "**Correction to video**: The variance estimate that maximizes the likelihood is $\\bar{\\sigma}^2=\\frac{1}{n} \\sum_i (x_i-\\bar{x})^2 $. This is a biased estimate. Shown in the video is the sample variance, which is an unbiased estimate for variance: $\\bar{\\sigma}^2=\\frac{1}{n-1} \\sum_i (x_i-\\bar{x})^2 $. See section 2.2.3 for more details."
      ]
    },
    {
      "cell_type": "markdown",
      "metadata": {
        "execution": {},
        "id": "GCy8keOiAxc1"
      },
      "source": [
        "<details>\n",
        "<summary> <font color='blue'>Click here for text recap of video </font></summary>\n",
        "\n",
        "A generative model (such as the Gaussian distribution from the previous tutorial) allows us to make predictions about outcomes.\n",
        "\n",
        "However, after we observe $n$ data points, we can also evaluate our model (and any of its associated parameters) by calculating the **likelihood** of our model having generated each of those data points $x_i$.\n",
        "\n",
        "\\begin{equation}\n",
        "P(x_i|\\mu,\\sigma)=\\mathcal{N}(x_i,\\mu,\\sigma)\n",
        "\\end{equation}\n",
        "\n",
        "For all data points $\\mathbf{x}=(x_1, x_2, x_3, ...x_n) $ we can then calculate the likelihood for the whole dataset by computing the product of the likelihood for each single data point.\n",
        "\n",
        "\\begin{equation}\n",
        "P(\\mathbf{x}|\\mu,\\sigma)=\\prod_{i=1}^n \\mathcal{N}(x_i,\\mu,\\sigma)\n",
        "\\end{equation}\n",
        "\n",
        "</details>\n",
        "\n",
        "While the likelihood may be written as a conditional probability ($P(x|\\mu,\\sigma)$), we refer to it as the **likelihood function**, $L(\\mu,\\sigma)$.  This slight switch in notation is to emphasize our focus: we use likelihood functions when the data points $\\mathbf{x}$ are fixed and we are focused on the parameters.\n",
        "\n",
        "Our new notation makes clear that the likelihood $L(\\mu,\\sigma)$ is a function of $\\mu$ and $\\sigma$, not of $\\mathbf{x}$.\n",
        "\n",
        "In the last tutorial we reviewed how the data was generated given the selected parameters of the generative process. If we do not know the parameters $\\mu$, $\\sigma$ that generated the data, we can try to **infer** which parameter values (given our model) gives the best (highest) likelihood. This is what we call statistical inference: trying to infer what parameters make our observed data the most likely or probable?"
      ]
    },
    {
      "cell_type": "markdown",
      "metadata": {
        "execution": {},
        "id": "Ri9AWccaAxc1"
      },
      "source": [
        "### Coding Exercise 2.1: Computing likelihood\n",
        "\n",
        "Let's start with computing the likelihood of some set of data points being drawn from a Gaussian distribution with a mean and variance we choose.\n",
        "\n",
        "\n",
        "\n",
        "As multiplying small probabilities together can lead to very small numbers, it is often convenient to report the *logarithm* of the likelihood. This is just a convenient transformation and as logarithm is a monotonically increasing function this does not change what parameters maximise the function.\n",
        "\n"
      ]
    },
    {
      "cell_type": "code",
      "execution_count": null,
      "metadata": {
        "execution": {},
        "id": "vNawK7ddAxc1"
      },
      "outputs": [],
      "source": [
        "def compute_likelihood_normal(x, mean_val, standard_dev_val):\n",
        "  \"\"\" Computes the log-likelihood values given a observed data sample x, and\n",
        "  potential mean and variance values for a normal distribution\n",
        "\n",
        "    Args:\n",
        "      x (ndarray): 1-D array with all the observed data\n",
        "      mean_val (scalar): value of mean for which to compute likelihood\n",
        "      standard_dev_val (scalar): value of variance for which to compute likelihood\n",
        "\n",
        "    Returns:\n",
        "      likelihood (scalar): value of likelihood for this combination of means/variances\n",
        "  \"\"\"\n",
        "\n",
        "  ###################################################################\n",
        "  ## TODO for student\n",
        "  raise NotImplementedError(\"Student exercise: compute likelihood\")\n",
        "  ###################################################################\n",
        "\n",
        "  # Get probability of each data point (use norm.pdf from scipy stats)\n",
        "  p_data = ...\n",
        "\n",
        "  # Compute likelihood (sum over the log of the probabilities)\n",
        "  likelihood = ...\n",
        "\n",
        "  return likelihood\n",
        "\n",
        "# Set random seed\n",
        "np.random.seed(0)\n",
        "\n",
        "# Generate data\n",
        "true_mean = 5\n",
        "true_standard_dev = 1\n",
        "n_samples = 1000\n",
        "x = np.random.normal(true_mean, true_standard_dev, size = (n_samples,))\n",
        "\n",
        "# Compute likelihood for a guessed mean/standard dev\n",
        "guess_mean = 4\n",
        "guess_standard_dev = .1\n",
        "likelihood = compute_likelihood_normal(x, guess_mean, guess_standard_dev)\n",
        "print(likelihood)"
      ]
    },
    {
      "cell_type": "markdown",
      "metadata": {
        "execution": {},
        "id": "fhh8IpL4Axc2"
      },
      "source": [
        "You should get a likelihood of `-92904.81`."
      ]
    },
    {
      "cell_type": "code",
      "execution_count": null,
      "metadata": {
        "execution": {},
        "id": "m-mO4QARAxc2"
      },
      "outputs": [],
      "source": [
        "# to_remove solution\n",
        "\n",
        "def compute_likelihood_normal(x, mean_val, standard_dev_val):\n",
        "  \"\"\" Computes the log-likelihood values given a observed data sample x, and\n",
        "  potential mean and variance values for a normal distribution\n",
        "\n",
        "    Args:\n",
        "      x (ndarray): 1-D array with all the observed data\n",
        "      mean_val (scalar): value of mean for which to compute likelihood\n",
        "      standard_dev_val (scalar): value of variance for which to compute likelihood\n",
        "\n",
        "    Returns:\n",
        "      likelihood (scalar): value of likelihood for this combination of means/variances\n",
        "  \"\"\"\n",
        "\n",
        "  # Get probability of each data point (use norm.pdf from scipy stats)\n",
        "  p_data = norm.pdf(x, mean_val, standard_dev_val)\n",
        "\n",
        "  # Compute likelihood (sum over the log of the probabilities)\n",
        "  likelihood = np.sum(np.log(p_data))\n",
        "\n",
        "  return likelihood\n",
        "\n",
        "# Set random seed\n",
        "np.random.seed(0)\n",
        "\n",
        "# Generate data\n",
        "true_mean = 5\n",
        "true_standard_dev = 1\n",
        "n_samples = 1000\n",
        "x = np.random.normal(true_mean, true_standard_dev, size = (n_samples,))\n",
        "\n",
        "# Compute likelihood for a guessed mean/standard dev\n",
        "guess_mean = 4\n",
        "guess_standard_dev = .1\n",
        "likelihood = compute_likelihood_normal(x, guess_mean, guess_standard_dev)\n",
        "print(likelihood)"
      ]
    },
    {
      "cell_type": "markdown",
      "metadata": {
        "execution": {},
        "id": "ehi8o8WOAxc2"
      },
      "source": [
        "This is somewhat meaningless to us! For it to be useful, we need to compare it to the likelihoods computing using other guesses of the mean or standard deviation. The visualization below shows us the likelihood for various values of the mean and the standard deviation. Essentially, we are performing a rough grid-search over means and standard deviations.  What would you guess as the true mean and standard deviation based on this visualization?"
      ]
    },
    {
      "cell_type": "code",
      "execution_count": null,
      "metadata": {
        "cellView": "form",
        "execution": {},
        "id": "_DkgYs-DAxc3"
      },
      "outputs": [],
      "source": [
        "# @markdown Execute to visualize likelihoods\n",
        "\n",
        "# Set random seed\n",
        "np.random.seed(0)\n",
        "\n",
        "# Generate data\n",
        "true_mean = 5\n",
        "true_standard_dev = 1\n",
        "n_samples = 1000\n",
        "x = np.random.normal(true_mean, true_standard_dev, size = (n_samples,))\n",
        "\n",
        "\n",
        "# Compute likelihood for different mean/variance values\n",
        "mean_vals = np.linspace(1, 10, 10) # potential mean values to ry\n",
        "standard_dev_vals = np.array([0.7, 0.8, 0.9, 1, 1.2, 1.5, 2, 3, 4, 5]) # potential variance values to try\n",
        "\n",
        "# Initialise likelihood collection array\n",
        "likelihood = np.zeros((mean_vals.shape[0], standard_dev_vals.shape[0]))\n",
        "\n",
        "# Compute the likelihood for observing the gvien data x assuming\n",
        "# each combination of mean and variance values\n",
        "for idxMean in range(mean_vals.shape[0]):\n",
        "  for idxVar in range(standard_dev_vals .shape[0]):\n",
        "    likelihood[idxVar,idxMean]= sum(np.log(norm.pdf(x, mean_vals[idxMean],\n",
        "                                              standard_dev_vals[idxVar])))\n",
        "\n",
        "# Uncomment once you've generated the samples and compute likelihoods\n",
        "xspace = np.linspace(0, 10, 100)\n",
        "plot_likelihoods(likelihood, mean_vals, standard_dev_vals)"
      ]
    },
    {
      "cell_type": "code",
      "execution_count": null,
      "metadata": {
        "cellView": "form",
        "execution": {},
        "id": "IrEVQ859Axc3"
      },
      "outputs": [],
      "source": [
        "# @title Submit your feedback\n",
        "content_review(f\"{feedback_prefix}_Computing_likelihood_Exercise\")"
      ]
    },
    {
      "cell_type": "markdown",
      "metadata": {
        "execution": {},
        "id": "VDnyyEtHAxc3"
      },
      "source": [
        "## Section 2.2: Maximum likelihood"
      ]
    },
    {
      "cell_type": "code",
      "execution_count": null,
      "metadata": {
        "cellView": "form",
        "execution": {},
        "id": "-puX2GXqAxc3"
      },
      "outputs": [],
      "source": [
        "# @title Video 4: Maximum likelihood\n",
        "from ipywidgets import widgets\n",
        "from IPython.display import YouTubeVideo\n",
        "from IPython.display import IFrame\n",
        "from IPython.display import display\n",
        "\n",
        "\n",
        "class PlayVideo(IFrame):\n",
        "  def __init__(self, id, source, page=1, width=400, height=300, **kwargs):\n",
        "    self.id = id\n",
        "    if source == 'Bilibili':\n",
        "      src = f'https://player.bilibili.com/player.html?bvid={id}&page={page}'\n",
        "    elif source == 'Osf':\n",
        "      src = f'https://mfr.ca-1.osf.io/render?url=https://osf.io/download/{id}/?direct%26mode=render'\n",
        "    super(PlayVideo, self).__init__(src, width, height, **kwargs)\n",
        "\n",
        "\n",
        "def display_videos(video_ids, W=400, H=300, fs=1):\n",
        "  tab_contents = []\n",
        "  for i, video_id in enumerate(video_ids):\n",
        "    out = widgets.Output()\n",
        "    with out:\n",
        "      if video_ids[i][0] == 'Youtube':\n",
        "        video = YouTubeVideo(id=video_ids[i][1], width=W,\n",
        "                             height=H, fs=fs, rel=0)\n",
        "        print(f'Video available at https://youtube.com/watch?v={video.id}')\n",
        "      else:\n",
        "        video = PlayVideo(id=video_ids[i][1], source=video_ids[i][0], width=W,\n",
        "                          height=H, fs=fs, autoplay=False)\n",
        "        if video_ids[i][0] == 'Bilibili':\n",
        "          print(f'Video available at https://www.bilibili.com/video/{video.id}')\n",
        "        elif video_ids[i][0] == 'Osf':\n",
        "          print(f'Video available at https://osf.io/{video.id}')\n",
        "      display(video)\n",
        "    tab_contents.append(out)\n",
        "  return tab_contents\n",
        "\n",
        "\n",
        "video_ids = [('Youtube', 'Fuwx_V64nEU'), ('Bilibili', 'BV1Lo4y1C7xy')]\n",
        "tab_contents = display_videos(video_ids, W=854, H=480)\n",
        "tabs = widgets.Tab()\n",
        "tabs.children = tab_contents\n",
        "for i in range(len(tab_contents)):\n",
        "  tabs.set_title(i, video_ids[i][0])\n",
        "display(tabs)"
      ]
    },
    {
      "cell_type": "code",
      "execution_count": null,
      "metadata": {
        "cellView": "form",
        "execution": {},
        "id": "xvwzxIsfAxc4"
      },
      "outputs": [],
      "source": [
        "# @title Submit your feedback\n",
        "content_review(f\"{feedback_prefix}_Maximum_likelihood_Video\")"
      ]
    },
    {
      "cell_type": "markdown",
      "metadata": {
        "execution": {},
        "id": "AjixbXdRAxc4"
      },
      "source": [
        "\n",
        "Implicitly, by looking for the parameters that give the highest likelihood in the last section, we have been searching for the **maximum likelihood** estimate.\n",
        "\\begin{equation}\n",
        "(\\hat{\\mu},\\hat{\\sigma}) = \\underset{\\mu,\\sigma}{\\operatorname{argmax}}L(\\mu,\\sigma) = \\underset{\\mu,\\sigma}{\\operatorname{argmax}} \\prod_{i=1}^n \\mathcal{N}(x_i,\\mu,\\sigma).\n",
        "\\end{equation}\n",
        "\n",
        "In next sections, we will look at other ways of inferring such parameter variables."
      ]
    },
    {
      "cell_type": "markdown",
      "metadata": {
        "execution": {},
        "id": "4c-WqYqoAxc4"
      },
      "source": [
        "### Section 2.2.1: Searching for best parameters\n",
        "\n",
        "We want to do inference on this data set, i.e. we want to infer the parameters that most likely gave rise to the data given our model. Intuitively that means that we want as good as possible a fit between the observed data and the probability distribution function with the best inferred parameters. We can search for the best parameters manually by trying out a bunch of possible values of the parameters, computing the likelihoods, and picking the parameters that resulted in the highest likelihood."
      ]
    },
    {
      "cell_type": "markdown",
      "metadata": {
        "execution": {},
        "id": "6_2pkVHcAxc4"
      },
      "source": [
        "#### Interactive Demo 2.2: Maximum likelihood inference\n",
        "\n",
        "Try to see how well you can fit the probability distribution to the data by using the demo sliders to control the mean and standard deviation parameters of the distribution. We will visualize the histogram of data points (in blue) and the Gaussian density curve with that mean and standard deviation (in red). Below, we print the log-likelihood.\n",
        "\n",
        "- What (approximate) values of mu and sigma result in the best fit?\n",
        "- How does the value below the plot (the log-likelihood) change with the quality of fit?"
      ]
    },
    {
      "cell_type": "code",
      "execution_count": null,
      "metadata": {
        "cellView": "form",
        "execution": {},
        "id": "9JCXUiVdAxc5"
      },
      "outputs": [],
      "source": [
        "# @markdown Make sure you execute this cell to enable the widget and fit by hand!\n",
        "# Generate data\n",
        "true_mean = 5\n",
        "true_standard_dev = 1\n",
        "n_samples = 1000\n",
        "vals = np.random.normal(true_mean, true_standard_dev, size = (n_samples,))\n",
        "\n",
        "def plotFnc(mu,sigma):\n",
        "  loglikelihood= sum(np.log(norm.pdf(vals,mu,sigma)))\n",
        "  #calculate histogram\n",
        "\n",
        "  #prepare to plot\n",
        "  fig, ax = plt.subplots()\n",
        "  ax.set_xlabel('x')\n",
        "  ax.set_ylabel('probability')\n",
        "\n",
        "  #plot histogram\n",
        "  count, bins, ignored = plt.hist(vals,density=True)\n",
        "  x = np.linspace(0,10,100)\n",
        "\n",
        "  #plot pdf\n",
        "  plt.plot(x, norm.pdf(x,mu,sigma),'r-')\n",
        "  plt.show()\n",
        "  print(\"The log-likelihood for the selected parameters is: \" + str(loglikelihood))\n",
        "\n",
        "#interact(plotFnc, mu=5.0, sigma=2.1);\n",
        "#interact(plotFnc, mu=widgets.IntSlider(min=0.0, max=10.0, step=1, value=4.0),sigma=widgets.IntSlider(min=0.1, max=10.0, step=1, value=4.0));\n",
        "interact(plotFnc, mu=(0.0, 15.0, 0.1),sigma=(0.1, 5.0, 0.1));"
      ]
    },
    {
      "cell_type": "code",
      "execution_count": null,
      "metadata": {
        "execution": {},
        "id": "QMMasTwOAxc5"
      },
      "outputs": [],
      "source": [
        "# to_remove explanation\n",
        "\n",
        "\"\"\"\n",
        "- The log-likelihood should be greatest when mu=5 and sigma=1.\n",
        "- The summed log-liklihood increases (becomes less negative) as the fit improves\n",
        "\"\"\";"
      ]
    },
    {
      "cell_type": "markdown",
      "metadata": {
        "execution": {},
        "id": "rMlQLcDtAxc5"
      },
      "source": [
        "Doing this was similar to the grid searched image from Section 2.1. Really, we want to see if we can do inference on observed data in a bit more principled way.\n"
      ]
    },
    {
      "cell_type": "code",
      "execution_count": null,
      "metadata": {
        "cellView": "form",
        "execution": {},
        "id": "AFRSVgtBAxc6"
      },
      "outputs": [],
      "source": [
        "# @title Submit your feedback\n",
        "content_review(f\"{feedback_prefix}_Maximum_likelihood_inference_Interactive_Demo\")"
      ]
    },
    {
      "cell_type": "markdown",
      "metadata": {
        "execution": {},
        "id": "-CFTu5x6Axc6"
      },
      "source": [
        "### Section 2.2.2: Optimization to find parameters\n",
        "\n",
        "Let's again assume that we have a data set, $\\mathbf{x}$, assumed to be generated by a normal distribution (we actually generate it ourselves in line 1, so we know how it was generated!).\n",
        "We want to maximise the likelihood of the parameters $\\mu$ and $\\sigma^2$. We can do so using a couple of tricks:\n",
        "\n",
        "*   Using a log transform will not change the maximum of the function, but will allow us to work with very small numbers that could lead to problems with machine precision.\n",
        "*   Maximising a function is the same as minimising the negative of a function, allowing us to use the minimize optimisation provided by scipy.\n",
        "\n",
        "The optimisation will be done using `sp.optimize.minimize`, which does a version of gradient descent (there are hundreds of ways to do numerical optimisation, we will not cover these here!)."
      ]
    },
    {
      "cell_type": "markdown",
      "metadata": {
        "execution": {},
        "id": "zL5n_jWhAxc6"
      },
      "source": [
        "#### Coding Exercise 2.2: Maximum Likelihood Estimation\n",
        "\n",
        "\n",
        "In the code below, insert the missing line (see the `compute_likelihood_normal` function from previous exercise), with the mean as `theta[0]` and standard deviation as `theta[1]`.\n"
      ]
    },
    {
      "cell_type": "code",
      "execution_count": null,
      "metadata": {
        "execution": {},
        "id": "xyesun5zAxc6"
      },
      "outputs": [],
      "source": [
        "# We define the function to optimise, the negative log likelihood\n",
        "def negLogLike(theta, x):\n",
        "  \"\"\" Function for computing the negative log-likelihood given the observed data\n",
        "      and given parameter values stored in theta.\n",
        "\n",
        "      Args:\n",
        "        theta (ndarray): normal distribution parameters\n",
        "                        (mean is theta[0], standard deviation is theta[1])\n",
        "        x (ndarray): array with observed data points\n",
        "\n",
        "      Returns:\n",
        "        Calculated negative Log Likelihood value!\n",
        "  \"\"\"\n",
        "  ###################################################################\n",
        "  ## TODO for students: Compute the negative log-likelihood value for the\n",
        "  ## given observed data values and parameters (theta)\n",
        "  # Fill out the following then remove\n",
        "  raise NotImplementedError(\"Student exercise: need to compute the negative \\\n",
        "                                log-likelihood value\")\n",
        "  ###################################################################\n",
        "  return ...\n",
        "\n",
        "# Set random seed\n",
        "np.random.seed(0)\n",
        "\n",
        "# Generate data\n",
        "true_mean = 5\n",
        "true_standard_dev = 1\n",
        "n_samples = 1000\n",
        "x = np.random.normal(true_mean, true_standard_dev, size=(n_samples, ))\n",
        "\n",
        "# Define bounds, var has to be positive\n",
        "bnds = ((None, None), (0, None))\n",
        "\n",
        "# Optimize with scipy!\n",
        "optimal_parameters = sp.optimize.minimize(negLogLike, (2, 2), args=x, bounds=bnds)\n",
        "print(f\"The optimal mean estimate is: {optimal_parameters.x[0]}\")\n",
        "print(f\"The optimal standard deviation estimate is: {optimal_parameters.x[1]}\")\n",
        "\n",
        "# optimal_parameters contains a lot of information about the optimization,\n",
        "# but we mostly want the mean and standard deviation"
      ]
    },
    {
      "cell_type": "code",
      "execution_count": null,
      "metadata": {
        "execution": {},
        "id": "t_Irycx2Axc7"
      },
      "outputs": [],
      "source": [
        "# to_remove solution\n",
        "\n",
        "# We define the function to optimise, the negative log likelihood\n",
        "def negLogLike(theta, x):\n",
        "  \"\"\" Function for computing the negative log-likelihood given the observed data\n",
        "      and given parameter values stored in theta.\n",
        "\n",
        "      Args:\n",
        "        theta (ndarray): normal distribution parameters\n",
        "                        (mean is theta[0], standard deviation is theta[1])\n",
        "        x (ndarray): array with observed data points\n",
        "\n",
        "      Returns:\n",
        "        Calculated negative Log Likelihood value!\n",
        "  \"\"\"\n",
        "  return -sum(np.log(norm.pdf(x, theta[0], theta[1])))\n",
        "\n",
        "# Set random seed\n",
        "np.random.seed(0)\n",
        "\n",
        "# Generate data\n",
        "true_mean = 5\n",
        "true_standard_dev = 1\n",
        "n_samples = 1000\n",
        "x = np.random.normal(true_mean, true_standard_dev, size=(n_samples, ))\n",
        "\n",
        "# Define bounds, var has to be positive\n",
        "bnds = ((None, None), (0, None))\n",
        "\n",
        "# Optimize with scipy!\n",
        "optimal_parameters = sp.optimize.minimize(negLogLike, (2, 2), args=x, bounds=bnds)\n",
        "print(f\"The optimal mean estimate is: {optimal_parameters.x[0]}\")\n",
        "print(f\"The optimal standard deviation estimate is: {optimal_parameters.x[1]}\")\n",
        "\n",
        "# optimal_parameters contains a lot of information about the optimization,\n",
        "# but we mostly want the mean and standard deviation"
      ]
    },
    {
      "cell_type": "markdown",
      "metadata": {
        "execution": {},
        "id": "wmPeNMcSAxc7"
      },
      "source": [
        "These are the approximations of the parameters that maximise the likelihood ($\\mu$ ~ 5.280 and $\\sigma$ ~ 1.148).\n"
      ]
    },
    {
      "cell_type": "code",
      "execution_count": null,
      "metadata": {
        "cellView": "form",
        "execution": {},
        "id": "eGGiz0xHAxc7"
      },
      "outputs": [],
      "source": [
        "# @title Submit your feedback\n",
        "content_review(f\"{feedback_prefix}_Maximum_likelihood_estimation_Exercise\")"
      ]
    },
    {
      "cell_type": "markdown",
      "metadata": {
        "execution": {},
        "id": "0dcMk_1AAxc8"
      },
      "source": [
        "### Section 2.2.3: Analytical solution\n",
        "\n",
        "Sometimes, things work out well and we can come up with formulas for the maximum likelihood estimates of parameters. We won't get into this further but basically we could set the derivative of the likelihood to 0 (to find a maximum) and solve for the parameters. This won't always work but for the Gaussian distribution, it does.\n",
        "\n",
        "Specifically , the special thing about the Gaussian is that mean and standard deviation of the random sample can effectively approximate the two parameters of a Gaussian, $\\mu, \\sigma$.\n",
        "\n",
        "\n",
        "Hence using the  mean, $\\bar{x}=\\frac{1}{n}\\sum_i x_i$, and variance, $\\bar{\\sigma}^2=\\frac{1}{n} \\sum_i (x_i-\\bar{x})^2 $ of the sample should give us the best/maximum likelihood, $L(\\bar{x},\\bar{\\sigma}^2)$.\n",
        "\n",
        "Let's compare these values to those we've been finding using manual search and optimization, and the true values (which we only know because we generated the numbers!)."
      ]
    },
    {
      "cell_type": "code",
      "execution_count": null,
      "metadata": {
        "execution": {},
        "id": "E0uB_VJ3Axc8"
      },
      "outputs": [],
      "source": [
        "# Set random seed\n",
        "np.random.seed(0)\n",
        "\n",
        "# Generate data\n",
        "true_mean = 5\n",
        "true_standard_dev = 1\n",
        "n_samples = 1000\n",
        "x = np.random.normal(true_mean, true_standard_dev, size=(n_samples, ))\n",
        "\n",
        "# Compute and print sample means and standard deviations\n",
        "print(f\"This is the sample mean as estimated by numpy: {np.mean(x)}\")\n",
        "print(f\"This is the sample standard deviation as estimated by numpy: {np.std(x)}\")"
      ]
    },
    {
      "cell_type": "code",
      "execution_count": null,
      "metadata": {
        "execution": {},
        "id": "N95jWZjYAxc8"
      },
      "outputs": [],
      "source": [
        "# to_remove explanation\n",
        "\n",
        "\"\"\" You should notice that the parameters estimated by maximum likelihood\n",
        "estimation/inference are very close to the true parameters (mu = 5, sigma = 1),\n",
        "as well as the parameters visualized to be best after Coding Exercise 2.1,\n",
        " where all likelihood values were calculated explicitly.\n",
        "\"\"\";"
      ]
    },
    {
      "cell_type": "markdown",
      "metadata": {
        "execution": {},
        "id": "lcSurZSnAxc8"
      },
      "source": [
        "If you try out different values of the mean and standard deviation in all the previous exercises, you should see that changing the mean and\n",
        "sigma parameter values (and generating new data from a distribution with theseparameters) makes no difference as MLE methods can still recover these parameters.\n",
        "\n",
        "There is a slight problem: it turns out that the maximum likelihood estimate for the variance is actually a biased one! This means that the estimators expected value (mean value) and the true value of the parameter are different.  An unbiased estimator for the variance is $\\bar{\\sigma}^2=\\frac{1}{n-1} \\sum_i (x_i-\\bar{x})^2 $, this is called the sample variance. For more details, see [the wiki page on bias of estimators](https://en.wikipedia.org/wiki/Bias_of_an_estimator)."
      ]
    },
    {
      "cell_type": "code",
      "execution_count": null,
      "metadata": {
        "cellView": "form",
        "execution": {},
        "id": "CFuEDfU5Axc9"
      },
      "outputs": [],
      "source": [
        "# @title Submit your feedback\n",
        "content_review(f\"{feedback_prefix}_Analytical_Solution_Exercise\")"
      ]
    },
    {
      "cell_type": "markdown",
      "metadata": {
        "execution": {},
        "id": "jwJ0fWHNAxc9"
      },
      "source": [
        "---\n",
        "# Section 3: Bayesian Inference"
      ]
    },
    {
      "cell_type": "markdown",
      "metadata": {
        "execution": {},
        "id": "HrqpEcz5Axc9"
      },
      "source": [
        "## Section 3.1: Bayes"
      ]
    },
    {
      "cell_type": "code",
      "execution_count": 1,
      "metadata": {
        "cellView": "form",
        "execution": {},
        "id": "CyRWYBkYAxc9",
        "outputId": "2b4ffaf6-704d-4aa3-9a68-913c0808f537",
        "colab": {
          "base_uri": "https://localhost:8080/",
          "height": 583,
          "referenced_widgets": [
            "cbe3743e95c140d0995e7c5cee57285b",
            "f038bf1ca25d4d26a74dc350ea386afd",
            "fd67f94559a640d9a0224ae276c9fdb7",
            "73d5382b3992403dac1142a66a7b578a",
            "f20cdb68533b4737ae811573cc1e3842",
            "477d431ac9104b00a39e9c7f9ddb3903"
          ]
        }
      },
      "outputs": [
        {
          "output_type": "display_data",
          "data": {
            "text/plain": [
              "Tab(children=(Output(), Output()), _titles={'0': 'Youtube', '1': 'Bilibili'})"
            ],
            "application/vnd.jupyter.widget-view+json": {
              "version_major": 2,
              "version_minor": 0,
              "model_id": "cbe3743e95c140d0995e7c5cee57285b"
            }
          },
          "metadata": {}
        }
      ],
      "source": [
        "# @title Video 5: Bayesian inference with Gaussian distribution\n",
        "from ipywidgets import widgets\n",
        "from IPython.display import YouTubeVideo\n",
        "from IPython.display import IFrame\n",
        "from IPython.display import display\n",
        "\n",
        "\n",
        "class PlayVideo(IFrame):\n",
        "  def __init__(self, id, source, page=1, width=400, height=300, **kwargs):\n",
        "    self.id = id\n",
        "    if source == 'Bilibili':\n",
        "      src = f'https://player.bilibili.com/player.html?bvid={id}&page={page}'\n",
        "    elif source == 'Osf':\n",
        "      src = f'https://mfr.ca-1.osf.io/render?url=https://osf.io/download/{id}/?direct%26mode=render'\n",
        "    super(PlayVideo, self).__init__(src, width, height, **kwargs)\n",
        "\n",
        "\n",
        "def display_videos(video_ids, W=400, H=300, fs=1):\n",
        "  tab_contents = []\n",
        "  for i, video_id in enumerate(video_ids):\n",
        "    out = widgets.Output()\n",
        "    with out:\n",
        "      if video_ids[i][0] == 'Youtube':\n",
        "        video = YouTubeVideo(id=video_ids[i][1], width=W,\n",
        "                             height=H, fs=fs, rel=0)\n",
        "        print(f'Video available at https://youtube.com/watch?v={video.id}')\n",
        "      else:\n",
        "        video = PlayVideo(id=video_ids[i][1], source=video_ids[i][0], width=W,\n",
        "                          height=H, fs=fs, autoplay=False)\n",
        "        if video_ids[i][0] == 'Bilibili':\n",
        "          print(f'Video available at https://www.bilibili.com/video/{video.id}')\n",
        "        elif video_ids[i][0] == 'Osf':\n",
        "          print(f'Video available at https://osf.io/{video.id}')\n",
        "      display(video)\n",
        "    tab_contents.append(out)\n",
        "  return tab_contents\n",
        "\n",
        "\n",
        "video_ids = [('Youtube', '1Q3VqcpfvBk'), ('Bilibili', 'BV11K4y1u7vH')]\n",
        "tab_contents = display_videos(video_ids, W=854, H=480)\n",
        "tabs = widgets.Tab()\n",
        "tabs.children = tab_contents\n",
        "for i in range(len(tab_contents)):\n",
        "  tabs.set_title(i, video_ids[i][0])\n",
        "display(tabs)"
      ]
    },
    {
      "cell_type": "code",
      "execution_count": null,
      "metadata": {
        "cellView": "form",
        "execution": {},
        "id": "gDPu-jHkAxc-"
      },
      "outputs": [],
      "source": [
        "# @title Submit your feedback\n",
        "content_review(f\"{feedback_prefix}_Bayesian_inference_with_Gaussian_distribution_Video\")"
      ]
    },
    {
      "cell_type": "markdown",
      "source": [
        "**Note:** The Bayes rule in the video (0:14-3:05) contains a typo: the denominator should be $P(x)$ and not $P(x,\\theta)$. So, the formula should be $ P(\\theta | x) = \\frac{P(x|\\theta) P(\\theta)}{P(x)}$."
      ],
      "metadata": {
        "id": "kkcfZDlUBGzM"
      }
    },
    {
      "cell_type": "markdown",
      "metadata": {
        "execution": {},
        "id": "tiOMuMJ0Axc-"
      },
      "source": [
        "We will start to introduce Bayesian inference here to contrast with our maximum likelihood methods, but you will also revisit Bayesian inference in great detail on [Bayesian Decisions day](https://compneuro.neuromatch.io/tutorials/W3D1_BayesianDecisions/chapter_title.html) of the course so we won't dive into all details.\n",
        "\n",
        "For Bayesian inference we do not focus on the likelihood function $L(y)=P(x|y)$, but instead focus on the posterior distribution:\n",
        "\n",
        "\\begin{equation}\n",
        "P(y|x)=\\frac{P(x|y)P(y)}{P(x)}\n",
        "\\end{equation}\n",
        "\n",
        "which is composed of the **likelihood** function $P(x|y)$, the **prior** $P(y)$ and a normalising term $P(x)$ (which we will ignore for now).\n",
        "\n",
        "While there are other advantages to using Bayesian inference (such as the ability to derive Bayesian Nets, see optional bonus task below), we will start by focusing on the role of the prior in inference. Does including prior information allow us to infer parameters in a better way?"
      ]
    },
    {
      "cell_type": "markdown",
      "metadata": {
        "execution": {},
        "id": "lYX5dV35Axc-"
      },
      "source": [
        "### Think! 3.1: Bayesian inference with Gaussian distribution\n",
        "\n",
        "In the above sections we performed inference using maximum likelihood, i.e. finding the parameters that maximised the likelihood of a set of parameters, given the model and data.\n",
        "\n",
        "We will now repeat the inference process, but with an added Bayesian prior, and compare it to the \"classical\" inference (maximum likelihood) process we did before (Section 2). When using conjugate priors (more on this below) we can just update the parameter values of the distributions (here Gaussian distributions).\n",
        "\n",
        "\n",
        "For the prior we start by guessing a mean of 5 (mean of previously observed data points 4 and 6) and variance of 1 (variance of 4 and 6). We use a trick (not detailed here) that is a simplified way of applying a prior, that allows us to just add these 2 values (pseudo-data) to the real data.\n",
        "\n",
        "See the visualization below that shows the mean and standard deviation inferred by our classical maximum likelihood approach and the Bayesian approach for different numbers of data points.\n",
        "\n",
        "Remembering that our true values are $\\mu = 5$, and $\\sigma^2 = 1$, how do the Bayesian inference and classical inference compare?"
      ]
    },
    {
      "cell_type": "code",
      "execution_count": null,
      "metadata": {
        "cellView": "form",
        "execution": {},
        "id": "1vtusQFQAxc_"
      },
      "outputs": [],
      "source": [
        "# @markdown Execute to visualize inference\n",
        "\n",
        "def classic_vs_bayesian_normal(mu, sigma, num_points, prior):\n",
        "  \"\"\" Compute both classical and Bayesian inference processes over the range of\n",
        "  data sample sizes (num_points) for a normal distribution with parameters\n",
        "  mu,sigma for comparison.\n",
        "\n",
        "  Args:\n",
        "    mu (scalar): the mean parameter of the normal distribution\n",
        "    sigma (scalar): the standard deviation parameter of the normal distribution\n",
        "    num_points (int): max number of points to use for inference\n",
        "    prior (ndarray): prior data points for Bayesian inference\n",
        "\n",
        "  Returns:\n",
        "    mean_classic (ndarray): estimate mean parameter via classic inference\n",
        "    var_classic (ndarray): estimate variance parameter via classic inference\n",
        "    mean_bayes (ndarray): estimate mean parameter via Bayesian inference\n",
        "    var_bayes (ndarray): estimate variance parameter via Bayesian inference\n",
        "  \"\"\"\n",
        "\n",
        "  # Initialize the classical and Bayesian inference arrays that will estimate\n",
        "  # the normal parameters given a certain number of randomly sampled data points\n",
        "  mean_classic = np.zeros(num_points)\n",
        "  var_classic = np.zeros(num_points)\n",
        "\n",
        "  mean_bayes = np.zeros(num_points)\n",
        "  var_bayes = np.zeros(num_points)\n",
        "\n",
        "  for nData in range(num_points):\n",
        "\n",
        "    random_num_generator = default_rng(0)\n",
        "    x = random_num_generator.normal(mu, sigma, nData + 1)\n",
        "\n",
        "    # Compute the mean of those points and set the corresponding array entry to this value\n",
        "    mean_classic[nData] = np.mean(x)\n",
        "\n",
        "    # Compute the variance of those points and set the corresponding array entry to this value\n",
        "    var_classic[nData] = np.var(x)\n",
        "\n",
        "    # Bayesian inference with the given prior is performed below for you\n",
        "    xsupp = np.hstack((x, prior))\n",
        "    mean_bayes[nData] = np.mean(xsupp)\n",
        "    var_bayes[nData] = np.var(xsupp)\n",
        "\n",
        "  return mean_classic, var_classic, mean_bayes, var_bayes\n",
        "\n",
        "# Set random seed\n",
        "np.random.seed(0)\n",
        "\n",
        "# Set normal distribution parameters, mu and sigma\n",
        "mu = 5\n",
        "sigma = 1\n",
        "\n",
        "# Set the prior to be two new data points, 4 and 6, and print the mean and variance\n",
        "prior = np.array((4, 6))\n",
        "print(\"The mean of the data comprising the prior is: \" + str(np.mean(prior)))\n",
        "print(\"The variance of the data comprising the prior is: \" + str(np.var(prior)))\n",
        "\n",
        "mean_classic, var_classic, mean_bayes, var_bayes = classic_vs_bayesian_normal(mu, sigma, 60, prior)\n",
        "plot_classical_vs_bayesian_normal(60, mean_classic, var_classic, mean_bayes, var_bayes)"
      ]
    },
    {
      "cell_type": "code",
      "execution_count": null,
      "metadata": {
        "execution": {},
        "id": "FW_JHwRFAxc_"
      },
      "outputs": [],
      "source": [
        "# to_remove explanation\n",
        "\n",
        "\"\"\"\n",
        "Hopefully you can see that the blue line stays a little closer to the true values (mu=5, sigma^2=1).\n",
        "\n",
        " Having a simple prior in the Bayesian inference process (blue) helps to regularise\n",
        " the inference of the mean and variance parameters when you have very little data,\n",
        " but has little effect with large data sets. You can see that as the number of data points\n",
        " (x-axis) increases, both inference processes (blue and red lines) get closer and closer\n",
        " together, i.e., their estimates for the true parameters converge as sample size increases.\n",
        "\"\"\";"
      ]
    },
    {
      "cell_type": "markdown",
      "metadata": {
        "execution": {},
        "id": "FMKTWBhZAxc_"
      },
      "source": [
        "\n",
        "\n",
        "Note that the prior is only beneficial when it is close to the true value, i.e., 'a good guess' (or at least not 'a bad guess'). As we will see in the next exercise, if you have a prior/bias that is very wrong, your inference will start off very wrong!"
      ]
    },
    {
      "cell_type": "code",
      "execution_count": null,
      "metadata": {
        "cellView": "form",
        "execution": {},
        "id": "KUIwd25tAxdA"
      },
      "outputs": [],
      "source": [
        "# @title Submit your feedback\n",
        "content_review(f\"{feedback_prefix}_Bayesian_inference_with_Gaussian_distribution_Discussion\")"
      ]
    },
    {
      "cell_type": "markdown",
      "metadata": {
        "execution": {},
        "id": "mH-A5o_EAxdA"
      },
      "source": [
        "## Section 3.2: Conjugate priors"
      ]
    },
    {
      "cell_type": "code",
      "execution_count": null,
      "metadata": {
        "cellView": "form",
        "execution": {},
        "id": "MWUXSdVkAxdA"
      },
      "outputs": [],
      "source": [
        "# @title Video 6: Conjugate priors\n",
        "from ipywidgets import widgets\n",
        "from IPython.display import YouTubeVideo\n",
        "from IPython.display import IFrame\n",
        "from IPython.display import display\n",
        "\n",
        "\n",
        "class PlayVideo(IFrame):\n",
        "  def __init__(self, id, source, page=1, width=400, height=300, **kwargs):\n",
        "    self.id = id\n",
        "    if source == 'Bilibili':\n",
        "      src = f'https://player.bilibili.com/player.html?bvid={id}&page={page}'\n",
        "    elif source == 'Osf':\n",
        "      src = f'https://mfr.ca-1.osf.io/render?url=https://osf.io/download/{id}/?direct%26mode=render'\n",
        "    super(PlayVideo, self).__init__(src, width, height, **kwargs)\n",
        "\n",
        "\n",
        "def display_videos(video_ids, W=400, H=300, fs=1):\n",
        "  tab_contents = []\n",
        "  for i, video_id in enumerate(video_ids):\n",
        "    out = widgets.Output()\n",
        "    with out:\n",
        "      if video_ids[i][0] == 'Youtube':\n",
        "        video = YouTubeVideo(id=video_ids[i][1], width=W,\n",
        "                             height=H, fs=fs, rel=0)\n",
        "        print(f'Video available at https://youtube.com/watch?v={video.id}')\n",
        "      else:\n",
        "        video = PlayVideo(id=video_ids[i][1], source=video_ids[i][0], width=W,\n",
        "                          height=H, fs=fs, autoplay=False)\n",
        "        if video_ids[i][0] == 'Bilibili':\n",
        "          print(f'Video available at https://www.bilibili.com/video/{video.id}')\n",
        "        elif video_ids[i][0] == 'Osf':\n",
        "          print(f'Video available at https://osf.io/{video.id}')\n",
        "      display(video)\n",
        "    tab_contents.append(out)\n",
        "  return tab_contents\n",
        "\n",
        "\n",
        "video_ids = [('Youtube', 'mDEyZHaG5aY'), ('Bilibili', 'BV1Hg41137Zr')]\n",
        "tab_contents = display_videos(video_ids, W=854, H=480)\n",
        "tabs = widgets.Tab()\n",
        "tabs.children = tab_contents\n",
        "for i in range(len(tab_contents)):\n",
        "  tabs.set_title(i, video_ids[i][0])\n",
        "display(tabs)"
      ]
    },
    {
      "cell_type": "code",
      "execution_count": null,
      "metadata": {
        "cellView": "form",
        "execution": {},
        "id": "KGGLpY81AxdA"
      },
      "outputs": [],
      "source": [
        "# @title Submit your feedback\n",
        "content_review(f\"{feedback_prefix}_Conjugate_priors_Video\")"
      ]
    },
    {
      "cell_type": "markdown",
      "metadata": {
        "execution": {},
        "id": "2-sEKpKoAxdB"
      },
      "source": [
        "### Interactive Demo 3.2: Conjugate priors\n",
        "Let's return to our example from Tutorial 1 using the binomial distribution - rat in a T-maze.\n",
        "\n",
        "Bayesian inference can be used for any likelihood distribution, but it is a lot more convenient to work with **conjugate** priors, where multiplying the prior with the likelihood just provides another instance of the prior distribution with updated values.\n",
        "\n",
        "For the binomial likelihood it is convenient to use the **beta** distribution as a prior\n",
        "\n",
        "\\begin{equation}\n",
        "f(p;\\alpha ,\\beta )={\\frac {1}{\\mathrm {B} (\\alpha ,\\beta )}}p^{\\alpha -1}(1-p)^{\\beta -1}\n",
        "\\end{equation}\n",
        "\n",
        "where $B$ is the beta function, $\\alpha$ and $\\beta$ are parameters, and $p$ is the probability of the rat turning left or right. The beta distribution is thus a distribution over a probability.\n",
        "\n",
        "Given a series of Left and Right moves of the rat, we can now estimate the probability that the animal will turn left. Using Bayesian Inference, we use a beta distribution *prior*, which is then multiplied with the *likelihood* to create a *posterior* that is also a beta distribution, but with updated parameters (we will not cover the math here).\n",
        "\n",
        "Activate the widget below to explore the variables, and follow the instructions below."
      ]
    },
    {
      "cell_type": "code",
      "execution_count": null,
      "metadata": {
        "cellView": "form",
        "execution": {},
        "id": "rtPnkMqxAxdB"
      },
      "outputs": [],
      "source": [
        "#@title\n",
        "\n",
        "#@markdown Make sure you execute this cell to enable the widget\n",
        "\n",
        "#beta distribution\n",
        "#and binomial\n",
        "def plotFnc(p,n,priorL,priorR):\n",
        "  # Set random seed\n",
        "  np.random.seed(1)\n",
        "  #sample from binomial\n",
        "  numL = np.random.binomial(n, p, 1)\n",
        "  numR = n - numL\n",
        "  stepSize=0.001\n",
        "  x = np.arange(0, 1, stepSize)\n",
        "  betaPdf=sp.stats.beta.pdf(x,numL+priorL,numR+priorR)\n",
        "  betaPrior=sp.stats.beta.pdf(x,priorL,priorR)\n",
        "  print(\"number of left \"+str(numL))\n",
        "  print(\"number of right \"+str(numR))\n",
        "  print(\" \")\n",
        "  print(\"max likelihood \"+str(numL/(numL+numR)))\n",
        "  print(\" \")\n",
        "  print(\"max posterior \" + str(x[np.argmax(betaPdf)]))\n",
        "  print(\"mean posterior \" + str(np.mean(betaPdf*x)))\n",
        "\n",
        "\n",
        "  print(\" \")\n",
        "\n",
        "  with plt.xkcd():\n",
        "    #rng.beta()\n",
        "    fig, ax = plt.subplots()\n",
        "    plt.rcParams.update({'font.size': 22})\n",
        "    ax.set_xlabel('p')\n",
        "    ax.set_ylabel('probability density')\n",
        "    plt.plot(x,betaPdf, label = \"Posterior\")\n",
        "    plt.plot(x,betaPrior, label = \"Prior\")\n",
        "    #print(int(len(betaPdf)/2))\n",
        "    plt.legend()\n",
        "\n",
        "\n",
        "\n",
        "\n",
        "\n",
        "interact(plotFnc, p=(0, 1, 0.01),n=(1, 50, 1), priorL=(1, 10, 1),priorR=(1, 10, 1));"
      ]
    },
    {
      "cell_type": "markdown",
      "metadata": {
        "execution": {},
        "id": "H6yRNc0LAxdB"
      },
      "source": [
        "The plot above shows you the prior distribution (i.e. before any data) and the posterior distribution (after data), with a summary of the data (number of left and right moves) and the maximum likelihood, maximum posterior and mean of the posterior. Dependent on the purpose either the mean or the max of the posterior can be useful as a 'single-number' summary of the posterior.\n",
        "Once you are familiar with the sliders and what they represent, go through these instructions.\n",
        "\n",
        "**For $p=0.5$**\n",
        "\n",
        "- Set $p=0.5$ and start off with a \"flat\" prior (`priorL=0`, `priorR=0`). Note that the prior distribution (orange) is flat, also known as uniformative. In this case the maximum likelihood and maximum posterior will get you almost identical results as you vary the number of datapoints ($n$) and the probability of the rat going left. However the posterior is a full distribution and not just a single point estimate.\n",
        "\n",
        "- As $n$ gets large you will also notice that the estimate (max likelihood or max posterior) changes less for each change in $n$, i.e. the estimation stabilises.\n",
        "\n",
        "- How many data points do you need think is needed for the probability estimate to stabilise? Note that this depends on how large fluctuations you are willing to accept.\n",
        "\n",
        "- Try increasing the strength of the prior, `priorL=10` and `priorR=10`. You will see that the prior distribution becomes more 'peaky'. In short this prior means that small or large values of $p$ are conidered very unlikely. Try playing with the number of data points $n$, you should find that the prior stabilises/regularises the maximum posterior estimate so that it does not move as much.\n",
        "\n",
        "**For $p=0.2$**\n",
        "\n",
        "Try the same as you just did, now with $p=0.2$,\n",
        "do you notice any differences? Note that the prior (assumeing equal chance Left and Right) is now badly matched to the data. Do the maximum likelihood and maximum posterior still give similar results, for a weak prior? For a strong prior? Does the prior still have a stabilising effect on the estimate?\n",
        "\n"
      ]
    },
    {
      "cell_type": "markdown",
      "metadata": {
        "execution": {},
        "id": "wvaCHApJAxdC"
      },
      "source": [
        "**Take-away message:**\n",
        "Bayesian inference gives you a full distribution over the variables that you are inferring, can help regularise inference when you have limited data, and allows you to build more complex models that better reflects true causality (see bonus below)."
      ]
    },
    {
      "cell_type": "markdown",
      "metadata": {
        "execution": {},
        "id": "-ypZTh44AxdC"
      },
      "source": [
        "### Think! 3.2: Bayesian Brains\n",
        "Bayesian inference can help you when doing data analysis, especially when you only have little data. But consider whether the brain might be able to benefit from this too. If the brain needs to make inferences about the world, would it be useful to do regularisation on the input? Maybe there are times where having a full probability distribution could be useful?"
      ]
    },
    {
      "cell_type": "code",
      "execution_count": null,
      "metadata": {
        "execution": {},
        "id": "G8ms9u0NAxdC"
      },
      "outputs": [],
      "source": [
        "# to_remove explanation\n",
        "\n",
        "\"\"\" You will learn more about \"Bayesian brains\" and the theory surrounding\n",
        "these ideas once the course begins. Here is a brief explanation: it may\n",
        "be ideal for human brains to implement Bayesian inference by integrating \"prior\"\n",
        "information the brain has about the world (memories, prior knowledge, etc.) with\n",
        "new evidence that updates its \"beliefs\"/prior. This process seems to parallel\n",
        "the brain's method of learning about its environment, making it a compelling\n",
        "theory for many neuroscience researchers. One of Bonus exercises below examines a possible\n",
        "real world model for Bayesian inference: sound localization.\n",
        "\"\"\";"
      ]
    },
    {
      "cell_type": "code",
      "execution_count": null,
      "metadata": {
        "cellView": "form",
        "execution": {},
        "id": "54gDjSBOAxdD"
      },
      "outputs": [],
      "source": [
        "# @title Submit your feedback\n",
        "content_review(f\"{feedback_prefix}_Conjugate_priors_Interactive_Demo\")"
      ]
    },
    {
      "cell_type": "markdown",
      "metadata": {
        "execution": {},
        "id": "rPEigA2DAxdD"
      },
      "source": [
        "---\n",
        "# Summary\n"
      ]
    },
    {
      "cell_type": "code",
      "execution_count": null,
      "metadata": {
        "cellView": "form",
        "execution": {},
        "id": "ZOxftjWVAxdD"
      },
      "outputs": [],
      "source": [
        "# @title Video 7: Summary\n",
        "from ipywidgets import widgets\n",
        "from IPython.display import YouTubeVideo\n",
        "from IPython.display import IFrame\n",
        "from IPython.display import display\n",
        "\n",
        "\n",
        "class PlayVideo(IFrame):\n",
        "  def __init__(self, id, source, page=1, width=400, height=300, **kwargs):\n",
        "    self.id = id\n",
        "    if source == 'Bilibili':\n",
        "      src = f'https://player.bilibili.com/player.html?bvid={id}&page={page}'\n",
        "    elif source == 'Osf':\n",
        "      src = f'https://mfr.ca-1.osf.io/render?url=https://osf.io/download/{id}/?direct%26mode=render'\n",
        "    super(PlayVideo, self).__init__(src, width, height, **kwargs)\n",
        "\n",
        "\n",
        "def display_videos(video_ids, W=400, H=300, fs=1):\n",
        "  tab_contents = []\n",
        "  for i, video_id in enumerate(video_ids):\n",
        "    out = widgets.Output()\n",
        "    with out:\n",
        "      if video_ids[i][0] == 'Youtube':\n",
        "        video = YouTubeVideo(id=video_ids[i][1], width=W,\n",
        "                             height=H, fs=fs, rel=0)\n",
        "        print(f'Video available at https://youtube.com/watch?v={video.id}')\n",
        "      else:\n",
        "        video = PlayVideo(id=video_ids[i][1], source=video_ids[i][0], width=W,\n",
        "                          height=H, fs=fs, autoplay=False)\n",
        "        if video_ids[i][0] == 'Bilibili':\n",
        "          print(f'Video available at https://www.bilibili.com/video/{video.id}')\n",
        "        elif video_ids[i][0] == 'Osf':\n",
        "          print(f'Video available at https://osf.io/{video.id}')\n",
        "      display(video)\n",
        "    tab_contents.append(out)\n",
        "  return tab_contents\n",
        "\n",
        "\n",
        "video_ids = [('Youtube', 'OJN7ri3_FCA'), ('Bilibili', 'BV1qB4y1K7WZ')]\n",
        "tab_contents = display_videos(video_ids, W=854, H=480)\n",
        "tabs = widgets.Tab()\n",
        "tabs.children = tab_contents\n",
        "for i in range(len(tab_contents)):\n",
        "  tabs.set_title(i, video_ids[i][0])\n",
        "display(tabs)"
      ]
    },
    {
      "cell_type": "code",
      "execution_count": null,
      "metadata": {
        "cellView": "form",
        "execution": {},
        "id": "iM_h937kAxdE"
      },
      "outputs": [],
      "source": [
        "# @title Submit your feedback\n",
        "content_review(f\"{feedback_prefix}_Summary_Video\")"
      ]
    },
    {
      "cell_type": "markdown",
      "metadata": {
        "execution": {},
        "id": "uZttpeORAxdE"
      },
      "source": [
        "\n",
        "Having done the different exercises you should now:\n",
        "* understand what the likelihood function is, and have some intuition of why it is important\n",
        "* know how to summarise the Gaussian distribution using mean and variance\n",
        "* know how to maximise a likelihood function\n",
        "* be able to do simple inference in both classical and Bayesian ways\n",
        "\n",
        "For more resources see [here](https://github.com/NeuromatchAcademy/precourse/blob/master/resources.md)."
      ]
    },
    {
      "cell_type": "markdown",
      "metadata": {
        "execution": {},
        "id": "8yZ4A-6pAxdE"
      },
      "source": [
        "---\n",
        "# Bonus"
      ]
    },
    {
      "cell_type": "markdown",
      "metadata": {
        "execution": {},
        "id": "FcD-YZDKAxdE"
      },
      "source": [
        "## Bonus Coding Exercise 1: Finding the posterior computationally\n",
        "\n",
        "Imagine an experiment where participants estimate the location of a noise-emitting object. To estimate its position, the participants can use two sources of information:\n",
        "  1. new noisy auditory information (the likelihood)\n",
        "  2. prior visual expectations of where the stimulus is likely to come from (visual prior).\n",
        "\n",
        "The auditory and visual information are both noisy, so participants will combine these sources of information to better estimate the position of the object.\n",
        "\n",
        "We will use Gaussian distributions to represent the auditory likelihood (in red), and a Gaussian visual prior (expectations - in blue). Using Bayes rule, you will combine them into a posterior distribution that summarizes the probability that the object is in each possible location.\n",
        "\n",
        "We have provided you with a ready-to-use plotting function, and a code skeleton.\n",
        "\n",
        "* You can use `my_gaussian` from Tutorial 1 (also included below), to generate an auditory likelihood with parameters $\\mu = 3$ and $\\sigma = 1.5$\n",
        "* Generate a visual prior with parameters $\\mu = -1$ and $\\sigma = 1.5$\n",
        "* Calculate the posterior using pointwise multiplication of the likelihood and prior. Don't forget to normalize so the posterior adds up to 1\n",
        "* Plot the likelihood, prior and posterior using the predefined function `posterior_plot`"
      ]
    },
    {
      "cell_type": "code",
      "execution_count": null,
      "metadata": {
        "execution": {},
        "id": "TSMec1uEAxdE"
      },
      "outputs": [],
      "source": [
        "def my_gaussian(x_points, mu, sigma):\n",
        "  \"\"\" Returns normalized Gaussian estimated at points `x_points`, with parameters:\n",
        "  mean `mu` and standard deviation `sigma`\n",
        "\n",
        "  Args:\n",
        "      x_points (ndarray of floats): points at which the gaussian is evaluated\n",
        "      mu (scalar): mean of the Gaussian\n",
        "      sigma (scalar): standard deviation of the gaussian\n",
        "\n",
        "  Returns:\n",
        "      (numpy array of floats) : normalized Gaussian evaluated at `x`\n",
        "  \"\"\"\n",
        "  px = 1/(2*np.pi*sigma**2)**1/2 *np.exp(-(x_points-mu)**2/(2*sigma**2))\n",
        "\n",
        "  # as we are doing numerical integration we may have to remember to normalise\n",
        "  # taking into account the stepsize (0.1)\n",
        "  px = px/(0.1*sum(px))\n",
        "  return px\n",
        "\n",
        "\n",
        "def compute_posterior_pointwise(prior, likelihood):\n",
        "  \"\"\" Compute the posterior probability distribution point-by-point using Bayes\n",
        "  Rule.\n",
        "\n",
        "    Args:\n",
        "      prior (ndarray): probability distribution of prior\n",
        "      likelihood (ndarray): probability distribution of likelihood\n",
        "\n",
        "    Returns:\n",
        "      posterior (ndarray): probability distribution of posterior\n",
        "  \"\"\"\n",
        "  ##############################################################################\n",
        "  # TODO for students: Write code to compute the posterior from the prior and\n",
        "  # likelihood via pointwise multiplication. (You may assume both are defined\n",
        "  # over the same x-axis)\n",
        "  #\n",
        "  # Comment out the line below to test your solution\n",
        "  raise NotImplementedError(\"Finish the simulation code first\")\n",
        "  ##############################################################################\n",
        "\n",
        "  posterior = ...\n",
        "\n",
        "  return posterior\n",
        "\n",
        "\n",
        "def localization_simulation(mu_auditory=3.0, sigma_auditory=1.5,\n",
        "                            mu_visual=-1.0, sigma_visual=1.5):\n",
        "  \"\"\" Perform a sound localization simulation with an auditory prior.\n",
        "\n",
        "    Args:\n",
        "      mu_auditory (float): mean parameter value for auditory prior\n",
        "      sigma_auditory (float): standard deviation parameter value for auditory\n",
        "                                prior\n",
        "      mu_visual (float): mean parameter value for visual likelihood distribution\n",
        "      sigma_visual (float): standard deviation parameter value for visual\n",
        "                                likelihood distribution\n",
        "\n",
        "    Returns:\n",
        "      x (ndarray): range of values for which to compute probabilities\n",
        "      auditory (ndarray): probability distribution of the auditory prior\n",
        "      visual (ndarray): probability distribution of the visual likelihood\n",
        "      posterior_pointwise (ndarray): posterior probability distribution\n",
        "  \"\"\"\n",
        "  ##############################################################################\n",
        "  ## Using the x variable below,\n",
        "  ##      create a gaussian called 'auditory' with mean 3, and std 1.5\n",
        "  ##      create a gaussian called 'visual' with mean -1, and std 1.5\n",
        "  #\n",
        "  #\n",
        "  ## Comment out the line below to test your solution\n",
        "  raise NotImplementedError(\"Finish the simulation code first\")\n",
        "  ###############################################################################\n",
        "  x = np.arange(-8, 9, 0.1)\n",
        "\n",
        "  auditory = ...\n",
        "  visual = ...\n",
        "  posterior = compute_posterior_pointwise(auditory, visual)\n",
        "\n",
        "  return x, auditory, visual, posterior\n",
        "\n",
        "\n",
        "x, auditory, visual, posterior_pointwise=localization_simulation()\n",
        "_ = posterior_plot(x, auditory, visual, posterior_pointwise)"
      ]
    },
    {
      "cell_type": "code",
      "execution_count": null,
      "metadata": {
        "execution": {},
        "id": "6oTffYddAxdF"
      },
      "outputs": [],
      "source": [
        "# to_remove solution\n",
        "\n",
        "def my_gaussian(x_points, mu, sigma):\n",
        "  \"\"\" Returns normalized Gaussian estimated at points `x_points`, with parameters:\n",
        "  mean `mu` and standard deviation `sigma`\n",
        "\n",
        "  Args:\n",
        "      x_points (ndarray of floats): points at which the gaussian is evaluated\n",
        "      mu (scalar): mean of the Gaussian\n",
        "      sigma (scalar): standard deviation of the gaussian\n",
        "\n",
        "  Returns:\n",
        "      (numpy array of floats) : normalized Gaussian evaluated at `x`\n",
        "  \"\"\"\n",
        "  px = 1/(2*np.pi*sigma**2)**1/2 *np.exp(-(x_points-mu)**2/(2*sigma**2))\n",
        "\n",
        "  # as we are doing numerical integration we may have to remember to normalise\n",
        "  # taking into account the stepsize (0.1)\n",
        "  px = px/(0.1*sum(px))\n",
        "  return px\n",
        "\n",
        "\n",
        "def compute_posterior_pointwise(prior, likelihood):\n",
        "  \"\"\" Compute the posterior probability distribution point-by-point using Bayes\n",
        "  Rule.\n",
        "\n",
        "    Args:\n",
        "      prior (ndarray): probability distribution of prior\n",
        "      likelihood (ndarray): probability distribution of likelihood\n",
        "\n",
        "    Returns:\n",
        "      posterior (ndarray): probability distribution of posterior\n",
        "  \"\"\"\n",
        "\n",
        "  posterior = likelihood * prior\n",
        "  posterior =posterior/ (0.1*posterior.sum())\n",
        "\n",
        "  return posterior\n",
        "\n",
        "\n",
        "def localization_simulation(mu_auditory=3.0, sigma_auditory=1.5,\n",
        "                            mu_visual=-1.0, sigma_visual=1.5):\n",
        "  \"\"\" Perform a sound localization simulation with an auditory prior.\n",
        "\n",
        "    Args:\n",
        "      mu_auditory (float): mean parameter value for auditory prior\n",
        "      sigma_auditory (float): standard deviation parameter value for auditory\n",
        "                                prior\n",
        "      mu_visual (float): mean parameter value for visual likelihood distribution\n",
        "      sigma_visual (float): standard deviation parameter value for visual\n",
        "                                likelihood distribution\n",
        "\n",
        "    Returns:\n",
        "      x (ndarray): range of values for which to compute probabilities\n",
        "      auditory (ndarray): probability distribution of the auditory prior\n",
        "      visual (ndarray): probability distribution of the visual likelihood\n",
        "      posterior_pointwise (ndarray): posterior probability distribution\n",
        "  \"\"\"\n",
        "\n",
        "  x = np.arange(-8, 9, 0.1)\n",
        "\n",
        "  auditory = my_gaussian(x, mu_auditory, sigma_auditory)\n",
        "  visual = my_gaussian(x, mu_visual, sigma_visual)\n",
        "  posterior = compute_posterior_pointwise(auditory, visual)\n",
        "\n",
        "  return x, auditory, visual, posterior\n",
        "\n",
        "# Uncomment the lines below to plot the results\n",
        "x, auditory, visual, posterior_pointwise=localization_simulation()\n",
        "with plt.xkcd():\n",
        "  _ = posterior_plot(x, auditory, visual, posterior_pointwise)"
      ]
    },
    {
      "cell_type": "markdown",
      "metadata": {
        "execution": {},
        "id": "63cino-BAxdF"
      },
      "source": [
        "Combining the the visual and auditory information could help the brain get a better estimate of the location of an audio-visual object, with lower variance.\n",
        "\n",
        "**Main course preview:** On [Bayesian Decisions day](W3D1) there will be a whole day devoted to examining whether the brain uses Bayesian inference. Is the brain Bayesian?!"
      ]
    },
    {
      "cell_type": "code",
      "execution_count": null,
      "metadata": {
        "cellView": "form",
        "execution": {},
        "id": "xAbilaQ2AxdG"
      },
      "outputs": [],
      "source": [
        "# @title Submit your feedback\n",
        "content_review(f\"{feedback_prefix}_Finding_the_posterior_computationally_Bonus_Exercise\")"
      ]
    },
    {
      "cell_type": "markdown",
      "metadata": {
        "execution": {},
        "id": "pZa2jQCZAxdG"
      },
      "source": [
        "## Bonus Coding Exercise 2: Bayes Net\n",
        "If you have the time, here is another extra exercise.\n",
        "\n",
        "Bayes Net, or Bayesian Belief Networks, provide a way to make inferences about multiple levels of information, which would be very difficult to do in a classical frequentist paradigm.\n",
        "\n",
        "We can encapsulate our knowledge about causal relationships and use this to make inferences about hidden properties."
      ]
    },
    {
      "cell_type": "markdown",
      "metadata": {
        "execution": {},
        "id": "ahTnRmeVAxdG"
      },
      "source": [
        "We will try a simple example of a Bayesian Net (aka belief network). Imagine that you have a house with an unreliable sprinkler system installed for watering the grass. This is set to water the grass independently of whether it has rained that day. We have three variables, rain ($r$), sprinklers ($s$) and wet grass ($w$). Each of these can be true (1) or false (0). See the graphical model representing the relationship between the variables."
      ]
    },
    {
      "cell_type": "markdown",
      "metadata": {
        "execution": {},
        "id": "jrJZK6FuAxdG"
      },
      "source": [
        "<p align='center'><img src='https://raw.githubusercontent.com/NeuromatchAcademy/precourse/main/tutorials/W0D5_Statistics/static/nodes_.png'/></p>"
      ]
    },
    {
      "cell_type": "markdown",
      "metadata": {
        "execution": {},
        "id": "P0U2-KZcAxdG"
      },
      "source": [
        "There is a table below describing all the relationships between $w, r$, and s$.\n",
        "\n",
        "Obviously the grass is more likely to be wet if either the sprinklers were on or it was raining. On any given day the sprinklers have probability 0.25 of being on, $P(s = 1) = 0.25$, while there is a probability 0.1 of rain, $P (r = 1) = 0.1$. The table then lists the conditional probabilities for the given being wet, given a rain and sprinkler condition for that day.\n",
        "\n",
        "<br>\n",
        "\n",
        "\\begin{matrix}\n",
        "\\hline\n",
        "r & s & P(w=0|r,s) & P(w=1|r,s)\\\\\n",
        "\\hline\n",
        "0 & 0  & 0.999 & 0.001 \\\\\n",
        "0 & 1 & 0.1 & 0.9 \\\\\n",
        "1 & 0 & 0.01 & 0.99 \\\\\n",
        "1 & 1 & 0.001 & 0.999 \\\\\n",
        "\\hline\n",
        "\\end{matrix}\n",
        "\n",
        "<br>\n",
        "\n",
        "You come home and find that the the grass is wet, what is the probability the sprinklers were on today (you do not know if it was raining)?\n",
        "\n",
        "We can start by writing out the joint probability:\n",
        "$P(r,w,s)=P(w|r,s)P(r)P(s)$\n",
        "\n",
        "The conditional probability is then:\n",
        "\n",
        "\\begin{equation}\n",
        "P(s|w)=\\frac{\\sum_{r} P(w|s,r)P(s)  P(r)}{P(w)}=\\frac{P(s) \\sum_{r} P(w|s,r) P(r)}{P(w)}\n",
        "\\end{equation}\n",
        "\n",
        "Note that we are summing over all possible conditions for $r$ as we do not know if it was raining. Specifically, we want to know the probability of sprinklers having been on given the wet grass, $P(s=1|w=1)$:\n",
        "\n",
        "\\begin{equation}\n",
        "P(s=1|w=1) = \\frac{P(s = 1)( P(w = 1|s = 1, r = 1) P(r = 1)+ P(w = 1|s = 1,r = 0)  P(r = 0))}{P(w = 1)}\n",
        "\\end{equation}\n",
        "\n",
        "where\n",
        "\n",
        "\\begin{eqnarray}\n",
        "P(w=1)=P(s=1)( P(w=1|s=1,r=1 ) P(r=1) &+ P(w=1|s=1,r=0)  P(r=0))\\\\\n",
        "+P(s=0)( P(w=1|s=0,r=1 )  P(r=1) &+ P(w=1|s=0,r=0)  P(r=0))\\\\\n",
        "\\end{eqnarray}\n",
        "\n",
        "This code has been written out below, you just need to insert the right numbers from the table."
      ]
    },
    {
      "cell_type": "code",
      "execution_count": null,
      "metadata": {
        "execution": {},
        "id": "zEcCXrfqAxdH"
      },
      "outputs": [],
      "source": [
        "##############################################################################\n",
        "# TODO for student: Write code to insert the correct conditional probabilities\n",
        "# from the table; see the comments to match variable with table entry.\n",
        "# Comment out the line below to test your solution\n",
        "raise NotImplementedError(\"Finish the simulation code first\")\n",
        "##############################################################################\n",
        "\n",
        "Pw1r1s1 = ...  # the probability of wet grass given rain and sprinklers on\n",
        "Pw1r1s0 = ...  # the probability of wet grass given rain and sprinklers off\n",
        "Pw1r0s1 = ...  # the probability of wet grass given no rain and sprinklers on\n",
        "Pw1r0s0 = ...  # the probability of wet grass given no rain and sprinklers off\n",
        "Ps = ... # the probability of the sprinkler being on\n",
        "Pr = ... # the probability of rain that day\n",
        "\n",
        "\n",
        "# Calculate A and B\n",
        "A = Ps * (Pw1r1s1 * Pr + (Pw1r0s1) * (1 - Pr))\n",
        "B = (1 - Ps) * (Pw1r1s0 *Pr + (Pw1r0s0) * (1 - Pr))\n",
        "print(f\"Given that the grass is wet, the probability the sprinkler was on is: {A/(A + B):.4f}\")"
      ]
    },
    {
      "cell_type": "markdown",
      "metadata": {
        "execution": {},
        "id": "B-tySuPIAxdH"
      },
      "source": [
        "The probability you should get is about `0.7522`."
      ]
    },
    {
      "cell_type": "code",
      "execution_count": null,
      "metadata": {
        "execution": {},
        "id": "l0syUMMfAxdH"
      },
      "outputs": [],
      "source": [
        "# to_remove solution\n",
        "\n",
        "Pw1r1s1 = 0.999  # the probability of wet grass given rain and sprinklers on\n",
        "Pw1r1s0 = 0.99   # the probability of wet grass given rain and sprinklers off\n",
        "Pw1r0s1 = 0.9    # the probability of wet grass given no rain and sprinklers on\n",
        "Pw1r0s0 = 0.001  # the probability of wet grass given no rain and sprinklers off\n",
        "Ps = 0.25  # the probability of the sprinkler being on\n",
        "Pr = 0.1   # the probability of rain that day\n",
        "\n",
        "# Calculate A and B\n",
        "A = Ps * (Pw1r1s1 * Pr + (Pw1r0s1) * (1 - Pr))\n",
        "B = (1 - Ps) * (Pw1r1s0 *Pr + (Pw1r0s0) * (1 - Pr))\n",
        "print(f\"Given that the grass is wet, the probability the sprinkler was on is: {A/(A + B):.4f}\")"
      ]
    },
    {
      "cell_type": "markdown",
      "metadata": {
        "execution": {},
        "id": "3k2oq9auAxdH"
      },
      "source": [
        "Your neighbour now tells you that it was indeed\n",
        "raining today, $P(r=1) = 1$, so what is now the probability the sprinklers were on? Try changing the numbers above."
      ]
    },
    {
      "cell_type": "code",
      "execution_count": null,
      "metadata": {
        "cellView": "form",
        "execution": {},
        "id": "VLgTJyOXAxdI"
      },
      "outputs": [],
      "source": [
        "# @title Submit your feedback\n",
        "content_review(f\"{feedback_prefix}_Bayes_Net_Bonus_Exercise\")"
      ]
    },
    {
      "cell_type": "markdown",
      "metadata": {
        "execution": {},
        "id": "9wQiqfoXAxdI"
      },
      "source": [
        "## Bonus Think!: Causality in the Brain\n",
        "\n",
        "In a causal stucture this is the correct way to calculate the probabilities. Do you think this is how the brain solves such problems? Would it be different for task involving novel stimuli (e.g., for someone with no previous exposure to sprinklers), as opposed to common stimuli?\n",
        "\n",
        "**Main course preview:** On [Network Causality day](https://compneuro.neuromatch.io/tutorials/W3D5_NetworkCausality/chapter_title.html) we will discuss causality further!"
      ]
    },
    {
      "cell_type": "code",
      "execution_count": null,
      "metadata": {
        "cellView": "form",
        "execution": {},
        "id": "b-ekngOjAxdI"
      },
      "outputs": [],
      "source": [
        "# @title Submit your feedback\n",
        "content_review(f\"{feedback_prefix}_Causality_in_the_Brain_Bonus_Discussion\")"
      ]
    }
  ],
  "metadata": {
    "colab": {
      "name": "W0D5_Tutorial2",
      "provenance": [],
      "toc_visible": true,
      "include_colab_link": true
    },
    "kernel": {
      "display_name": "Python 3",
      "language": "python",
      "name": "python3"
    },
    "kernelspec": {
      "display_name": "Python 3",
      "language": "python",
      "name": "python3"
    },
    "language_info": {
      "codemirror_mode": {
        "name": "ipython",
        "version": 3
      },
      "file_extension": ".py",
      "mimetype": "text/x-python",
      "name": "python",
      "nbconvert_exporter": "python",
      "pygments_lexer": "ipython3",
      "version": "3.9.17"
    },
    "toc-autonumbering": true,
    "widgets": {
      "application/vnd.jupyter.widget-state+json": {
        "cbe3743e95c140d0995e7c5cee57285b": {
          "model_module": "@jupyter-widgets/controls",
          "model_name": "TabModel",
          "model_module_version": "1.5.0",
          "state": {
            "_dom_classes": [],
            "_model_module": "@jupyter-widgets/controls",
            "_model_module_version": "1.5.0",
            "_model_name": "TabModel",
            "_titles": {
              "0": "Youtube",
              "1": "Bilibili"
            },
            "_view_count": null,
            "_view_module": "@jupyter-widgets/controls",
            "_view_module_version": "1.5.0",
            "_view_name": "TabView",
            "box_style": "",
            "children": [
              "IPY_MODEL_f038bf1ca25d4d26a74dc350ea386afd",
              "IPY_MODEL_fd67f94559a640d9a0224ae276c9fdb7"
            ],
            "layout": "IPY_MODEL_73d5382b3992403dac1142a66a7b578a",
            "selected_index": 0
          }
        },
        "f038bf1ca25d4d26a74dc350ea386afd": {
          "model_module": "@jupyter-widgets/output",
          "model_name": "OutputModel",
          "model_module_version": "1.0.0",
          "state": {
            "_dom_classes": [],
            "_model_module": "@jupyter-widgets/output",
            "_model_module_version": "1.0.0",
            "_model_name": "OutputModel",
            "_view_count": null,
            "_view_module": "@jupyter-widgets/output",
            "_view_module_version": "1.0.0",
            "_view_name": "OutputView",
            "layout": "IPY_MODEL_f20cdb68533b4737ae811573cc1e3842",
            "msg_id": "",
            "outputs": [
              {
                "output_type": "stream",
                "name": "stdout",
                "text": [
                  "Video available at https://youtube.com/watch?v=1Q3VqcpfvBk\n"
                ]
              },
              {
                "output_type": "display_data",
                "data": {
                  "text/plain": "<IPython.lib.display.YouTubeVideo at 0x7f584e5a9720>",
                  "text/html": "\n        <iframe\n            width=\"854\"\n            height=\"480\"\n            src=\"https://www.youtube.com/embed/1Q3VqcpfvBk?fs=1&rel=0\"\n            frameborder=\"0\"\n            allowfullscreen\n            \n        ></iframe>\n        ",
                  "image/jpeg": "/9j/4AAQSkZJRgABAQAAAQABAAD/2wCEAAUDBAoIDQ0IDQsLCgoKCgoKCgoKCgoKCgoKCgoKCgoKCwsKChALCgoOCgoKDRUNDhERExMTCgsWGBYSGBASExIBBQUFCAcIDwkJDxIQEg8TEhIXFRUVFRUWFRIVFRUSEhUSFRUVFRUVFRUVFRISFRUVFRIVFRIVFRUVFRIVEhISFf/AABEIAWgB4AMBIgACEQEDEQH/xAAdAAEAAgMBAQEBAAAAAAAAAAAABQYEBwgDAgEJ/8QAXBAAAgEDAgMDBQgMCwUGBQQDAQIDAAQRBRIGITEHE0EWIlFSYQgUMnGBkZLSFRgjM0JTVZOhsdTiCSQ1YnN1lKSytNE0coPB8DaCorPh8TdEdrW2Q3SjwmOEhf/EABkBAQADAQEAAAAAAAAAAAAAAAABAwQCBf/EACkRAQEAAgICAgEEAgIDAAAAAAABAhEDIRIxBFFBEyJhgXHwscEykfH/2gAMAwEAAhEDEQA/AOMqUpQKUpQKUpQKUpQKUpQKUpQKUpQKUpQKUpQKUpQKUpQKUpQKUpQKUpQKUpQKUpQKUpQKUpQKUpQKUpQKUpQKUpQKUpQKUpQKUpQKUpQKUpQKUpQKUpQKUpQKUpQKUpQKUpQKUpQKUpQKUpQKUpQKUpQKUpQKUpQKUpQKUpQKUpQKUpQKUpQKUpQKUpQKUpQKUpQKUpQKUpQKUpQKUpQKUpQKUpQKUpQKUpQKUpQKUpQKUpQKVP8AkpP60X0n+pTyUn9aL6T/AFKCApU/5KT+tF9J/qU8lJ/Wi+k/1KCApU/5KT+tF9J/qU8lJ/Wi+k/1KCApU/5KT+tF9J/qU8lJ/Wi+k/1KCApU/wCSk/rRfSf6lPJSf1ovpP8AUoIClT/kpP60X0n+pTyUn9aL6T/UoIClT/kpP60X0n+pTyUn9aL6T/UoIClT/kpP60X0n+pTyUn9aL6T/UoIClT/AJKT+tF9J/qU8lJ/Wi+k/wBSggKVP+Sk/rRfSf6lPJSf1ovpP9SggKVP+Sk/rRfSf6lPJSf1ovpP9SggKVP+Sk/rRfSf6lPJSf1ovpP9SggKVP8AkpP60X0n+pTyUn9aL6T/AFKCApU/5KT+tF9J/qU8lJ/Wi+k/1KCApU/5KT+tF9J/qU8lJ/Wi+k/1KCApU/5KT+tF9J/qU8lJ/Wi+k/1KCApU/wCSk/rRfSf6lPJSf1ovpP8AUoIClT/kpP60X0n+pTyUn9aL6T/UoIClT/kpP60X0n+pTyUn9aL6T/UoIClT/kpP60X0n+pTyUn9aL6T/UoIClT/AJKT+tF9J/qU8lJ/Wi+k/wBSggKVP+Sk/rRfSf6lPJSf1ovpP9SggKVP+Sk/rRfSf6lPJSf1ovpP9SggKVP+Sk/rRfSf6lPJSf1ovpP9SggKVP8AkpP60X0n+pTyUn9aL6T/AFKCApU/5KT+tF9J/qU8lJ/Wi+k/1KCApU/5KT+tF9J/qU8lJ/Wi+k/1KCApU/5KT+tF9J/qU8lJ/Wi+k/1KCApU/wCSk/rRfSf6lPJSf1ovpP8AUoIClT/kpP60X0n+pTyUn9aL6T/UoLnSlK6clKUoFKUoFKUoFKUoFKUoFKUoFKUoFKUoFKUoFKUoFKUoFKUoFKUoFKUoFKUoFKUoFKUoFKUoFKUoFKUoFKUoFKUoFKUoFKUoFKUoFKUoFKUoFKUoFKUoFKUoFKwda1D3snebd3nBcZ29QTnOD6KhfK4fiT+c/cqErRSqv5XD8Sfzn7lPK4fiT+c/coaWilVfyuH4k/nP3KeVw/En85+5Q0tFKq/lcPxJ/OfuU8rh+JP5z9yhpaKVV/K4fiT+c/cp5XD8Sfzn7lDS0Uqr+Vw/En85+5TyuH4k/nP3KGlopVX8rh+JP5z9ynlcPxJ/OfuUNLRSqv5XD8Sfzn7lPK4fiT+c/coaWilVfyuH4k/nP3KeVw/En85+5Q0tFKq/lcPxJ/OfuU8rh+JP5z9yhpaKVV/K4fiT+c/cp5XD8Sfzn7lDS0Uqr+Vw/En85+5TyuH4k/nP3KGlopVX8rh+JP5z9ynlcPxJ/OfuUNLRSqv5XD8Sfzn7lPK4fiT+c/coaWilVfyuH4k/nP3KeVw/En85+5Q0tFKq/lcPxJ/OfuU8rh+JP5z9yhpaKVV/K4fiT+c/cp5XD8Sfzn7lDS0Uqr+Vw/En85+5Vjs5u8RZMY3qrYznG4A4z49aD1pSlSgpSlApSlApSlApSlApSlApSlApSlApSlApSlApSlApSlBB8bfef+Iv6mqk1duNvvP/ABF/U1UmoropSlQFKUoFK6+7KezLhOPhm34q1WymmYd8LmSC4uw7Z1Waxh2xR3KR8h3QOMcgTzPXK4I4G7OOK5PsbYm8sr50dokaa5SZxGN7mP30ZreRgoLFM7tocgYUkBxvSrt23dns3C+oTaRI4lEWx4ZwuwTwSrujk25O1uqsuThkcAkYJpNApSlApSujv4PW1jl1qZXRJF+xNydrqrjPvqy54YEZ5nn7TQc40q49uCBdY1ZQAqrrGpgKAAABezgAAcgAPCqdQKUpQKUrsbtmsol4G0uURxiQjTcuEUOcpLnLAZOaDjmlKUClbg7T04SGj6edOYnXT7z+ygP2RwP4nJ77x74UWvK77sfcj/u+bmtt/wAHdZxSxa7vjSTbFp23eivtymp5xuBx0HzCg5EpVh7NhYG+tRqBxp3viP36R33+z7vun+zjvunqed6KsPb+ugC+xohLad73i5n35n3xl+9/20Cbps/m+jxoNe0q/wB/2Q6pBpa8TukS6dJs7tu+Uyt3kphUiNckeeD1I5VQKBSlKBSlKBSlKBWx9H+9Rf0Uf+EVritj6P8Aeov6KP8AwipiKy6UpUoKUpQKUpQKUpQKUpQKUpQKUpQKUpQKUpQKUpQKUpQKUpQQfG33n/iL+pqpNXbjb7z/AMRf1NVJqK6KUpUBSlKDtC1tZJuzlYo0eR2J2pGrO7Y4lYnCqCTgAn5KonuL+yTVpNWttXltJ7Syse9laa4jeDvnaGSKOKFZFDSks+WZRtCo2SCVDba7NOM7nh7gSDV7YRNcWxl7sTqzxHvuIJYH3KrqT5krYwRzxXOnHvumOJdYja2e7W1hdSskdjELcyA9QZstOFIyCquAQSCDQX/tg1my4h40tLcLHdWkV1YabMCA8M5jkJuFI6MokleI+B7s9Riti9tWicF8G3f2QutPiu7i5hjSy0eCKMwRRx7xLeTxSMIvukh7sNIGz3Y2KSshXlf3N/8ALmk/1naf+atbJ/hB/wCXR/V1p/jnoIHQeGLfj/iFobC1GladOsU80MUcKLZ21tbQRXDJHEBFukuBhcL8O4VmHwq2h2i8fcH8IXDaFa8NWervaExXdzeNC7CcYLostxbXEkjglg33tUYFVGByjP4NyaIalfRnHfNpu6Plz7tLmESgHHLznh5Z548cctBdscTpqupq+e8Gqahvz1Le+5cn5evy0HRHaL2aaFxXo0vF2h250+4s++a+08YEZFuoe4j7tWMcUqQlZkaLCujYZAzeZX/4Or+W5v6puf8ANWVbC9wSe50bWbiU4tRJJuLckHdWJe4JJ5YEbR59mK17/B1fy3N/VNz/AJqyoLnxxxTwXwtfXyzWC8Ratdaje3N67xQy2tmZ7qWUWaC5LRCWFHCPsRmLrIGZCBGjtf7N9A4o0N+LtFtksJrSOSW4to0SFGjt+d1DLBETDFPFHmZZI/hLgHIZSnNfbp/LOr/1zqn+enrqD3I8nvbhLXLiVSYN2quFIwJAulQK4XdybcRs9GQR4UHOPYXq2gWM011rFpLfxRwA2lrEWG+571Ob4ljQxiPcSHJH81jgV0D2Q9p3C3El9FoMnCWnWcd33kcNyiW0sgdY2dQ5Syilj3qrDekhKtt6gll1n7mDsXs9ehu9d1KeS30jTNxlEPKSZoYhczhm2syRJDtLBF3t3gClSM1sHsM7QuF5dYstP03hsW/eTssGo3V7I93Ge7kYuYm70BsAjb3xHneGMUGi/dJ8DRcOavd6XDu97IYpbbedzCKeJJQhPVhGzNGC3MhATkmuvTpOl3XCOknVLj3tptvFY3NztyJLgRRyBLWLb5++WRkB2DdtD42nzl5293n/ANoJ/wD9rZf+QK2n21f9hNL+LTf8E1B+9n3aRwHrdzHoHk5DaR3bC2trqW1tBI0jjbEks0Le+YZJGwiusjne65I5sNDe6i7L14U1NrKMs1nPEt1Zs5yywuzo0TtjDPHLG6+kr3bHm1U3svieTUdPjTPePqNiseOu9rmILj27iK6Q/hKbuM3unQAjvUs55HHiI5ZwsZPsLQy/MaDA90RwTptlwtoepQWdvBeXQ0v3xcxxhZZu90qeWTew5tulUOfaBU9/Bx/ete/otN/wapX37qP/ALG8O/Fo/wD9muK+P4OP71r39Fpv+DVKDnbsC02G81jTbWaNJoJr+COWKQbkkRnAZWU8iCPCtk+600XTdB4ht0isoUsYobC4ms4UWOOdRM7TIRjbmRE2En01QPc0/wAu6V/WNt/jFbF/hBv5d/8A+daf4p6DpDiPjbRouF4NXfR0k0pzFs0kmPZHuunRSCU2HEmXxjxrRnY3xNw1r3ECW32DtLWwvbH3tFbSxxSKl/C0s6zAgBV72LdCRjJYReirPx1/8PrT/wD1f/uD1yBoOqS2M0N7E2ya2miuIW67ZYXWSNsex1BoL37pbgbye1i709V2W7Se+bMAYX3rcfdI0XnkrES8OfEwmtsdnvBWm6Lwpd8TX9nBc3t+zR6YLmMO0e4tbWzRpJyz3nf3RI+HHGh54FbF90zwJ5c22ha/YpiS9e2tJ2Ch2gtb37pvmKtzWzmE6soPWV8emtfe764niilseE7bCWuk20TyRKQQsrxLHaxMMZDRWgDD0i7PsoOW6UpQKUpQK2Po/wB6i/oo/wDCK1xWx9H+9Rf0Uf8AhFTEVl0pSpQUpQCgUqS4d0Sa/kFvEFLYLM0kiRRRqBktJLIwRAB6SK/ZNIdCQcHaSpIO5SQcZBTIK+gg8658u9OvG62jKVKppsnUJG+OoBYcv+8eo+Svb7BvtD7CSR8EMqkHrjnnNLlr2mYW+kJSpS90WaMZ7qTHj8FipGQQdvjkHpX1JoEq8ztTHrsin5t2f0UmUqLjZ7RNKkZdEnA3hO8XqWiZZAB7QhJHyio4jHKukFKUogpSlApSlApSlApSlApSlBB8bfef+Iv6mqk1duNvvP8AxF/U1UmoropSlQFKUoOjm7W9K8jBwr3kv2T/ABfcv3X8tm+++/A/2fn8fLrXONKUFt7Gtdg0zVLDUJyVt7W9t55mVS7COOQMxCjmxwOgq5+6449seI9UGo2bvJb+84Id0kbRN3kbSlhtbnjDrzrT9KC1dlHHN1w5fQavb4MkDEPGxIjnhcFZYZMfgspPPntYKw5qK6J4z4k7O+LpBq97NqOj38ir75jgidu+dFCAsY7S5hfAUAOvdswALAHkOTKUHS/bB266Vb6YeEuH7eWCxcMl1eTBleaNzulWMOxlYzE7Xkl2kKGRU2lStT9xtx9p/Dmpy399K0Nu+nz26usUkxMrz2rqu2JWYDbE5zjHL21pSlB1PxFxF2ecUTzX16L3Rbs3Exklskdob9e8fu7hlW0mCSyptkfMcbb3bLP8IxPbz236Y2mpwhoUMkOlpgXFxIrI1wofvtkYcmXa83nvJJtZiCu3aTnm6lB0X7krtq07Q4LvQNUjZtM1BncypG0oRpYBb3Mc8anvHglhSNQYwWUqeRD5Scg4+4E4TmS/0i0udWvu8BSa5M6QWcTMBL3QuEjZpu7LBCY2I8ZBzDcsUoOifdh8V8M8QNFrWn3dxLqchghubZ4JYoFto4pj3jGWAfxgOYY/MkZSoPLlk3mw7d+GE0HTdBvIH1MLFb22o2qxSxvbIkMpNxBK4RHmSYRKNkinEjkMMYPHtKDrTgrXOzjhmb7N2s+paheRbntbSaKUi3kYMv3PdawQkhXK7pZJduAwywBrnrtg4+ueJr6bV5wEaUhYoVYslvBGNsUKk4ztXmWwNzM7YG7FVClB0V259rGl6tw5o+hW8kjXunjTvfKNC6IvvfTpbaXbIfNfErqBjqOdfPuOO1fS+GY9VS9kkjN8lmtv3cLy7jCt8JN2webgzx9euT6K53pQW/sW16DS9UsNRnJW3tbyGaZlUuwjRssQo5sceAq4e6449seI9U+yNm7yW/vO3h3SRtE2+NpSw2tzx5w51qClB1L2I9sGgXOhtwdrnfwW6b+5uoklkyjXBuoyDCryxzxTsdvmMhRVByMqdGdsFlolvdCPR7i5u7EQoTNeLtlM5Z+8AHveE7Avd4yg8etU2lB3d7gvjJ4NDvmugyWGkzzyx3B2lBEYffVzAgB3FomzKcjn77UAnmBxbx7xLNrF5c6pL99vLiSdlyWCB2JSJSeqRptQexBW3+IO2yxj4bh4RsLe6hmfuvshcTCJUlJc3F13bRymQ77gIg3AfcgVPorQlApSlApSlArY+j/eov6KP/CK1xWx9H+9Rf0Uf+EVMRWXSletpbtKwQDJP6h1PxUt0SbflvCXO0DJP/XyD21K6fEuGXAIHms/QsfFVPVVz49T7OefK4mWAiEAE/Cbl12gnmfRn8EU0xvgr4dT16k8+lcY5b7d5Y+PSb061B5KoA8MDA/9asVhopbA+Fn2YAyfTXjpAT4XMKMY5enHTHPNZevcVpBHsGfZtBXJH870Z9HzjxtmeOPtHhlfTIu44bYHOCR+ApHh8tas4n16aZ8KAo3YJHgo5c8Yyfjr6vuJpZSX6ZOAOfTrn2D5a/Pe6N90XBzncfhbT185c4Px1m5OTyy3WjDHrUWjhxN+DIQfNHjyUcsEgYGenzA1Py28HQYBI6HAz8lVTh+dgQGbkDlcAAfJnl08au+o2gnj3KVyAOfMkn2HxPxCqZyWel8xlnbB1LhKVYRerGWgJ2iZRkK3qlhzRvYcZqsXid55rgSY9flJ8ay/Dz7H3Cpyx1e4tw1szv3bHzkDMFbBBG5FOG57eueg9lQHE8UsbCdVzETzOemeowelX8XP5dZM/Nwa7iv3sIQkDJA8GGGHsI6fKORrwqwSRpOobHnry9GQ3Ig/F1HtFQEi7SQeoJHzVdvtmsflKUqUFKUoFKUoFKUoFKUoIPjb7z/xF/U1Umrtxt95/wCIv6mqk1FdFKUqApSlApUpwrw7d6rMllaW8t1cSZ2RQoXYgdWOOSoBzLNgAcyRUtx/2datoBQX1jPaCX727qGicjOVWWMtEXAGSgbcBgkcxQVWszRNKnvpUtIIpLieVtsUMKNJI7YJwqqCTyBPsAJ8Kw67B/g39KhY6rfBUkvoY7WGAOMGOOUXDthvBZZIowcdO5HpoNTR+5b4tKd59jAPQhvdPEmMA5wbrA+IkHl0rWXGvCd9os5sby3e1uFVXMcm0ko2drqyEqynB5qSORq6cT9rvFcF7LJPqeo215HMwltu/mhihdTgxe9NwgVB6mzB6885MHxPxLqfF99bm4kS4v5/e2nxSbI4BIzSlId+xVjU75cFgAMUFMpXbGue5XH2BihgsIRxGxh98zNeSFPNmcyFS8xt1zFtHmKM1yv2jdm+o6BdppN1Gou5UikjjhkWbcJnaOMAry3F0Ix8VBT6Vv7QPci8UXSCR4rSzJ5iO5uh3mPDItklVc+gkEeIFa37WuyzVeF5UgvoBGJgzQTRussE4TaH7t1/CUsuUYKw3KcYYEhSaV1n7jHsDttWhfWNTs47qxuEB08++ZUIkguJ4LjvI4JUJG6LGJMgge2tT9rPYFrXD0Emp3MMEdoJxGvd3EcjDvWIjG1TnGBQU1Oz3VDYHXxaSfYxTg3e6Puwe/FtjG/f9/YJ8HqfRVWreluvFHkq5Bt/JneN4+4e+d32Tjxjl33+27fH4OfCtScGcL3us3CafZwPc3MudkSbRyAyzMzkJGgHV3IUeJoIaldEN7jriYJvzp5bGe6F2+8ezJg7vP8A3sVp7hDgW91W/XQoEQ3zSXEQR5FRN9tHLLKO8J28lhfB6HA9NBWKk+FtAutUnjsLWJp7mcsIoUKhnKo0jYLELyRGPM+FdidvHuVhLBYx6LYQwzL3x1BpLyQlmKQCMBrmZ8gOJuSYAz7a527OuHNb0nXotMtBCmtW080UQdo3hEgtpTJln+5sO5L4J8ceNBR+LeHLvSZ5NPuoWt7qHZ3sLlSyd5GkqZKMV5xyI3I/hVE1ffdBDVRq119lTGdT/i3vkw7O7/2O37nb3Y2f7P3WceOa9+yjsX1viYGSztc26tse7ndYLZWHVQ7+dKw5ZWJXK7lzjNBrulb1419yrxDpNtNqEnvKWG1gkuJu4uWLrFEhkkYLLCm4qqk4BJPhmtX9nPAmo8Q3AsLG3a4m273wVSOKMEAySyOQkaAkDJOSSAASQCFapXQmq+5B4lt42nzYSbEZ2SO6beAoJI+6QKmcD1q57oFKUoFKUoFbH0f71F/RR/4RWuK2Po/3qL+ij/wipiKzFGeVWe1txZxFzyldefLmM9FHoOf1eysPhKzDuJCMhCCBy+fn0A6166/egqz8yMls/FlVA6+Az8orPy596jRxYdeSqapKHY+cd2CBt6lyMYPyH9dfOn3dzGBGdvX4eAzEY5jIOBj0isaMZG8DmxPieg6k59OcfPVh4c0YyMRks+3mSMKB6Ap/5/8AvFy1DHDyvSW0O4kYAl3K+gbsfMvIDFWdtOM6gFO89Hmgnw+XFTfCXCisVZh+CAFwCAB8Y6nrWzdJ0GNMKBgZB6Cs2XLjK9Pj+LlZ9OftR4Qzz7sjr5vIbcdOvx5qCGkT2h5LlTyK4ypBHQ+I6V1je6BHOR5o64yB19P6KRcCwMwYrlRzwccz4cq6nNK6vw+3Mx01sb43IA+EhXzlPX4yOnOvWz1CWI4zuHt5H5+QFdG6n2fwkZVMEeIHPH+uKpnEPZ8hU7R5w9mPD0Go/Uxjm/Fy01BqesFjlfN8CEUlx4c2J5D2E451KxZKiNvO3AblPMYPMMPQT7PZWDf6D3cpR8eY3nEh+QOBk+dg/Oa/NX1yOPIQkgryIHUjpzOT6a7s2yXeN1UbrOnPbb0GdrMNh9AJ6AA5yP8Aka8+I9OIxcKMxsq7sfgsFAOfHB65qNv9Va4JJZsqpwdxwPaBjGfj64qxcIahBIpDkkbQrc+TAqo5r0z7RVt5LJtTcJldKpSs3WrQQyMoOUzlD6VPSsKtMu5uMtmropSlSgpSlApSlApSlBB8bfef+Iv6mqk1duNvvP8AxF/U1UmoropSlQFKUoN+e4t1+3trq+05rhbC+1bTZbDTNQb/AOXu5D9zTd1UvJ3bDmNzQIo85lq19sIvtB4Z+wWsXJutXvtWNxawy3Pvua0soCqmfvGZiscjxSbQD0uz0IkVYT3LmnDTdN1TjCKz+yWp2LxWmm2/dtKLaSYL3l6yJlmCrKp80AgRSjcN5Zd0dl+mNxBY2l5xba2yXEOoJFo89+ws7rUGl3slrc2/dqGhMgG1CPuyoCYyo3zBwrqOnTW2wSxSQmWKOeISxvH3kMo3RTJvA3xOvNXGQR0Jq1djvaVfcLXY1G0Zcle7ngkyYbiEkExyAEEcwCHUgqR6CQZ33UGqa1c6rONVj7m4i+5wQJk28VruYw+9mxiSFubd51Yls4IKiJ4B7JNX162m1Cxt/faWswhmijkQTgtH3gdY3K94uMDCFmyfg450HXWna7wh2pItvcRCw1ru9qAskd8pVSxFtcbQl/Cv3QiJ1JADt3afCrk/tw7L77g29W1kkLqQLiyvYQ0QmRXwHXmTDPG4G6PcShKEEhlY/vBHZLxJcXcEEGnaha3ImjZLia1ubWO1dGDrPJNJEBCEK7s9cgBQWIB3z/CTa9byS6bpysr3Vul3POB8KGO497rEpxyBkMLttPMBEPRhkJzj/XLtOBbK8W5uFuWNqWuFnlE7brqUNmUNvORy5muN59fu5JkvHuJZriJkaOaaRpnUxNvj5ylshW57Ty68q7IutGn1zgK2gso3up4VjYwRKXmY219IsypGPOZ1XLhQMsByByM6I9zHwt3XEem2eo2skAMksywXkLwl3S1uJLVikwUlTcRpt5EMygc80Gba9mnHfEhXUmh1Gfe3exzXl4lqV3HIeGO7uI2SPnle6ULtxt5YrdXu0rO7i4X0hb3LahFeWEV07OsrmcabeictIpIcs6AlgTkjNVn3XfDPF+r6vJZw2+oXOmOsK2KWwf3hsMKd4ZnQiGOXv+93NckN0wdmyrj7pvgi+XhLS9OSFri402bTxdpbAz933FldWsxHdglgk8ioSBy5+igr38G1qM0kuo27SyNDDb2vcxNI7RRb5p2fu0J2puYknaBkmuXOLuJr65eW3lvLqaETv9ymuZpI8q7bTsdyuR4cuVdJfwa97Gt5qNuWAkktLeRE8WSKZlkI/wB0zR/SFaA7UOz7VNInuffNldQxR3Ukfvl7eUWz7pH7tkn2906uBlcNz+Sg6Nsf/hzN/Sj/APIIapn8H/xXY6bqs0Fy8cMl/ai2tJpCFXvRMkhtt55IZtoxkgM0SKMsyg3Ox/8AhzN/Sj/8ghrmjgDs71PXlnaxtmuzZrG88cbxiUJLvCsiOwMvNCNqZbmOR54Ddvbl2I8V6NdXGtW9xd6hE8kk3v2zuJvf0UZfconhRhMNu484d6KqkkoOQ5ztdVuIpffaTTJcbnbv0ldZt0gYSN3itv3MGYE557jnrXXnuNNT4xt7+PTLqDUTpAjm98fZO3nRbTZEe497zXKrIr98I4+4Qsu2SQ7BtLroT3VEdouvamtrsEAuhyjxsE/cxe+wMcgRd9+CB0OaDor3emu3dnZ6I8FzcW7SJc940E8sRfENkRvMbDdgk9c9T6a0X7ka7kn4l06aR3lkea5Z5JGZ3dveVzzZmJZj7Sa377tHhi71zSdG1CxglvooY9zC1jed+6u7a3aKUJGC5j+5YLActy5xmtCe5KsZbbibT7eWOSGaOe5WSKVGjkjYWVzlXRwGVh6CKDL92JZNc8U3tsuN80umRJnON0mnWKLnAJxkjoK377sriyThDS9O4d0xms0uEki72E7JUtbNYQyiRcOss0k6s0gO5tsuT55zz97su6eDie/mQ7XifTZEOAcOmm2LKcHkcECuhfdI8LN2iaPYa9pQFxcWwd/egdFkKXCxC7t/OIX31BLCnmEjcFk27iyBg4mg4q1CNZI1vbtUnR450W5mVZkkBWRJVD4kRlJBVsggnNdNfweXEdnE+paQ8y2t7qEcBtJdwV5BEtwrpFu83vozKsipzLAucYjNaGi7IOIDHPcNpN9DDaQS3NxLdW0loiQwRtLKwa6EYcqiMdibmPIAEkCvDgvsz1fWLeXUbG0ku4rWURzC3IedHK94pWEHvZMjp3YY5HhyoNj9qvY7xZwq02oCe6uLYl2l1KwurjcU87z7pQ4uIjsGWZg0Yzje3WtDV3Z7ibV+K5Jp7HU4r1tLitiY5dUhlSaO5MihIYpbhRNOjRmXcjb1QRx4KZCvxr2nC2Go34te795jUb33p3ODF7298y9x3ZHIx91s248MUFdpSlApSlArZGij7lF/RR/4RWt62VoP3uL+jj/wigu+iRd3bu/icj29MDH6arPE9wqwY/Cbr8jcvkIAqzpOBavnkVDHPh0LCtY6rcmRWTJ6rj4h1rLjjvJqyusf6SHBlq1y6gHzg2AG+B0znA+Fg55fF1rd3CfDohBA5ljzY9T4+j4+XtrV/ZJADJu5+avjW/8AhmHIBPjmsvyeSy6b/gcUuO6l9AsCu0k9PQMD2+k1cEjG3l1qF00YOMfEaslrECPafRWSZbr1pNM20jAVT8nQ9fTWdZpkczXgseEC451k2z7cA4yPjzVkmnN3plww+H6f+jXlqekRygjxPj41mW0vsFeofPhV8mOmbLLKVzN228OTWR98KuVOY3YY5qeeTnGD/pWjyGb1m5nB7rB+dRg13vxBpEN3G0MiB0cEMp8f9DXPXG/Yh3ZeWCVjHz81ssR/NznmKt4856rJz8Vy/dHP10uPNHU9ck5ppUhiDEfB6ch6eRFXLUeFjab16sUPn5B83qQBnkc48M9Piql2PPvIw2cgADn6f/ar52wZSyrvdaV39vvA89V3jA6+sP8AnVOraPAF0rWwU4LB5EbPx8vnBxWt9Vi2SOvgHYfpqfj33HHPPWTGpSlaWYpSlApSlApSlBB8bfef+Iv6mqk1duNvvI/pF/U1UmoropSlQFKUoLNwBx9qmgO81heS2jyqqyiMqUlCklO8jkVo3K7mwWUkbmxjcc+fHfHOpa7ILi+u5ryRARH3reZGGxuEcagRxBtozsUZwM5qu0oJbiniW91WRbi7uZruVIYoEknkaRlhhXbHGCx5Ac2PizM7HLMxM92cdqes8Oh1sL17VZmDSII4Jo3YDaGKXETpuxyzjNUulBvHVvdWcVzp3QvYoM8i8FpbLIRggjc8bbeucoFIIGCK0vql/NdSPcTSyTzSsXkmmdpZZHPVndyWdj6SSaxqUF37M+1nWuGw6WF69vHKweSEpDPCzgAb+7uI3RHKhVLoFYhVBPIYjuN+PtS1q6XVbu5aW9RY1jnRIrd4xCxaLYLZEVGViSGABzzzVZpQbbu/dJcVywm0OrShChQukNrHcbSAOVzHAJ1cYz3iuHySd3TEVwR24cQ6LA9ja6jJHBI8kpSSK3uSJJSDKyPcwu6bzliFIG53bG5ia1zSgk+F9futLnjvrWeS2uYW3RzRNtZcjBHoZGUlWRgVYEgggkVc+0Ttv1/iCAWF7e++LYOkhjFrZw7pI921y0ECPkbjyBx05VrmlBbU7SNVXTzw6LpvsWxy1p3cG0nv1us953XfD7uofk/hjpyrH7P+PdT0CRriwu5bSSRQsmzaySKpyokjkVo5MEnG5TjLY6mq1Sg25rvuk+K7yI2z6o6o67XMFvaW0rA9SJbeBJUOOXmMtajpSg2RwB258RaFB7xs9QeK2UsUhkht7lYi2Se698wuYl3EtsUhdxJIJJzXrfj7Uo788QLcldTMskxuhHDnvZUZHbu+77kZR2GAmBnkKrFKCY4y4mu9YuJNRu5TcXU/d97MVjQv3USQp5sSqgxHGi8gOnpzUr2ddpOr8PM0lhey2veffEXZJA55YZ4JleFnAGA5UsASARk1UqUG1OLfdDcT6pDJZz6kxt543iliit7SASRyLskRmhgWQqykgjdg5PhVb7Ou07WOHS/vC9ltRKQ0iBY5YnZRgM0U6PEWxy3bc4qn0oNpcY+6D4m1aFrKfUpO4lXZLHBDbWveKRhld7aFJGRhkMm7aQSCMHFatpSgUpSgUpSgVsnQvvcX9HH/AIRWtq2VoIzHF/Rx/wCEUFlvATBJ6CAPl2/qqiy2+0+knLfF41soKGt2Uj8PAHpwOf66pGpwBOXiRg+nkOdZcL3WrLH9sWrsmtjh5PDkoP8A17K6A4Si3qvh/wA6032fxiO3Rugdi3ydB+qtrcN3rhcrGxI6dOfy5wB+msHLPPOvX+N+zCNh2tmABjx51nQnZgemqUvEN7EdzwEKPHA2n5QeXzVN6RxJHc45YOeanrkVzeOT214Z7W8AY9uMn5a9bWLnmozSbwSM464OP0dKzZNTWM8+g68vAVbMZXd2mIY/+v8AlXoRiqVP2hwRNtKOc81OBg8+vXpWXpnGMVyfNBA+XPzGu7466Y7LvtY7iTlUbPh1I9IIr6e8VxjIyfQR/wBCsGKTr7P+dZrdVZMdzTQnaRbd1KynmOY5+G7qCK0fYRBLoL4M3Tr6SP0j9Fb190VJ3DFx+GilSPBtx5H2NjHy1oH34DKjA4YP+sEV6GF3i8jnx1npbOB7wpJInPG3fj4gCfiqvXcm5mb0sT85q08O2yqJpc8+5VOQ6AKpOfQcjw51V7tMH2HpireHW7ftm551HjSlK0sxSlKBSlKBSlKD8ZQeRAPxjNfHcr6q/RH+lelKhLz7lfVX6I/0p3K+qv0R/pXpSgkuC9NhuLyzt5I1eKe/soZU+Dviluoo5FyuGXKMwyCCM8iK7e+114X/ACYv9rvv2quLOzr+UNP/AK007/OwV/SmlI1T9rrwv+TF/td9+1U+114X/Ji/2u+/aq2XrGpw2cT3U0iQwQqXllkYLHGg6szHkqj0mvrSr+K6jS5ikWWGZFliljYMkkbgMjqw5MpUggj01CWsvtdeF/yYv9rvv2qn2uvC/wCTF/td9+1VsTR9ftbx5oYZ4ppLSXublI3VmglGcxyAHzH5HkaiuzPjqy4ithqVmzvbtJJEGkjaJt0ZAbzW54yetBUPtdeF/wAmL/a779qp9rrwv+TF/td9+1VtaozS+ILS6lntIriKW4szGt1DG6tJbtKGMYlUHKFgjEZ67TQa8+114X/Ji/2u+/aqfa68L/kxf7XfftVXHgTjez1r3z72Z294Xs1hcb4ym25gx3irn4SjcPOHI1ZaDVP2uvC/5MX+1337VT7XXhf8mL/a779qq38WdoWkaTILa81C0s5mjEqxXE8cTtEzOgkCuQSpaNxn0qfRWfwrxVYaqrS2d5bXqIQrtazxThGIyFfu2OxiOeGwcUFB+114X/Ji/wBrvv2qn2uvC/5MX+1337VW1q87u4SJWldgiRqzu7HCqigszE+AABOfZQat+114X/Ji/wBrvv2qn2uvC/5MX+1337VWxuHdbttRhS8tpo7m3l3d3PC4kjfY7RvtZTg4dGU+1SKkKDVP2uvC/wCTF/td9+1U+114X/Ji/wBrvv2qtrVG8Ua3DptvPqExIgtYJLiYqpZhHEhdyFHNjtB5UGu/tdeF/wAmL/a779qp9rrwv+TF/td9+1VsPhTXIdTt4NQhLGC6hjnhLKUYxyKGQlTzU4I5VJ0GqftdeF/yYv8Aa779qp9rrwv+TF/td9+1Vtaq52kca2fD9q+p3bOltE0aO0cZkYGVwieavM+cRQUz7XXhf8mL/a779qp9rrwv+TF/td9+1VtSNwwDDoQCPiPOvqg1T9rrwv8Akxf7XfftVPtdeF/yYv8Aa779qra1KDQ3al2EcOWWm6hew6csc9tpt9cQv75vG2Sw2sskb7XuCjYdQcMCDjmDXF3cr6q/RH+lf0b7bv5H1X+p9T/yU9fzoqYivPuV9Vfoj/Sncr6q/RH+lelKDz7lfVX6I/0rM02LLAY5Dw/UBWPU1wxbFm3/AIKkH4z4CuOXLxxtd8ePllInZk2Rqvq5ZvjPh+r5qo2tSmWTAAyMDxzuzkj9AzVy1C854GCwPmj+eeQb/u9aqaQkSnnnaQMgjmx5np1rFx/dbeSeo2foOnZSKLkAqDPhzxk/pqzy6jcRslvDyBwZHHhzxgY6YHM459KxuD7cSlSegA6eI/0rYV5osZCyDajj1RjPsI6H9dZZ7exx4dK/YR3CSFTIZY8MTlJJC33NigA7zPNyAeeR151HcQNJZSBgQHKh2RX3gEgEhXwCcE4KnmOoyKtXeyw8xtBHQgEHPhiq9r0kknJiW3HkCOpPpPy1o5OTC46kOPgzmW92/wAWemwuza5NyvfYxuAz7T4/JUzrdvHhm54XmfHPs9tYHBFt72t1UDHmjP8AvHrUmbhCpDdTn0881mxumvPCzuNdHWJ2Z2hiwkeC5Ch2Vc9WZztB5/B9lSmncVSFVZ4vhd5gGOMkCE7XZ+6cyRoeRVtuCOYr3k4eEbEoq7GJOF5deZ+Op3TLGCJcGEL7Snp8ByHiM1r47hJ3tl5ZfKeNmvrXf/Lw06+jvAZY9qspwyKd2Rjkc55jl1FZwc8h0JHoxz50tdJVWMi+aW5fBG0+OMYBBHtryuMq2TjPTp4Vjzydau+mnPdQQ744sfCfzV9AKknB+PNc4xaNOqi5YBED4BY9TnoPTiumu367jMccJGWJ5H8JSCDuHxVoLjm7ZgiH4CK21RyAJ8MD9Zrdw39sjy/k4Tztv4TGk6wqLtKMySKcsgDMMgqeXjg+3wrEvdIkVDL8JM8iOuD4kdRUfw0WKn+bt9m3d7T7f+dX7T7hincyDqMKcY5noGB9PTI5fFVP6l48tRxlxTkx21zSs3WrUROyjpnI+I1hV6eOW5uPMymrqlKUrpyUpSgUpSgUpSgUpSgnezr+UNP/AK007/OwV/Smv5rdnX8oaf8A1pp3+dgr+lNRUxrr3TP8har/AFfcf4azPc+fyJpP9U2H+Wjr17dNGm1DSNSsoVMk82n3KwxrzaSTumZI1/nOwCj2sKoXube1fRn0SySTULS1lsbOG1uobq5hglhe2UQ7mSRwdj7AysOR3Y6ggQl++5r/AJQ4n/r5v8DVX/cXaibPheS7Ch2t5NTnVSSAxiBkCkjmASuM1Ne5Gm9/fZrXFDC11TXrqWydkZO+tovMSZVcA4JYqfQyOOqmqv7k3/shdf7msf8AlPQWnse7W9c4oW1u7fSYYNPLhL+8uLhl3N3jCVNPiwHmEUezdM/mmTvUA+5nNh7J+JIbvV9fsksba1lsZtPWa7hUCe/M0VyyNcEKCTGEIXJPw26V4+48/wCzumf0M/8AnLioHsC/7Q8Wf/udH/y95QVzsL42s+HrTiXVbt9kMPFGqYVcGWaU933cEKkjfK5GAMgDmzFVVmG8OyrWdR1G0jvr60TT5rj7pHZq7ySwwMAYxcF0XbORzMe0FcgHDblXkjh7gS/vfsnr1j/GrvROMNUuk0ucd7a3igws5SLH+2KF81gdxwAuGC56w7H+0Wz4ntE1G2O0/AuLdyO+tbgDz4ZB6R1DYAZSCPQA0h2x6jptrxjYy6g1slmOHWDm8EbQbzc6iEBEgK7ielZPYFoNrdcQXvEOkQC14f8AePvISRxm3tb6+DxGRrWAhQIIxGQWVVXehxneTX52parY2fGdjPey28FsOHGVpLt40h3Nc6iFBaUhMk8gPGongfVbA8YRpoDK2nz2Era6tkCNOMqRzmGVQo7kSCU2q74ht3SuAdzzUGybrtO1jVru8stEsbOeDSpjbXd7qNxNDFNeLnvbW1SGMsWjxgyOQuT4DazzXAPaSmvaVdag1r3U9mL611DT5m3rHdWsRM1uz7QJI2Vl546OR1Brnzsz4b0yz1DVtG1bUb/R7wanPeWjLqsmm2l9Z3LYiljKuIpJjtBOTuIkVQCY3Cbs4F0DRNP0zVk0q89/RSreTXUwvFvv429n5+ZlJBcpsY8ycnnQfPZZ2mWNtw1HxK9pDptnFFdye8rJVEaMl/cW6xQLhF7yecDGdo3zcyBk1C6l2wcQaXbwcQahpNpBotw9v3yQXc0upWEF0yrHPcI8KxSY3oDGgDZYA7TnGvdC4ZudW7Pora3RpZ0FzcLEgJeVbfWrmWVFUc2fu1dgoyWKgDmRUhw5ovBet6fHPPr94sMsMRubK+4hdGhkXBMUltcSZJSVDtO0htishYYNBt/t+7V24XSwnW399x31/FayCMs0qxONzPAiA99LtB2py3EqM1A8Zavrl7omuTalYW+mxtpFy1lBFcm5uAGtrrvlunGIw6gQY2ADznz0wIz3TiRq/CqxndEOJNKEbZzujDRhDnxyuDWyfdCfyJq39U3/APlpKDSPZz2n69DodtdadpEU2naTpcQubu+uDA921pB/HBYwJ5zJCY3XvWOHZWCglSDuCXtgsotDTi6VHjt3tY5u4BDy99IwiFshwA7d+dm/AGAWO0A4g+Df+yEX/wBMN/8AbmrUXFPD1xqPANmIEaR7aOK7eNASzQw3M4lIA6hEcyH2RtQbIv8AtL4rs7TyguNEsRpyxC5ms4r6Y6pb2pG9pX3wCBmSLz2QYYAHIXBxH+6+1+DVeFX1KBt9vdHTp4mIw217mI4YZ811OVK+BBFT3aV236BJol1epf2kputOnjhsxPG1y888BRLd7cEzIweVA+5fMUljyrVXaRw5PpPAMFjOrJOvvaWSN1KvH761JrpYnVuauiTKhU4IKkYHSg3b289qLcKWtleCAXCXN/bWUoy26OKSGWR5Y1QEySARck5ZzVN4t7cda0M2upalo0dnot7dLbDFyZdTtg6u8UlxCgMYdoo3k7hcsu1kJDAA+vuv/wDZ9B/+ptJ/8u4r192x/smkf/VGl/8Ak3tB4cR9tOu6U9lf3ujQ2mj6jfQ2SK90TqkHf7jFLcRKDGjmJHlMABK7SjMrc66Crnz3df8AsGmf/Umnf5e+roOgqHbd/I+q/wBT6n/kp6/nRX9F+27+R9V/qfU/8lPX86KmIpSlKlD7hjLkKOpNXDT4O5QKOuCc/H41GcG2AkYyHOByHtPj+sfPVh14bFOBj0nwAHh8ded8rO3Lxn4b/i4anl9qqZO53MTzGefXmTn/ANahDOVYMepwT6BnnUtqsWCg678t83/vVa4glCsCDyBAJz89d8frRyX8ujezFu8VW9i/qGa21Z23IZ6VpTsXvg0cZ+T5iR/yrdyzqkeSQAB6f0e2smOPeq9/hynhEFxrqMdlGz4ycHA8c1WdFV7iVS2DlQ23rgkdPbivjjUd8GZjnPwefIeNRHAvEkUc4WXzegDY5Z6Dn4VGcjTLJpvCxtysYFelu64ORnHsr1j1q2MS4YE9eWD+qsCHUEfIXPP8I8gB7M9fmrq4+tdonJ5b312ybSa3m80YVgeYzWVLpIPPJx7D+moDXNGwomh82ROeAeUijmVPtPpqX4Q19ZQAfDkVPVT4gjwNdzHvWSvk3rePbOjh2Dbjl7aiNcIHPxq03UysOQAqocVSbR8XP9POuObGTqKZnbN3po3tiuNkqx9QQckk9Sc/8q0bxWMkRkjO7OefIDx+blW4O0m/Wd5MjJB80DPLqB+vNae1bEshUAEA8wfSMY+PxrTx9R5XyL5b/wAsng+TLgHo2VYew5wcezlzq9aW24ANyAbIOSfH5xVH0C3MTlyD8IBeXUZA5+wAj9HhW19OslYD0MAcf7w3fozWX5E/dtZ8e/t0qPHmmnImUeaQQSMYGPi9POqhW5ry1UgxnG0gLjpnl6a1ZxJphtZCnVTzU+z0fGK2fE5dzwv4Yfl8Wr5z1UZSlK2sRSlKBSlKBSlKBSlKCd7Ov5Q0/wDrTTv87BX9Ka/mfwXeJb3lncSNsigv7KaV8FtsUV1FJI2FBZsIrHABJxyBrt77YThn8o/3PUP2WoqY2lVR1rsw0O9la7n0rTp53bdJNLZW7ySN60jNHmQ+1s1W/thOGfyj/c9Q/ZafbCcM/lH+56h+y1CWzbS2SFViRFjjRQiIihERVGFVVUAKoHIAVg6Tw7ZWcJsoLW2t7Vt4a2gt4ordhIMSZijQRneORyOfjVA+2E4Z/KP9z1D9lp9sJwz+Uf7nqH7LQbH0fTILKNbaCGK3gjBEcMEaQxRgksQkcahFBYk8h1Jrz0/RbW3kmuYreCGe6KG5mihjjluDGCIzPIih5ioZgC5ONxx1rXn2wnDP5R/ueofstPthOGfyj/c9Q/ZaDYej6La2fedxbwW/fytPP3EMcPfTvjfNL3ajvJWwMu2ScDJry0nhyytJJbmC0tree6bfczQW8UUtw2WbdNJGgeVtzMcuScsx8aoP2wnDP5R/ueofstPthOGfyj/c9Q/ZaC58R8E6XqTie606xvJVQRrLdWdvcSLGrMwjDzRswQM7ttBxl2Piaz9C0O0sF7m2toLWPr3dtDHAmfTtiULWvfthOGfyj/c9Q/ZafbCcM/lH+56h+y0F54o4T0/VQq3lla3ojJKC6tobjYT1Kd6h2E+zFeujcOWVlEbOC0tra2bdut4LeKGBt4w+6KNAjbhyORz8aoP2wnDP5R/ueofstPthOGfyj/c9Q/ZaDYuiaTb2MS2tvBDa28e7u4LeJIYU3sztsjjUIu52ZjgcyxPU1B3vZvok8pvJNK06W5Zt7TyWFq8rOCCHZ2iLM+QPOJzyHOqt9sJwz+Uf7nqH7LT7YThn8o/3PUP2Wg2Fqmh2l13RmtoJzbSpNbGaGOU280fwJYd6nupVxydMEeBrJ1GyiuUe3ljSaGVGjlilRZI5I3G1kdHBV0YEgqQQQa1p9sJwz+Uf7nqH7LT7YThn8o/3PUP2Wg2NBpVukIslghW1EXcC2WJFtxDt2dyIgvdiLZ5uzGMcsV9aTpsFnGttBFFbwRjbHDBGkUUa5JwkcYCKMknAHia1v9sJwz+Uf7nqH7LT7YThn8o/3PUP2Wgtdn2d6NDN7+j0vT47oOZBcJY2yzCRiS0gkWLeJCScsDk5PPnUzrujW1/Gba5t4LqBipaG5hjniYqQykxyqUJDAEEjkQK139sJwz+Uf7nqH7LT7YThn8o/3PUP2Wg2FrGh2t4I1ntoLhYJUnhWeGOYQzRgiOaMSKRHKoJw64IycGv3W9Etb4IlxbwXKxSpPEtxDHMsc6BgkyCRSElUMwDjBG44POtefbCcM/lH+56h+y0+2E4Z/KP9z1D9loNha5olrfqsdzbwXSRyLNGlxDHOqTICElRZVIWRQzAOOY3HnzqQrVv2wnDP5R/ueofstPthOGfyj/c9Q/ZaCx9t38j6r/U+p/5Kev50V2h2pduHD97puoWcN93k9zpt9bwp71vV3yzWsscabntgi5dgMsQBnmRXF9TEUpSlShsDs8QMrADkkK5P85iWPy5H6BXvxN50AI6k/oPh82Kw+z2fZDKfEuq59m0/q61naqrSQrgeaMu3Pw/0ry+ezzr0uCfsjXmu3JYhc4CLt5deZyf+VQGrxhgoHT9eP/XNTvEMahN45tk7vjz1/Tj5KreoNt2j0KevxDFaOL0q5fbbvYzeEQK2cGNnVh06OeX6RW3+INTZREozgx7iR6WyBj0Een/WtBdiuoAmS3PU4cA+O4bT+kCt+6BMtxGkTbQ8Z2DdjmD069TWTkmuTT1ODPfDEJrUnfAqDjAPU45dMfLy/wDevLQdHhbBZQ58Mkhc4OMkEE+nA6/pr4430DvVbu2Ctz6jK7h4kAg9QKsXZvb2LR9xMu2ULABuJAMhkZT3ZJ6EcjjoCvSpsnuLc8Mpjvuz7j6tZZFBiQbBgcgOZJ9vgMV96LLOjYw2Bz5g4PUHHsFbW0ngjTt+/YdjIPNEr4VssMjDZ5jHX21GDR7O3KSyEd2m4yiRzmQMxC4UsM49AHhU5ccv5V4/Jwvrd/pFx6nIAOXMjp6Rjr8dV2/vJLOb3yoOGI7xR1dcA78dNwHPPj81evFML38qRWS+9IYye9n3OZJcblG0E+ahBDc+fhjxpfaL3QEZd5mH4bncTnAzgDp15fpplj4/ldvPW7Nfxfa82WpCQBhzDAEejBFQnGlzshkk6EK3Xn0HiK9tOjEahF6KAB8QGOdVztPvBHbyZP4B5Hln01XvysTlWhdUulk707girPBHLJIdoQTCYocZLsoELsdoOAOeOho/Btl3uyRskszE5xk88nOKj9dvmnLDON77iFzjxx8uCfpH01fOH7EW0AJ5MRgZ/nHzv0AVr5JrHX28fDLzy/wx7HTPuzegcuQ+M/JyIrYfDyFgnhtGG+Yj9Y/VVV0GZQ5bAK8wSf5wPhjkcEH2cqu/CkQYZzj4XXllc4XHgTmsmc8smrG6j8nt9xCeJ5c89PE/FiqV2iQI4cKOVvsAbnlgeTciem4jBGa3RoWmpdjYw9inkD7MHxOfAmnEnZOkytGs5WR1I89QQNpBC8j0NaOHhu/KKOfkllxcsUq7cU9mGo2LNiIzqpP3kEyADxMRG9h/Oj3r/OqlOCpKkEEciCMEH0EHmDXovMsflKUogpSlApSlApSlApSlApSlApSlApSlApSlApSlApSlApSlApSlApSlApSlApSlApSlApSlApSsrS7F7hxEvUkc+eAM4ycVFsk3UybWzhn7naM5OA0pA9OdtTM8nfW5QHby54BJx6PZXlxVEsKQ2UfwIlJJx1fBBY/OawrGVlUhcs204yWCL/POPhEDoBj4xXkZZTPO2fl62OHhjIo+uRYXuueSwGPEn2+ioXUYQGK9dpKNjmARyb5c/qqw3APfKCSfOGGORuJbHIeA/wDWoy6tym9uoDMefsY9fZWvj9M3L7Y+hXvvOaOdegIVyCfgnrkfMfkrfWl6qCFmU55ZGOfy8jXNU9xtJA6dSfT/AKdavXZ3xR3QW3kbzT8A9Mew+z0Vzz8ds8os+LzTG+N/P/LfbzbxnGQfH29SOXL9dSmi2Ecg6jb6GwcezHWqXwfrgnzGcnYxA3YK8z+AN2AcdeXhV20y1AOVIywz6Dkc8A+Hx1ml1XtcPNnJvFPx6YOQWZ18fNdh+o8+VTdlo9ogBO6R8fCY5I+U5Pz1D2tpIdpBwBj4/R49RyFWSxsgg5nmT0+X9VWfqfS39Xk+tf4fUcaxAgACq/f5eUciVUczj0nr8n+lWNsZ9n4Xx1Wp79TNtGcEZOAMY9vLI8fmqrLtTyZfaWVliXP660R7oPivCGzTm782PgigePxg1f8AjviTu1MUeDJjqTlUHrNzz6eVcv8AFl80kjyMxZm3AFup9uB1J5Y8BiruHDvbB8nl1jqMDhW2Eki7hlVbe59KgghefixwPiJq6z3TXDkLyCBkUeG7luPzn/wiqrw1A+xpFByASvLoegOD1wMnHpAqZ4duBvEfPo2fTk9T+jFd82Xu/TLw46k/lPramMbjnafg+lhyGT6MnnV04UdsCIKW80YxnIJyQR6Tiqe12ZHHLzFITHhy55Hs5/oNX7hMFDyGQwXOcZGBnI8ayz/yafUXbhXdCveq2/BIeJh54U+IB+GDzq06DqYuZch+XMFJcjA64BxvQZxyIIFVR3DBWWQCTJRuhYKCANy5Gc5GDyPjzqf07ZhnljJIIjjkXkdwJwwfG5cn1sg8udetxTU1GLk77bHk0eG7QI67jgMQwwynwdGByPYyn/mKqmv8AxvkXFrHqdsfw2RDexenDEZmxjwIb0dKsvD0klvtDuJYSVAl5LJC7clVhjaQScB1OD0IOc1ZpZ0QFnZFUY3MzBUbcQFILHAyxAxnkfkzqvTD+XMPHXue7W4ia40uUmRSxWF33QyY5mIOxLRSj0E+wjxHOV9p00Eps5IpEuA4jMDKRLvbAVQnVi2RjGc5GM5Ff0ZSPu3aVYwO8xvOB54XO07h1fDHzueeXSsLiLT4USS8WGJnaFj3ndIZfNQ7CH27zj0Z5VFw2jb+dNKUqpJSlKBSlKBSlKBSlKBSlKBSlKBSlKBSlKBSlKBSlKBSlKBSlKBSlKBSlKBSlKBSlKBVx4AbHQY55ZvWGOnPwB5/GKp1TWjaosKhOYJbLN6PR8nsrP8AJxtwsi7gsmctXTXomZRjrlgfTy5/N0qJSVk+5HHNfEej5M1coI1kjEvUbQG6ZXA5Pz9lU++tGEmeR5cm655ivM4pp6mfaJ4g2EI4UBon5ZwMq2GA+cGksKNuU488H/xAEY/R89fOsWbMSPDzQ3xKMnl6f/SscXPeYUjBQ+H4SHp4/g8x83o57JWaztT7zQ+8zjwJUcuQPo/0qOEBXwO5TtPs9HzVNe/WjYuOeXYOp6Mvo+MdQfCvh1DtvGefXwJGMj2HpV8t0zWSrbwHqpgAkz5xIRsjOxSQd2egz5wPxL6a3twjq6uqyFgQwz4c+o5/N09lc88Ow4kx+C4K+w/9GreGltvgswTeHwPDp5uOm3ryFZeSS3T0ODPLCbnbo6HUF28iPj/X7az11pdpPIhcYPXqP1mucLfja5XAbki7geoPMAKQcnPItz+KpV+Ip3VTzClcnb1Ab8FufwhyPjXP6djVfm2/hsXizjQIrAHBJXmPAnPLGefh0zVZ02/upssjAb+bPz80Z5/97GeXs51gcMaHLcYkkyAcnzvhdfMIBGMgeJzVm15o9PhKooUnOF5DLHxPy880kk6VXLLLuqDx/qPcRtGpJdgQSSST6ST1/wChWmdVU7sZAzjrnd8Z9H/vWwOKZHlPm+cxJyx6Dl4eJ9n/AKVTb+0KMWOCQvM9RnkD16+POr8Lpj5u/Sx9n8kaJKh8QQpPUttPzDl+kVHcPR4m6HkzezI55Ptx/rX3w9ZyNkg+YoLt4gZwQD4DGOntqW0K0A3zn4QBAHjhiF+Tlnl8tU8mu59rOOXUv1UnHZlCScd2zbkYcxg45YHtq6aDcFSMcxhS2SPNyP0VX9M89DEQNoIZCc/BGcirPBAqIZD5sadT1JI6D2t7PCqMdrrraWuLgyJIwHOGPfuHLkrA/H0zV84TuffJjQE5ErbSPBAhIA9mSKovD0qyQ3D4xuhkVfSBtOPlq+dk9k2yCUgnO9s+g93y5/Fzr0+KXxx/li5rJuth8IWrCKSN8us0s5CEABIVcx5Xl1ZgGHh09BJ97pvuZtHUXETlkV9okVoxjcZVwcMCMHltOM+kD6i1AKuQNzPgIgOMoOSgHBIyCW+N6q1nw99hXGoxyTCJ5VjuLaSTdHCshzuHPDDmWLnLElfOILCt8n4jB/NWmxs4tPdIk+529wNiKPvSXI5oEHSLvULDAwC0a45tzkkOwmM/BfIweiseWcehjyI9PPoaTQRyqbRwGjdTsPg6dRgjo6cuY5jzSPZgWjP51pKS0sS7klPW4t/giQ4//VQ4R8eJVuW4AczsfzkpSlUpKVPcD8Opqbzwm5S2eGxu7yJWieVrp7SNpmto1Qgh2iSVt3nECJsK3QY+g8MX+oL3ltZXl1Hz+6W1rPPHkciN8UZTIPhnNBE0rI1GxmtnMM0UsEoAJinieGUA5AJjkUOAcHqPA1j0ClKUClKUClKUClKUClKUClK/M0H7SlZFrYTTLJIkUsiQKHneON3SFCdoeVlUrEhPIMxAzQY9KUoFKUoFKUoFKUoFKUoFKUoFKUoFBSpbhTSmvJVhUE55nGMAeJOfCot1Eybq48K6qVgKEEsc4x4jHh6TnrXxpDbixxnHT2ePL/rrV0n0SKxtTIzDzeRcLjPUBQOZPPkPkqnxK6xtLt2CTIhB5M3Lm+Phf+9ePl3n09fHrHt4zRbwABlu8yfVB6cz89QvE9h73xgc2GAR0OBkgDwUempGa4YmNBkKiKTk/CL8yx+I5+esTj69VgmQwbYVUnxB6Nj0E55+01dhNXSvO/lS2tgWV+WCc48OfMn217XKIjJt87chzj0942Mf9eIr8vrWQIh6KF5DxJPXPsr80FFLoGBZ3yBz5Ko3MPjJb9ArVGX0tej6YyQxXR+C0sifEV7s/wD9sfPVvMAZcHGehr2e2WbTCVXDRTys3j5xjDgD0Z2fORUTHqS4h6sZVC4GeRXzT4eyq+bj1JfuNfByfhkWcIUlSAR6D/yzV44YtYmwQoHxADn/AK1CjT+QYDly8cn5aktPgCechIPiD0NVTemjx3el5Bit13MRnBx4k49AzWo+NtZNw5fnjoik5xj0D4+fzVYdWvZCuzPIjHjyz+mtfa5cLCdpwzcyc9AD4+0/oGPGovSdSRhsxbJzzGRuPJVz159CSfAeysK301ZCZCQ4VgNufNBzgZ6bj7Byr1lujcgoo+BG0rEYAVFwOWeXPIAHtrEij5+auAqhifjyP1Cu5LJtmtlulqsljjhkYkBF85j6SPwQPSeQxWJwxb96CwHw3UAegDe5J9JGV+cVB6s5CRxnO0uSRz5+byz7edWnhM7YeXJiQSfQp3D9Q/RVNn7d/brfek1ptqHd/CNQFyvUgbRge0n/AK5VK6ojSqIVGFUHAU8uuSc/pJ9NfmkoCh25OGX5SfE56DBz8oq3afpQUZb1WyT4ZUnl8pFWcHH5XpznlMVatl2DYOWRyPUecuBkfhE+it12pW1t40bzAUYsx5BIwpMjHJHVRtz/ADxWnJ4DIHWPpDbu4J5HcgLHJGfR051uDW9QVcTFN8PdRKcgFShj7xjt/CBaRAcdNvsr0/j4d7+oxc93qLFwlukbvDht/wAAj8DzQe7bJPPHMEdfZjnaNSs0lQxuu6N12PjqADlXHtVuefDr4VS+z23NqWgbzUm/jMJyW2I3MJk/inwMehgPCr7FLn2EHaw9B/0I5j2Gu8+r0ovtTNGkeyk+xc7eY3nWc/hnwA8B1xt8Oa9GTM1q0bOgmGBPbMXAzgEhcSRE/i5YyevTKHqtOK9GF1EYhydPulu+cbXXmUz+CpxyPhyP4ArF0d3vIvu0bRt3QSVHAHfAg7ZCuSVUjJ2nnzIPQV3Lvv8A9/7/AC49P5zUpSqHTffZBx77yhttV1CSzurezCaRplrBaWsusW7YQGZX2pLHaral1bLsZCUG3c2Xwu33itHnvrWQavY6ha3McFlAl+G0o2sb/wC0CBUja3M1tiVQu/JePzhhhVM4Fto73TtTsVt4ZL+IWupW0vdBrxre3k2X8UMnwgEiaOURrzYNPyPLFR7y41CZcvLdXVzJFErSyNLNNK5WKFTJKxLEnYg3HkNo5AUSu3BXFjai0eh6nK91ZXLrDBczsZbvTLmVtkNzbzvmXuRIyLJC7FCmeQwQ1F1qwks5ZrWQAS200sEoGcCSB2jcAkc13KcHxGK2hw52X35t51XTLtNc0/UrJ0M5VLN7SQPyUyfxa4Ec8O52ViNkqEMQGWqj2x3CT39zOt5b6iZikj3dpA1tbSStEocRRmSTKqRjeHYPzbJJNBbte7KdP0o27X+tJax3lpBcRCOwnuJ90iky70ikIit4yUxMx+6EuAq7CTHXnY/eJqh0ETQttgF618cpbrYYy1267iygN9z2Anz8edtO8e3um76K5uLFopEmUcPachaJ1kAffeMUJUkB9rIdvXDL6a2lqXGtja60A9zAlvf8MW1h78+5XEFtcO8ssTTA7ojFtxuVwV8+Pd5pJohp++4EsZ7e5u9O1T7Itp0QuLyCSxmsXNtuKvdW5lkYSxp1ZDhlXBJyVDRPaFwcdIjsJjMJvslpsGobRH3fc98N3c53t3m0Eef5uefmitk8RRa1ZW109xqWgW0M1ncQYso9MNxqKSphrW2962SzbZRy3krt81jjGV+eMuH14ksdJura+06FLDSorDUBeXa272ktuqKzujKWKHDkdCQEK7g+QELbdjLSalbaJ78G670lNT7/AN7Z2FxMO4Effjf58X3zcvJvg8ueLp3ZXDeTpp1tqsFzdxrLLqjLbTpY6dBAq99KLtyEvAsrCMd2F3FgTsAYjbltrdkvElhOl3A9svDMcS3BljVCR78dQxLYSQxFX2E7gGHKtM+551u1t2u9OupltIdW0mfT/fb8ktppExG0hPJIyGcFiQAQmcDJAZEnZtZXkNxNpmrDU5rGFri4tXsJ7KWSBOUk9sZXbvlX1AM8155ZA31D2ZWcNlZazeastna36StsWymurgSI+EjijhcmVTGGd5SFCEIuHLjFm7PdC8jzdave3dg7tp1xa2VpZ3a3Ut5PO0RDKFUFbde7XLsOQfJ27edZ7UryJ9I4dhSVJHhtdSWVEdWeM99aqBIoOUJKNjdjO1vRQZ2vdkljpcie/dchgtbtUfT5orKe4kuYnVGM8sSPttIEMijezsG5nzcHEevY5d/ZOfQ2nijSzhN1cag6kW8dlsVxcFN2Qx3he7LDDLJ521S1fvuir2KeLSBHIkpThyyRxG6uUfYwKMFJ2vkHzTz5VtTi/iXT5tX1TTXu4IodZ0OCxivu8R7eG47mQxiV1baqMsxOSQMhB+GKDXPD/ZRYasZzYa0tylpazTzLLp89tOGjXMWyOWQCS3kYMDKDmMhAVbeCJ204W0V+H1dtUSNG1hWbUfsPdPKkxswGsO6V+/dFGW70N3Zx0zWX2NcIjh+e9lvb/Tkmk0e9igt4L2OYujd3JLM5wojQd0gQN5z7pDtHdmq52f2qaxoUmhRXFrDqEOrLfLBd3CW/f25tUhJiZ+TMrl8jw2jONy5JQumdndpDaw6nqOpjToL1pPeEaWU15c3MUZA98mKNwYYcFW55yHj5gsoN47JuGYI4eIbCLUbS5t5dKsnGojfFbxxyG9LtcI2XgeJVZnjyxA2+JwMLXtGHFFjpiWt1ZR3ukWh029s7q6jgbEPdxpcwNkpNC/dFt6kqQ688qRWPwbY2+k2vEVib6yupH0i0w9tMGhacvdrJbwu+33w0bPGpZBjMijkcgEK5q3Z5ZyWM+rafqg1JbBoVvoXsJ7GSNZ2CpNGJnLPHknkQOSSc8qVrXVbP7J76KLSuIY3kjR5bXTliR3VWlInugRGpOXILoCFz8JfTWsKBSlKBSlKBSlKBSlKBSlKBSlDQZ2g6VLeypbRjLuT15KqgZZ2PgqqCSa3foHCkOmwP3TGWbzRPKeX3RULtEmMbAo5kcz0B5nl99iHArwL3zjbNKo75h8OGJwGW3jJGEmYFXd/wFKgcytbC1OzSCARqoRI9wwBgMreYQmebMSQST/O5knFV543KaaOKSXbWfGsh7lYuT7VWRsk4BY8sADmc5z6ADVU4nDd3HIG+6bRyXJCLjBL+jJ6/88Zq/vpLBzCSU8wAheeUB3BckcwG649tVzU085oGU7drYwp54B83/eJxWGSS69fht3+YpDXSuElAA2CNSOufQTnp5wYfNUVxYpuZDK/LGAMeKKOQHXB5Y+X01n8Kr57W7jCscrkcsg9D8TKD8pr5miAZllRineEZT4cZzyK55HB8K6xxu9uMruMK7uhsVPEqMgAFkj9J9HLw64xSz09IMXPPAKouOQHeDdluWcY/Tisq50Q26GRZFlibJDqPumD17xTzBHiRkdfiqU0rHdxop3PIxDDCujIoCAc+WMDPj8VX4TtTlem2eyHTEmsRI6lleUO3oCkMgJHo2MhJ9JrGl4Xt7WXbtAAZgDnkCxzn0DPLNXH3PlixspYmzjdcd2MYwFEZUdOm5fR0FSutaUs7AnBEqZwcDmp2kqfHzSh9mRW7l4/Lhln40q4eTXLZVGe07k7SPNPTlWLLAVPIemrqOH2RSrHcB8H0qPR45+WoW6sinmnof+uteZcft6uOWlD1e2ZvTn2Ejl7MeNU7U9Eyx8F2H0nJJ5Z9NbR1OEA5/wCuVVPiB8A46jJ6eGOY+aq7HWU2qfDw7kT7urQNGoOOfnBt+fADaDX7bKIpQhBPmR5BxyLLnA65XP66+7o7oogp+6zHzMfgqCd7P/NIBGPEE+FYmo326Z58fCMe/AIxhdpOCAQCwNXTfgxXrLpncY6arpFMngcMp8Dt5f8AMVnmAxhIR+GUJx6B1/SD85qMa8zGwPUY5fKQOXpAqw2brIyofhxrHIvtV0G5fjGc1iyyt/ra+TX9rXwsufufIMysV/7px6fRV1s1Kp3pclQpI5AZyvIc/CqDw8hV4yPBse3PP9Px1fmQybbXGdu4tjlgjOM4PpxXofFxmmbnvb07O9IEkiB/g3MbZHI+bIjjHs6Hl7Km9H0+5nlGnuUa3jt4pGZeUilAI8ektlWY+wAZOSBncE24XuX5fckBOCfwGYH5cMa+YoTZqNagBaQyulxDkn7g8mdwHRQu7d6OYOcAg+njjrH/AH/NYMst5bXO9hadO7UhLiE5hP4PeYyUwOsUqfrPoFZ2haiJUE5ypUFZVPVQpwwb0tE+efqk+kVibFTbe7sq6hsjp3bEMCP9xiGH80mvG1g3zvOpO2cBliHwO+jOyWZyOiFdmAeTFc+ipslxcb7e3HKyXFvLsZoxHskGOXeICdzZ6gAbjgYPm8+RxUhpV0JhFP07+1Vse1cH9HeGvbWrYyRSQD4T20yr6CdoH62HzmoDgS77y0gbl9xl7v0YjfKxj6Dxmqp3j/ab7fzwpSlUumXo2pz2Usd3BI8FxA4khljIDo4BGRkEEEEqVYFWVmUggkG5S8U6Pet391pctvckh5JtHvBaxTSZyX96XEEsVuxOCTCwySTgVQqUHQHZT2uOJjpFssGmWtxFfMt5qt/cX0sd972dra4knuXWBIzLHGGgWMKS7EEsfO09xbxGt+sCe8rC0kt1mWSWwto7UXZkdSHlSICPKBMLtAHnueQIUQFKJfgFAK/aUQ/AoHhQqOuK/aUH5iv2lKD8CgeGKYr9pQTWlcJX11EbqK2kkh+6EMuwGTuV3TGKNmEtxsHwjErbcHOMV5rwxee9zqAt396hDIZfN+9B+7acJu70wCTzTMF2A5BbkavXZ3xNptmLKSSRIntxdJdB9Pa8uWed7hY5ba5dilparDLCWSAJLujn82Qy7qhNSv8AT5oopjdXSzQaRb6WbS3jaJpmtoRaFjcMDF7wniBleNhvJkdNvPdQQmqcHX9ogmltJI42eNOis6ySgtEkkSMZYZHAO1JFVmxyBqQ1Ts/vbaD3xNDIkrX1tYRWwRZXmluIrqQqGikbbOjWyRm3K78zpnbyDXry40y1eaeJ45FOo6XqFvbpprQytDYXxnMF1eys891emJx90ldot0TsHzJtEXw1xNpujlGjuJr7GsxX75tmiK23vDU7Nm+7Ph71GvUdhyRiqAOfOKhTbjgnUFkjtTaSNNMszwomyXvRbqXnEbRMyO8aqSyAll5AgEgH1v8AgTU4Ead7R1iiiadpN0LqYUXdJLGUkPfxovN2i3BBndtq0ji60tlS1jkhZFh1hi1jp32Pt1nvdJl0+2Cxtmd5Wcr3kh2oqiIDfsLVGaNxNbRGxLFsWmi6tYy4QnbcXn2Z7kL6VIvbfLDkMtn4NBV7rQLqJpo3hdXtI1luQdv3GOQxKjsc4w5nhAwTnvFxmo6tj8baj3em2iOkkV/qEFsl4silGey0d7iDT5dr4fbcK8J3Eed9jlIJBGdcUClKUClKUClKUClKUClKUCr52NcKtfzrMV3JG4CKV3K8uA25x4xxKQ7DxJjXq9UzSrJ7mRLdPhyuEX0DJ5k+wDJPsBrsTsy4NTS4UTq+xeYHQE5wPWZmO4n8JiB8FUpJt1PtYdJ05LSMRr4BmLMc5PwnkcjqSSScYyWwMZGIQW/exrdsd5LZtougABO2Vsc2dl88eCqQevWYu/4yzREj3vFg3LA4DtjctuD6gXznPoPTz+XnO4t4muWB755ClvCACWJOI0CDoPglgPE457VB0+Gojy7VLV7ELkuxCkTOjKoLDa7rtA6k/B+f2VRl02d7yzjycy5mkT4WxFzgk+0jHx8q2Xc6XqUqASQRIELgyFwzecd7bUXIB5jqT4VJ8J8ORQhbv4UjqkjO3M4DZAHoUADl7Kyz4/6mU6X/AK0wndaI1rgiRFFygZmMjkKMljl3K7fSCoqt2l4pf3tLGxLyKM7Ty8PPXqcenqK6pi0Nmit+aKd0BBKFsFgBkjeM829POqvwhwZEby+aXbLLC0YQ7AoUTPIGZRuYqehHPliu8viby3HGPypMdVoPiDQ4lCpDuBfL4EhKgDJ3EP8AA5H088keyvDs+0KczPIPvUMUku0AkAhQoAA+CS8g5n0iul7/ALOdPkkYmBUdm2+Y0iofNIHmh8ZzjpVS4q0/3nBcTRIIH70RTdzlVMaGKVABk7R3JycdWXJ51bx/Cvl5fhxl8nGzUSHZFq/vKe30yRCvvkTsZGJUrIhGI8FeYaME5/3APHF5giCHuuRGCCB4OGK8x4HCc/kql8UaKUOn3SEq8bs+70YCDP6anLjiSMTGOQCO5ctLGp3CKTuY0aRu8APcgs8fwiPHma2TDU/ixm8u9pWdPCoHWLAMDj/o1OQzGVVuMbQ4yVV0kUEnkQ6cmUjmGHUEVi3xGPTmvG5uO45ar3OHPzxljU2uW7bmAOAgG5mZuZPM8umB/wAqqWtTLImQRs2k7uqn0AdCxPT0VfuOowyOowNwIPLkR7ceFVXQ7ZbmRd4CrEAzg8xuyAOQ+Eqglh4Z2/FVGPHvLS3ky1jtXBbwWcAZx93cZXqxw3SMeCD1j8Qqlm6bf3uOW3ay4+F53UfE36q2DxdYieUSBSqFTtQnOAhAz7ScZPx1WtV0oqFIGQrke0ZJOPR41fzcfjNMmGXk8tJtSy7slQ/wSc5wOYOOvLp8tSyQOFjLYEgDBWHR1DZUhgcHk1eN82xYwBjC9ennZORipPQZgE2NjbuDbTjKE+Kejny+KvOuLVv8LBw4c4ZvwWU+OeRx4c+uPnrbHZ7ZmRzKwPieefWIxz65HP560/PL3XQ4z5/h05Z/QK6F7PrfbDu9IVxkdUkXcvzHcPkr0fgY76Yvl5eM39sXSF7t7iA4VYjLhvQJULZ+fnWaZEZ1tOkEcaLckHkYSCFjb2eO4cxnrgmo+fHeXLE+a1sc56Zjzu/QR+mtbcF8Ub91srFJJbkGSYsWG+ZmWFRkkhVjReRPifRXrdTHv7ef7rY1vr0tus9i0LXEEIaSKdHXY0DY+5Ejmp2tzOPHA8CbzwjpsdnGiAl3MbBpGOWYxsoA9AUKwCqOgHxmqdwvbLEJLBmMhaEJuOASGUocYGABKmQP/wDJ7c1O8E6kZoYXJ5hgj59JjeJvl71Kjkn7f7RKt2/mjehyD8TqwH/iC1SuDfuZv7PoYpTKnoAXcqD/APhU/wDeqyX2pRQI0juqBcPzOPgMGwPby6VXrOCY3stzGq+9LuElZXb4eEhB2RjmR8I5bbndyzWeTqz/AHr/AOu7+H8+qVTPKuf1Yvov9enlXP6sX0X+vWd3pc6VTPKuf1Yvov8AXp5Vz+rF9F/r0NLnSqZ5Vz+rF9F/r08q5/Vi+i/16GlzpVM8q5/Vi+i/16eVc/qxfRf69DS50qmeVc/qxfRf69PKuf1Yvov9ehpc6VTPKuf1Yvov9enlXP6sX0X+vQ0udKpnlXP6sX0X+vTyrn9WL6L/AF6GlzpVM8q5/Vi+i/16eVc/qxfRf69DS50qmeVc/qxfRf69PKuf1Yvov9ehpc6VTPKuf1Yvov8AXp5Vz+rF9F/r0NLoxJ5k5PIZPM4AAA+QAD4gK/KpnlXP6sX0X+vTyrn9WL6L/XoaXOlUzyrn9WL6L/Xp5Vz+rF9F/r0NLnSqZ5Vz+rF9F/r08q5/Vi+i/wBehpc6VTPKuf1Yvov9enlXP6sX0X+vQ0udKpnlXP6sX0X+vTyrn9WL6L/XoaXOlUzyrn9WL6L/AF6eVc/qxfRf69DToX3P/DrXE3vor5qusYY9Au5O9IyMEtujj+J5PRXU/EU7I5jTBlkZY4gfghyDvdsdVRNxOD+DJ4gVwRwj26ajpcfcRQWRXYEzJHcFs72kL5W6XzyXPP0AchVom91Zrbyd+bbTNwjESgW91tRAcnaPfvInCg9eSj25s48pPZl9R2hptmi4iziGEF5JGx58nJ3kbwzuO8j1ig/ANOFV98zPqTJhecOnxtnAVQRJcMOvM559cKepIrim991LrUsRtTb6cqMRvKw3QdwDuIZjenkzZJxg8zUkPde66NuLTSlCKERVt7wKqD8ED3/0OF+iKtvNi48a7kuLTajLnJ3FyxxliQCT6BnHQch0qsTnurWUDrHb3OPZsWUr+gCuR5fdia+3L3rpXoP8XvOf9/qMl91VrbJJEbbTdsySI33C7yBIhRiv8d5HDHGc866w58Y4y47Xc6LiKH2Na/44xUDw6MX2pD0ran5iDj/xVx+vut9dCLF720zCd1g9xd5PdFSuf49jmVGcD09Kx7X3VetxyzXQttM33KqsgMF3tATbjbi9yD5o6k9TT9fFH6dd26nDg94PwXQ/NKmf0E1rPjxh3F+hHjGRy8Wtmjz/AOH9Fc2z+7B15wQbXSuZB5W954MGH/z/AKRVd1j3SOr3QlDQaeBcBA+2G5GNm7G3N2ccmPXPhVmHycZNVP6d27P4nfbYrL+FHYXUq/7yw7l/SoqHfSvfbC+8feEoA9Dzw2zD5fub1ylfe6f1maAWbW+nd2IGt8iG63lGG0kk3mN2PHHj0r2sPdT61CCi22mlW28jBd8goIAGL0csGpx+Vh4yVzeLLe461W5ay/i5CGGPK7XIj80nOUmPmxsCT5snmNleaEZMXqmqAbgCw28irja68vguueTD5R4gkEGuU9c90xrF4HV7fT1EgKtshuRyOM4zeH0Viar7onVrkYaCwXHJdkVyCq8/MBN2fM58gc48MZOc/Plx549e2v42d4736rfGv6lv5Dn4fKfCrXHw371g7pgO8Bi7xurB5GDMoPQBUkQfGDz5CuR9J7a9Qt5Vue4spGRw4SWKcxlhzBIW5BODg4z4CrJe+6d1mYMpt9OG9lY4husjasagDN4cDEY9vNvkq+N4Y23P+l3y+e56mHpubX9MKCLA+EZE+XbkfJWuI7e8ndmYHuImPeE8tuSFB2jl8LHyCqdc+6E1SQKpgsPMbeMRXGc4xz/jXSsS57dNRdSncWKhgA22GfLAHcASbk+P6hTmuOc1FXHn43teNYudiMhyeY2E8vOHPl8oNS3DMWR3xyww2NwyAf8AQNy59eVaP1DtHvJ+TpAQDlV2SAL4nbiXPPNSkPbDfoghENoFBB5RzZ5DA/8AmPRWG8Naf18dt26Faz6jcdyi5ypBz0wq7i2ceqOnpI+OuneELgSWcEw6933Djph0+CceALLy9korgjhjt71LTnEsVvYlgCBviuCMHqPNugcc6sVh7qvW4VkiW203ZLJ3hBguzsbl8D+O8h5o5HPStnxdcc79/wDTL8nK8l69Oq+NXKWV5OPhBJUBHLG+NlHPw5sPmrTfZzfwS2bWkZxKyF8tyb3zH56OSfQwI+I4rUvEfukdXvrafTngsEiusb3ihuRKuGB8wtdso6Y5qeVQHDfbHfWCLElvYsoBDb4JSZAQQe8KTrvzuJ5+NasufHU191VMe+3Zei8QSze9bpIpC06bealQW2LIy7mwORhz8TZq7cJ8Mzp3iSShYzcSOkcWdygzd+oLsPWY8gOh61xJH7pvWFWJBb6diBw8Z7m6znY0eD/HMbSrEcsdBU3B7sHX0ORbaX1zzt7zrtVM/wC3+hRXN5pr2nWvTtjjDT4xbXIVQGWOGbPwmwjhjzPP/wDTNfXC0h97WRPXujEf95YsH9MZriS691/r0iyIbXSsTRGFsW95yU7hkfx/k3nH0146f7rbXYY44BbaYVhdnUtBdlstvyCRfAEeeR08BXM5JrX8/wDWnNxtrnylKVnWFKUoFKUoFKUoFKUoFKUoFKUoFKUoFKUoFKUoFKUoFKUoFKUoFKUoFKUoFKUoFKUoFKUoFKUoFKUoFKUoFKUoFKUoFKUoFKUoFKUoFKUoFKUoFKUoFKUoFKUoFKUoFKUoFKUoFKUoFKUoFKUoFKUoFKUoFKUoFKUoFKUoFKUoFKUoFKUoFKUoFKUoFKUoFKUoFKUoFKUoFKUoFKUoFKUoFKUoFKUoFKUoFKUoFKUoFKUoFKUoFKUoFKUoFKUoFKUoFKUoFKUoFKUoFKUoFKUoFKUoFKUoFKUoFKUoFKUoFKUoFKUoFKUoFKUoFKUoFKUoFKUoFKUoFKUoFKUoFKUoFKUoFKUoFKUoFKUoP//Z\n"
                },
                "metadata": {}
              }
            ]
          }
        },
        "fd67f94559a640d9a0224ae276c9fdb7": {
          "model_module": "@jupyter-widgets/output",
          "model_name": "OutputModel",
          "model_module_version": "1.0.0",
          "state": {
            "_dom_classes": [],
            "_model_module": "@jupyter-widgets/output",
            "_model_module_version": "1.0.0",
            "_model_name": "OutputModel",
            "_view_count": null,
            "_view_module": "@jupyter-widgets/output",
            "_view_module_version": "1.0.0",
            "_view_name": "OutputView",
            "layout": "IPY_MODEL_477d431ac9104b00a39e9c7f9ddb3903",
            "msg_id": "",
            "outputs": [
              {
                "output_type": "stream",
                "name": "stdout",
                "text": [
                  "Video available at https://www.bilibili.com/video/BV11K4y1u7vH\n"
                ]
              },
              {
                "output_type": "display_data",
                "data": {
                  "text/plain": "<__main__.PlayVideo at 0x7f584c27eb90>",
                  "text/html": "\n        <iframe\n            width=\"854\"\n            height=\"480\"\n            src=\"https://player.bilibili.com/player.html?bvid=BV11K4y1u7vH&page=1?fs=1&autoplay=False\"\n            frameborder=\"0\"\n            allowfullscreen\n            \n        ></iframe>\n        "
                },
                "metadata": {}
              }
            ]
          }
        },
        "73d5382b3992403dac1142a66a7b578a": {
          "model_module": "@jupyter-widgets/base",
          "model_name": "LayoutModel",
          "model_module_version": "1.2.0",
          "state": {
            "_model_module": "@jupyter-widgets/base",
            "_model_module_version": "1.2.0",
            "_model_name": "LayoutModel",
            "_view_count": null,
            "_view_module": "@jupyter-widgets/base",
            "_view_module_version": "1.2.0",
            "_view_name": "LayoutView",
            "align_content": null,
            "align_items": null,
            "align_self": null,
            "border": null,
            "bottom": null,
            "display": null,
            "flex": null,
            "flex_flow": null,
            "grid_area": null,
            "grid_auto_columns": null,
            "grid_auto_flow": null,
            "grid_auto_rows": null,
            "grid_column": null,
            "grid_gap": null,
            "grid_row": null,
            "grid_template_areas": null,
            "grid_template_columns": null,
            "grid_template_rows": null,
            "height": null,
            "justify_content": null,
            "justify_items": null,
            "left": null,
            "margin": null,
            "max_height": null,
            "max_width": null,
            "min_height": null,
            "min_width": null,
            "object_fit": null,
            "object_position": null,
            "order": null,
            "overflow": null,
            "overflow_x": null,
            "overflow_y": null,
            "padding": null,
            "right": null,
            "top": null,
            "visibility": null,
            "width": null
          }
        },
        "f20cdb68533b4737ae811573cc1e3842": {
          "model_module": "@jupyter-widgets/base",
          "model_name": "LayoutModel",
          "model_module_version": "1.2.0",
          "state": {
            "_model_module": "@jupyter-widgets/base",
            "_model_module_version": "1.2.0",
            "_model_name": "LayoutModel",
            "_view_count": null,
            "_view_module": "@jupyter-widgets/base",
            "_view_module_version": "1.2.0",
            "_view_name": "LayoutView",
            "align_content": null,
            "align_items": null,
            "align_self": null,
            "border": null,
            "bottom": null,
            "display": null,
            "flex": null,
            "flex_flow": null,
            "grid_area": null,
            "grid_auto_columns": null,
            "grid_auto_flow": null,
            "grid_auto_rows": null,
            "grid_column": null,
            "grid_gap": null,
            "grid_row": null,
            "grid_template_areas": null,
            "grid_template_columns": null,
            "grid_template_rows": null,
            "height": null,
            "justify_content": null,
            "justify_items": null,
            "left": null,
            "margin": null,
            "max_height": null,
            "max_width": null,
            "min_height": null,
            "min_width": null,
            "object_fit": null,
            "object_position": null,
            "order": null,
            "overflow": null,
            "overflow_x": null,
            "overflow_y": null,
            "padding": null,
            "right": null,
            "top": null,
            "visibility": null,
            "width": null
          }
        },
        "477d431ac9104b00a39e9c7f9ddb3903": {
          "model_module": "@jupyter-widgets/base",
          "model_name": "LayoutModel",
          "model_module_version": "1.2.0",
          "state": {
            "_model_module": "@jupyter-widgets/base",
            "_model_module_version": "1.2.0",
            "_model_name": "LayoutModel",
            "_view_count": null,
            "_view_module": "@jupyter-widgets/base",
            "_view_module_version": "1.2.0",
            "_view_name": "LayoutView",
            "align_content": null,
            "align_items": null,
            "align_self": null,
            "border": null,
            "bottom": null,
            "display": null,
            "flex": null,
            "flex_flow": null,
            "grid_area": null,
            "grid_auto_columns": null,
            "grid_auto_flow": null,
            "grid_auto_rows": null,
            "grid_column": null,
            "grid_gap": null,
            "grid_row": null,
            "grid_template_areas": null,
            "grid_template_columns": null,
            "grid_template_rows": null,
            "height": null,
            "justify_content": null,
            "justify_items": null,
            "left": null,
            "margin": null,
            "max_height": null,
            "max_width": null,
            "min_height": null,
            "min_width": null,
            "object_fit": null,
            "object_position": null,
            "order": null,
            "overflow": null,
            "overflow_x": null,
            "overflow_y": null,
            "padding": null,
            "right": null,
            "top": null,
            "visibility": null,
            "width": null
          }
        }
      }
    }
  },
  "nbformat": 4,
  "nbformat_minor": 0
}