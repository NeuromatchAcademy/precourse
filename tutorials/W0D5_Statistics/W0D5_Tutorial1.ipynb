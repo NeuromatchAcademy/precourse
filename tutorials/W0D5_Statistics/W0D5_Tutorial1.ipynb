{
  "cells": [
    {
      "cell_type": "markdown",
      "metadata": {
        "id": "view-in-github",
        "colab_type": "text"
      },
      "source": [
        "<a href=\"https://colab.research.google.com/github/NeuromatchAcademy/precourse/blob/spirosChv-patch-1/tutorials/W0D5_Statistics/W0D5_Tutorial1.ipynb\" target=\"_parent\"><img src=\"https://colab.research.google.com/assets/colab-badge.svg\" alt=\"Open In Colab\"/></a>"
      ]
    },
    {
      "cell_type": "markdown",
      "metadata": {
        "execution": {},
        "id": "zBqSZwuYpmC2"
      },
      "source": [
        "# Tutorial 1: Probability Distributions\n",
        "\n",
        "**Week 0, Day 5: Probability & Statistics**\n",
        "\n",
        "**By Neuromatch Academy**\n",
        "\n",
        "__Content creators:__ Ulrik Beierholm\n",
        "\n",
        "__Content reviewers:__ Natalie Schaworonkow, Keith van Antwerp, Anoop Kulkarni, Pooya Pakarian, Hyosub Kim\n",
        "\n",
        "__Production editors:__ Ethan Cheng, Ella Batty"
      ]
    },
    {
      "cell_type": "markdown",
      "metadata": {
        "execution": {},
        "id": "3fx1fKeNpmC4"
      },
      "source": [
        "<p align='center'><img src='https://github.com/NeuromatchAcademy/widgets/blob/master/sponsors.png?raw=True'/></p>"
      ]
    },
    {
      "cell_type": "markdown",
      "metadata": {
        "execution": {},
        "id": "DF_7FF_QpmC4"
      },
      "source": [
        "---\n",
        "# Tutorial Objectives\n",
        "\n",
        "We will cover the basic ideas from probability and statistics, as a reminder of what you have hopefully previously learned. These ideas will be important for almost every one of the following topics covered in the course.\n",
        "\n",
        "There are many additional topics within probability and statistics that we will not cover as they are not central to the main course. We also do not have time to get into a lot of details, but this should help you recall material you have previously encountered.\n",
        "\n",
        "\n",
        "By completing the exercises in this tutorial, you should:\n",
        "* get some intuition about how stochastic randomly generated data can be\n",
        "* understand how to model data using simple probability distributions\n",
        "* understand the difference between discrete and continuous probability distributions\n",
        "* be able to plot a Gaussian distribution"
      ]
    },
    {
      "cell_type": "markdown",
      "metadata": {
        "execution": {},
        "id": "KOrfzq_zpmC5"
      },
      "source": [
        "---\n",
        "# Setup\n"
      ]
    },
    {
      "cell_type": "code",
      "execution_count": null,
      "metadata": {
        "cellView": "form",
        "execution": {},
        "id": "_H1OF1OOpmC5"
      },
      "outputs": [],
      "source": [
        "# @title Install and import feedback gadget\n",
        "\n",
        "!pip3 install vibecheck datatops --quiet\n",
        "\n",
        "from vibecheck import DatatopsContentReviewContainer\n",
        "def content_review(notebook_section: str):\n",
        "    return DatatopsContentReviewContainer(\n",
        "        \"\",  # No text prompt\n",
        "        notebook_section,\n",
        "        {\n",
        "            \"url\": \"https://pmyvdlilci.execute-api.us-east-1.amazonaws.com/klab\",\n",
        "            \"name\": \"neuromatch-precourse\",\n",
        "            \"user_key\": \"8zxfvwxw\",\n",
        "        },\n",
        "    ).render()\n",
        "\n",
        "\n",
        "feedback_prefix = \"W0D5_T1\""
      ]
    },
    {
      "cell_type": "code",
      "execution_count": null,
      "metadata": {
        "cellView": "both",
        "execution": {},
        "id": "OcGqwrrDpmC6"
      },
      "outputs": [],
      "source": [
        "# Imports\n",
        "import numpy as np\n",
        "import matplotlib.pyplot as plt\n",
        "import scipy as sp\n",
        "from scipy.stats import norm  # the normal probability distribution"
      ]
    },
    {
      "cell_type": "code",
      "execution_count": null,
      "metadata": {
        "cellView": "form",
        "execution": {},
        "id": "S1cSW3-4pmC7"
      },
      "outputs": [],
      "source": [
        "# @title Figure settings\n",
        "import logging\n",
        "logging.getLogger('matplotlib.font_manager').disabled = True\n",
        "import ipywidgets as widgets  # interactive display\n",
        "from ipywidgets import interact, fixed, HBox, Layout, VBox, interactive, Label, interact_manual\n",
        "%config InlineBackend.figure_format = 'retina'\n",
        "plt.style.use(\"https://raw.githubusercontent.com/NeuromatchAcademy/content-creation/main/nma.mplstyle\")"
      ]
    },
    {
      "cell_type": "code",
      "execution_count": null,
      "metadata": {
        "cellView": "form",
        "execution": {},
        "id": "nuc_0WFEpmC7"
      },
      "outputs": [],
      "source": [
        "# @title Plotting Functions\n",
        "\n",
        "def plot_random_sample(x, y, figtitle = None):\n",
        "  \"\"\" Plot the random sample between 0 and 1 for both the x and y axes.\n",
        "\n",
        "    Args:\n",
        "      x (ndarray): array of x coordinate values across the random sample\n",
        "      y (ndarray): array of y coordinate values across the random sample\n",
        "      figtitle (str): title of histogram plot (default is no title)\n",
        "\n",
        "    Returns:\n",
        "      Nothing.\n",
        "  \"\"\"\n",
        "  fig, ax = plt.subplots()\n",
        "  ax.set_xlabel('x')\n",
        "  ax.set_ylabel('y')\n",
        "  plt.xlim([-0.25, 1.25]) # set x and y axis range to be a bit less than 0 and greater than 1\n",
        "  plt.ylim([-0.25, 1.25])\n",
        "  plt.scatter(dataX, dataY)\n",
        "  if figtitle is not None:\n",
        "    fig.suptitle(figtitle, size=16)\n",
        "  plt.show()\n",
        "\n",
        "\n",
        "def plot_random_walk(x, y, figtitle = None):\n",
        "  \"\"\" Plots the random walk within the range 0 to 1 for both the x and y axes.\n",
        "\n",
        "    Args:\n",
        "      x (ndarray): array of steps in x direction\n",
        "      y (ndarray): array of steps in y direction\n",
        "      figtitle (str): title of histogram plot (default is no title)\n",
        "\n",
        "    Returns:\n",
        "      Nothing.\n",
        "  \"\"\"\n",
        "  fig, ax = plt.subplots()\n",
        "  plt.plot(x,y,'b-o', alpha = 0.5)\n",
        "  plt.xlim(-0.1,1.1)\n",
        "  plt.ylim(-0.1,1.1)\n",
        "  ax.set_xlabel('x location')\n",
        "  ax.set_ylabel('y location')\n",
        "  plt.plot(x[0], y[0], 'go')\n",
        "  plt.plot(x[-1], y[-1], 'ro')\n",
        "\n",
        "  if figtitle is not None:\n",
        "    fig.suptitle(figtitle, size=16)\n",
        "  plt.show()\n",
        "\n",
        "\n",
        "def plot_hist(data, xlabel, figtitle = None, num_bins = None):\n",
        "  \"\"\" Plot the given data as a histogram.\n",
        "\n",
        "    Args:\n",
        "      data (ndarray): array with data to plot as histogram\n",
        "      xlabel (str): label of x-axis\n",
        "      figtitle (str): title of histogram plot (default is no title)\n",
        "      num_bins (int): number of bins for histogram (default is 10)\n",
        "\n",
        "    Returns:\n",
        "      count (ndarray): number of samples in each histogram bin\n",
        "      bins (ndarray): center of each histogram bin\n",
        "  \"\"\"\n",
        "  fig, ax = plt.subplots()\n",
        "  ax.set_xlabel(xlabel)\n",
        "  ax.set_ylabel('Count')\n",
        "  if num_bins is not None:\n",
        "    count, bins, _ = plt.hist(data, bins = num_bins)\n",
        "  else:\n",
        "    count, bins, _ = plt.hist(data, bins = np.arange(np.min(data)-.5, np.max(data)+.6)) # 10 bins default\n",
        "  if figtitle is not None:\n",
        "    fig.suptitle(figtitle, size=16)\n",
        "  plt.show()\n",
        "  return count, bins\n",
        "\n",
        "\n",
        "def my_plot_single(x, px):\n",
        "  \"\"\"\n",
        "  Plots normalized Gaussian distribution\n",
        "\n",
        "    Args:\n",
        "        x (numpy array of floats):     points at which the likelihood has been evaluated\n",
        "        px (numpy array of floats):    normalized probabilities for prior evaluated at each `x`\n",
        "\n",
        "    Returns:\n",
        "        Nothing.\n",
        "  \"\"\"\n",
        "  if px is None:\n",
        "      px = np.zeros_like(x)\n",
        "\n",
        "  fig, ax = plt.subplots()\n",
        "  ax.plot(x, px, '-', color='C2', linewidth=2, label='Prior')\n",
        "  ax.legend()\n",
        "  ax.set_ylabel('Probability')\n",
        "  ax.set_xlabel('Orientation (Degrees)')\n",
        "  plt.show()\n",
        "\n",
        "\n",
        "def plot_gaussian_samples_true(samples, xspace, mu, sigma, xlabel, ylabel):\n",
        "  \"\"\" Plot a histogram of the data samples on the same plot as the gaussian\n",
        "  distribution specified by the give mu and sigma values.\n",
        "\n",
        "    Args:\n",
        "      samples (ndarray): data samples for gaussian distribution\n",
        "      xspace (ndarray): x values to sample from normal distribution\n",
        "      mu (scalar): mean parameter of normal distribution\n",
        "      sigma (scalar): variance parameter of normal distribution\n",
        "      xlabel (str): the label of the x-axis of the histogram\n",
        "      ylabel (str): the label of the y-axis of the histogram\n",
        "\n",
        "    Returns:\n",
        "      Nothing.\n",
        "  \"\"\"\n",
        "  fig, ax = plt.subplots()\n",
        "  ax.set_xlabel(xlabel)\n",
        "  ax.set_ylabel(ylabel)\n",
        "  # num_samples = samples.shape[0]\n",
        "\n",
        "  count, bins, _ = plt.hist(samples, density=True)\n",
        "  plt.plot(xspace, norm.pdf(xspace, mu, sigma),'r-')\n",
        "  plt.show()"
      ]
    },
    {
      "cell_type": "markdown",
      "metadata": {
        "execution": {},
        "id": "q9o8V-mLpmC7"
      },
      "source": [
        "---\n",
        "\n",
        "# Section 1: Stochasticity and randomness"
      ]
    },
    {
      "cell_type": "markdown",
      "metadata": {
        "execution": {},
        "id": "45v8eNKjpmC7"
      },
      "source": [
        "## Section 1.1: Intro to Randomness\n"
      ]
    },
    {
      "cell_type": "code",
      "execution_count": null,
      "metadata": {
        "cellView": "form",
        "execution": {},
        "id": "SaDZWnv_pmC8"
      },
      "outputs": [],
      "source": [
        "# @title Video 1: Stochastic World\n",
        "from ipywidgets import widgets\n",
        "from IPython.display import YouTubeVideo\n",
        "from IPython.display import IFrame\n",
        "from IPython.display import display\n",
        "\n",
        "\n",
        "class PlayVideo(IFrame):\n",
        "  def __init__(self, id, source, page=1, width=400, height=300, **kwargs):\n",
        "    self.id = id\n",
        "    if source == 'Bilibili':\n",
        "      src = f'https://player.bilibili.com/player.html?bvid={id}&page={page}'\n",
        "    elif source == 'Osf':\n",
        "      src = f'https://mfr.ca-1.osf.io/render?url=https://osf.io/download/{id}/?direct%26mode=render'\n",
        "    super(PlayVideo, self).__init__(src, width, height, **kwargs)\n",
        "\n",
        "\n",
        "def display_videos(video_ids, W=400, H=300, fs=1):\n",
        "  tab_contents = []\n",
        "  for i, video_id in enumerate(video_ids):\n",
        "    out = widgets.Output()\n",
        "    with out:\n",
        "      if video_ids[i][0] == 'Youtube':\n",
        "        video = YouTubeVideo(id=video_ids[i][1], width=W,\n",
        "                             height=H, fs=fs, rel=0)\n",
        "        print(f'Video available at https://youtube.com/watch?v={video.id}')\n",
        "      else:\n",
        "        video = PlayVideo(id=video_ids[i][1], source=video_ids[i][0], width=W,\n",
        "                          height=H, fs=fs, autoplay=False)\n",
        "        if video_ids[i][0] == 'Bilibili':\n",
        "          print(f'Video available at https://www.bilibili.com/video/{video.id}')\n",
        "        elif video_ids[i][0] == 'Osf':\n",
        "          print(f'Video available at https://osf.io/{video.id}')\n",
        "      display(video)\n",
        "    tab_contents.append(out)\n",
        "  return tab_contents\n",
        "\n",
        "\n",
        "video_ids = [('Youtube', '-QwTPDp7-a8'), ('Bilibili', 'BV1sU4y1G7Qt')]\n",
        "tab_contents = display_videos(video_ids, W=854, H=480)\n",
        "tabs = widgets.Tab()\n",
        "tabs.children = tab_contents\n",
        "for i in range(len(tab_contents)):\n",
        "  tabs.set_title(i, video_ids[i][0])\n",
        "display(tabs)"
      ]
    },
    {
      "cell_type": "code",
      "execution_count": null,
      "metadata": {
        "cellView": "form",
        "execution": {},
        "id": "Fj033QTNpmC8"
      },
      "outputs": [],
      "source": [
        "# @title Submit your feedback\n",
        "content_review(f\"{feedback_prefix}_Stochastic_World_Video\")"
      ]
    },
    {
      "cell_type": "markdown",
      "metadata": {
        "execution": {},
        "id": "DXi2V88SpmC8"
      },
      "source": [
        "\n",
        "Before trying out different probability distributions, let's start with the simple uniform distribution, U(a,b), which assigns equal probability to any value between a and b.\n",
        "\n",
        "To show that we are drawing a random number $x$ from a uniform distribution with lower and upper bounds $a$ and $b$ we will use this notation:\n",
        "$x \\sim \\mathcal{U}(a,b)$. Alternatively, we can say that all the potential values of $x$ are distributed as a uniform distribution between $a$ and $b$. $x$ here is a random variable: a variable whose value depends on the outcome of a random process."
      ]
    },
    {
      "cell_type": "markdown",
      "metadata": {
        "execution": {},
        "id": "rj7c7QQbpmC8"
      },
      "source": [
        "### Coding Exercise 1.1: Create randomness\n",
        "\n",
        "Numpy has many functions and capabilities related to randomness.  We can draw random numbers from various probability distributions. For example, to draw 5 uniform numbers between 0 and 100, you would use `np.random.uniform(0, 100, size = (5,))`.\n",
        "\n",
        " We will use `np.random.seed` to set a specific seed for the random number generator. For example, `np.random.seed(0)` sets the seed as 0. By including this, we are actually making the random numbers reproducible, which may seem odd at first. Basically if we do the below code without that 0, we would get different random numbers every time we run it. By setting the seed to 0, we ensure we will get the same random numbers. There are lots of reasons we may want randomness to be reproducible. In NMA-world, it's so your plots will match the solution plots exactly!\n",
        "\n",
        "```python\n",
        "np.random.seed(0)\n",
        "random_nums = np.random.uniform(0, 100, size = (5,))\n",
        "```\n",
        "\n",
        "Below, you will complete a function `generate_random_sample` that randomly generates `num_points` $x$ and $y$ coordinate values, all within the range 0 to 1. You will then generate 10 points and visualize."
      ]
    },
    {
      "cell_type": "code",
      "execution_count": null,
      "metadata": {
        "execution": {},
        "id": "bxLLiyzGpmC8"
      },
      "outputs": [],
      "source": [
        "def generate_random_sample(num_points):\n",
        "  \"\"\" Generate a random sample containing a desired number of points (num_points)\n",
        "  in the range [0, 1] using a random number generator object.\n",
        "\n",
        "  Args:\n",
        "    num_points (int): number of points desired in random sample\n",
        "\n",
        "  Returns:\n",
        "    dataX, dataY (ndarray, ndarray): arrays of size (num_points,) containing x\n",
        "    and y coordinates of sampled points\n",
        "\n",
        "  \"\"\"\n",
        "\n",
        "  ###################################################################\n",
        "  ## TODO for students: Draw the uniform numbers\n",
        "  ## Fill out the following then remove\n",
        "  raise NotImplementedError(\"Student exercise: need to complete generate_random_sample\")\n",
        "  ###################################################################\n",
        "\n",
        "  # Generate desired number of points uniformly between 0 and 1 (using uniform) for\n",
        "  #     both x and y\n",
        "  dataX = ...\n",
        "  dataY = ...\n",
        "\n",
        "  return dataX, dataY\n",
        "\n",
        "# Set a seed\n",
        "np.random.seed(0)\n",
        "\n",
        "# Set number of points to draw\n",
        "num_points = 10\n",
        "\n",
        "# Draw random points\n",
        "dataX, dataY = generate_random_sample(num_points)\n",
        "\n",
        "# Visualize\n",
        "plot_random_sample(dataX, dataY, \"Random sample of 10 points\")"
      ]
    },
    {
      "cell_type": "code",
      "execution_count": null,
      "metadata": {
        "execution": {},
        "id": "uHcRMx_upmC8"
      },
      "outputs": [],
      "source": [
        "# to_remove solution\n",
        "def generate_random_sample(num_points):\n",
        "  \"\"\" Generate a random sample containing a desired number of points (num_points)\n",
        "  in the range [0, 1] using a random number generator object.\n",
        "\n",
        "  Args:\n",
        "    num_points (int): number of points desired in random sample\n",
        "\n",
        "  Returns:\n",
        "    dataX, dataY (ndarray, ndarray): arrays of size (num_points,) containing x\n",
        "    and y coordinates of sampled points\n",
        "\n",
        "  \"\"\"\n",
        "\n",
        "  # Generate desired number of points uniformly between 0 and 1 (using uniform) for\n",
        "  #     both x and y\n",
        "  dataX = np.random.uniform(0, 1, size = (num_points,))\n",
        "  dataY = np.random.uniform(0, 1, size = (num_points,))\n",
        "\n",
        "  return dataX, dataY\n",
        "\n",
        "# Set a seed\n",
        "np.random.seed(0)\n",
        "\n",
        "# Set number of points to draw\n",
        "num_points = 10\n",
        "\n",
        "# Draw random points\n",
        "dataX, dataY = generate_random_sample(num_points)\n",
        "\n",
        "# Visualize\n",
        "with plt.xkcd():\n",
        "  plot_random_sample(dataX, dataY, \"Random sample of 10 points\")"
      ]
    },
    {
      "cell_type": "code",
      "execution_count": null,
      "metadata": {
        "cellView": "form",
        "execution": {},
        "id": "xSI3mnB_pmC9"
      },
      "outputs": [],
      "source": [
        "# @title Submit your feedback\n",
        "content_review(f\"{feedback_prefix}_Create_Randomness_Exercise\")"
      ]
    },
    {
      "cell_type": "markdown",
      "metadata": {
        "execution": {},
        "id": "_j2Z_UtppmC9"
      },
      "source": [
        "### Interactive Demo 1.1: Random Sample Generation from Uniform Distribution\n",
        "In practice this may not look very uniform, although that is of course part of the randomness! Uniform randomness does not mean smoothly uniform. When we have very little data it can be hard to see the distribution.\n",
        "\n",
        "Below, you can adjust the number of points sampled with a slider. Does it look more uniform now? Try increasingly large numbers of sampled points."
      ]
    },
    {
      "cell_type": "code",
      "execution_count": null,
      "metadata": {
        "cellView": "form",
        "execution": {},
        "id": "LIPA1z0XpmC9"
      },
      "outputs": [],
      "source": [
        "#@markdown Make sure you execute this cell to enable the widget!\n",
        "\n",
        "def generate_random_sample(num_points):\n",
        "  \"\"\" Generate a random sample containing a desired number of points (num_points)\n",
        "  in the range [0, 1] using a random number generator object.\n",
        "\n",
        "  Args:\n",
        "    num_points (int): number of points desired in random sample\n",
        "\n",
        "  Returns:\n",
        "    dataX, dataY (ndarray, ndarray): arrays of size (num_points,) containing x\n",
        "    and y coordinates of sampled points\n",
        "\n",
        "  \"\"\"\n",
        "\n",
        "  # Generate desired number of points uniformly between 0 and 1 (using uniform) for\n",
        "  #     both x and y\n",
        "  dataX = np.random.uniform(0, 1, size = (num_points,))\n",
        "  dataY = np.random.uniform(0, 1, size = (num_points,))\n",
        "\n",
        "  return dataX, dataY\n",
        "\n",
        "@widgets.interact\n",
        "def gen_and_plot_random_sample(num_points = widgets.SelectionSlider(options=[(\"%g\"%i,i) for i in np.arange(0, 500, 10)])):\n",
        "\n",
        "  dataX, dataY = generate_random_sample(num_points)\n",
        "  fig, ax = plt.subplots()\n",
        "  ax.set_xlabel('x')\n",
        "  ax.set_ylabel('y')\n",
        "  plt.xlim([-0.25, 1.25])\n",
        "  plt.ylim([-0.25, 1.25])\n",
        "  plt.scatter(dataX, dataY)\n",
        "  fig.suptitle(\"Random sample of \" + str(num_points) + \" points\", size=16)\n",
        "  plt.show()"
      ]
    },
    {
      "cell_type": "code",
      "execution_count": null,
      "metadata": {
        "cellView": "form",
        "execution": {},
        "id": "yroC0BhYpmC9"
      },
      "outputs": [],
      "source": [
        "# @title Submit your feedback\n",
        "content_review(f\"{feedback_prefix}_Random_Sample_Generation_from_Uniform_Distribution_Interactive_Demo\")"
      ]
    },
    {
      "cell_type": "markdown",
      "metadata": {
        "execution": {},
        "id": "qd47OGFdpmC9"
      },
      "source": [
        "## Section 1.2: Random walk\n",
        "\n"
      ]
    },
    {
      "cell_type": "code",
      "execution_count": null,
      "metadata": {
        "cellView": "form",
        "execution": {},
        "id": "EHtLHcPKpmC9"
      },
      "outputs": [],
      "source": [
        "# @title Video 2: Random walk\n",
        "from ipywidgets import widgets\n",
        "from IPython.display import YouTubeVideo\n",
        "from IPython.display import IFrame\n",
        "from IPython.display import display\n",
        "\n",
        "\n",
        "class PlayVideo(IFrame):\n",
        "  def __init__(self, id, source, page=1, width=400, height=300, **kwargs):\n",
        "    self.id = id\n",
        "    if source == 'Bilibili':\n",
        "      src = f'https://player.bilibili.com/player.html?bvid={id}&page={page}'\n",
        "    elif source == 'Osf':\n",
        "      src = f'https://mfr.ca-1.osf.io/render?url=https://osf.io/download/{id}/?direct%26mode=render'\n",
        "    super(PlayVideo, self).__init__(src, width, height, **kwargs)\n",
        "\n",
        "\n",
        "def display_videos(video_ids, W=400, H=300, fs=1):\n",
        "  tab_contents = []\n",
        "  for i, video_id in enumerate(video_ids):\n",
        "    out = widgets.Output()\n",
        "    with out:\n",
        "      if video_ids[i][0] == 'Youtube':\n",
        "        video = YouTubeVideo(id=video_ids[i][1], width=W,\n",
        "                             height=H, fs=fs, rel=0)\n",
        "        print(f'Video available at https://youtube.com/watch?v={video.id}')\n",
        "      else:\n",
        "        video = PlayVideo(id=video_ids[i][1], source=video_ids[i][0], width=W,\n",
        "                          height=H, fs=fs, autoplay=False)\n",
        "        if video_ids[i][0] == 'Bilibili':\n",
        "          print(f'Video available at https://www.bilibili.com/video/{video.id}')\n",
        "        elif video_ids[i][0] == 'Osf':\n",
        "          print(f'Video available at https://osf.io/{video.id}')\n",
        "      display(video)\n",
        "    tab_contents.append(out)\n",
        "  return tab_contents\n",
        "\n",
        "\n",
        "video_ids = [('Youtube', 'Tz9gjHcqj5k'), ('Bilibili', 'BV11U4y1G7Bu')]\n",
        "tab_contents = display_videos(video_ids, W=854, H=480)\n",
        "tabs = widgets.Tab()\n",
        "tabs.children = tab_contents\n",
        "for i in range(len(tab_contents)):\n",
        "  tabs.set_title(i, video_ids[i][0])\n",
        "display(tabs)"
      ]
    },
    {
      "cell_type": "code",
      "execution_count": null,
      "metadata": {
        "cellView": "form",
        "execution": {},
        "id": "xCALBgVJpmC9"
      },
      "outputs": [],
      "source": [
        "# @title Submit your feedback\n",
        "content_review(f\"{feedback_prefix}_Random_Walk_Video\")"
      ]
    },
    {
      "cell_type": "markdown",
      "metadata": {
        "execution": {},
        "id": "mIrkdc8KpmC-"
      },
      "source": [
        "Stochastic models can be used to create models of behaviour. As an example, imagine that a rat is placed inside a novel environment, a box. We could try and model its exploration behaviour by assuming that for each time step it takes a random uniformly sampled step in any direction (simultaneous random step in x direction and random step in y direction)\n"
      ]
    },
    {
      "cell_type": "markdown",
      "metadata": {
        "execution": {},
        "id": "jHOiAusIpmC-"
      },
      "source": [
        "### Coding Exercise 1.2: Modeling a random walk\n",
        "\n",
        "\n",
        "Use the `generate_random_sample` function from above to obtain the random steps the rat takes at each time step and complete the generate_random_walk function below. For plotting, the box will be represented graphically as the unit square enclosed by the points $(0, 0)$ and $(1, 1)$."
      ]
    },
    {
      "cell_type": "code",
      "execution_count": null,
      "metadata": {
        "execution": {},
        "id": "l9J0EAiDpmC-"
      },
      "outputs": [],
      "source": [
        "def generate_random_walk(num_steps, step_size):\n",
        "  \"\"\" Generate the points of a random walk within a 1 X 1 box.\n",
        "\n",
        "  Args:\n",
        "    num_steps (int): number of steps in the random walk\n",
        "    step_size (float): how much each random step size is weighted\n",
        "\n",
        "  Returns:\n",
        "    x, y (ndarray, ndarray): the (x, y) locations reached at each time step of the walk\n",
        "\n",
        "  \"\"\"\n",
        "  x = np.zeros(num_steps + 1)\n",
        "  y = np.zeros(num_steps + 1)\n",
        "\n",
        "  ###################################################################\n",
        "  ## TODO for students: Collect random step values with function from before\n",
        "  ## Fill out the following then remove\n",
        "  raise NotImplementedError(\"Student exercise: need to complete generate_random_walk\")\n",
        "  ###################################################################\n",
        "\n",
        "  # Generate the uniformly random x, y steps for the walk\n",
        "  random_x_steps, random_y_steps = ...\n",
        "\n",
        "  # Take steps according to the randomly sampled steps above\n",
        "  for step in range(num_steps):\n",
        "\n",
        "    # take a random step in x and y. We remove 0.5 to make it centered around 0\n",
        "    x[step + 1] = x[step] + (random_x_steps[step] - 0.5)*step_size\n",
        "    y[step + 1] = y[step] + (random_y_steps[step] - 0.5)*step_size\n",
        "\n",
        "    # restrict to be within the 1 x 1 unit box\n",
        "    x[step + 1]= min(max(x[step + 1], 0), 1)\n",
        "    y[step + 1]= min(max(y[step + 1], 0), 1)\n",
        "\n",
        "  return x, y\n",
        "\n",
        "# Set a random seed\n",
        "np.random.seed(2)\n",
        "\n",
        "# Select parameters\n",
        "num_steps = 100   # number of steps in random walk\n",
        "step_size = 0.5   # size of each step\n",
        "\n",
        "# Generate the random walk\n",
        "x, y = generate_random_walk(num_steps, step_size)\n",
        "\n",
        "# Visualize\n",
        "plot_random_walk(x, y, \"Rat's location throughout random walk\")"
      ]
    },
    {
      "cell_type": "code",
      "execution_count": null,
      "metadata": {
        "execution": {},
        "id": "9xLgLb3vpmC-"
      },
      "outputs": [],
      "source": [
        "# to_remove solution\n",
        "def generate_random_walk(num_steps, step_size):\n",
        "  \"\"\" Generate the points of a random walk within a 1 X 1 box.\n",
        "\n",
        "  Args:\n",
        "    num_steps (int): number of steps in the random walk\n",
        "    step_size (float): how much each random step size is weighted\n",
        "\n",
        "  Returns:\n",
        "    x, y (ndarray, ndarray): the (x, y) locations reached at each time step of the walk\n",
        "\n",
        "  \"\"\"\n",
        "  x = np.zeros(num_steps + 1)\n",
        "  y = np.zeros(num_steps + 1)\n",
        "\n",
        "  # Generate the uniformly random x, y steps for the walk\n",
        "  random_x_steps, random_y_steps = generate_random_sample(num_steps)\n",
        "\n",
        "  # Take steps according to the randomly sampled steps above\n",
        "  for step in range(num_steps):\n",
        "\n",
        "    # take a random step in x and y. We remove 0.5 to make it centered around 0\n",
        "    x[step + 1] = x[step] + (random_x_steps[step] - 0.5)*step_size\n",
        "    y[step + 1] = y[step] + (random_y_steps[step] - 0.5)*step_size\n",
        "\n",
        "    # restrict to be within the 1 x 1 unit box\n",
        "    x[step + 1]= min(max(x[step + 1], 0), 1)\n",
        "    y[step + 1]= min(max(y[step + 1], 0), 1)\n",
        "\n",
        "  return x, y\n",
        "\n",
        "# Set a random seed\n",
        "np.random.seed(2)\n",
        "\n",
        "# Select parameters\n",
        "num_steps = 100   # number of steps in random walk\n",
        "step_size = 0.5   # size of each step\n",
        "\n",
        "# Generate the random walk\n",
        "x, y = generate_random_walk(num_steps, step_size)\n",
        "\n",
        "# Visualize\n",
        "with plt.xkcd():\n",
        "  plot_random_walk(x, y, \"Rat's location throughout random walk\")"
      ]
    },
    {
      "cell_type": "markdown",
      "metadata": {
        "execution": {},
        "id": "RcjP6GfupmC-"
      },
      "source": [
        "We put a little green dot for the starting point and a red point for the ending point."
      ]
    },
    {
      "cell_type": "code",
      "execution_count": null,
      "metadata": {
        "cellView": "form",
        "execution": {},
        "id": "t55kLeRupmC-"
      },
      "outputs": [],
      "source": [
        "# @title Submit your feedback\n",
        "content_review(f\"{feedback_prefix}_Modeling_a_random_walk_Exercise\")"
      ]
    },
    {
      "cell_type": "markdown",
      "metadata": {
        "execution": {},
        "id": "LBQcyDdjpmC-"
      },
      "source": [
        "### Interactive Demo 1.2: Varying parameters of a random walk\n",
        "\n",
        "In the interactive demo below, you can examine random walks with different numbers of steps or step sizes, using the sliders.\n",
        "\n",
        "\n",
        "1.  What could an increased step size mean for the actual rat's movement we are simulating?\n",
        "2. For a given number of steps, is the rat more likely to visit all general areas of the arena with a big step size or small step size?"
      ]
    },
    {
      "cell_type": "code",
      "execution_count": null,
      "metadata": {
        "cellView": "form",
        "execution": {},
        "id": "5e5nCvG0pmC-"
      },
      "outputs": [],
      "source": [
        "# @markdown Make sure you execute this cell to enable the widget!\n",
        "\n",
        "@widgets.interact(num_steps = widgets.IntSlider(value=100, min=0, max=500, step=1), step_size = widgets.FloatSlider(value=0.1, min=0.1, max=1, step=0.1))\n",
        "def gen_and_plot_random_walk(num_steps, step_size):\n",
        "  x, y = generate_random_walk(num_steps, step_size)\n",
        "  plot_random_walk(x, y, \"Rat's location throughout random walk\")"
      ]
    },
    {
      "cell_type": "code",
      "execution_count": null,
      "metadata": {
        "execution": {},
        "id": "L7ElkIzCpmC-"
      },
      "outputs": [],
      "source": [
        "# to_remove explanation\n",
        "\n",
        "\"\"\"\n",
        "1) A larger step size could mean that the rat is moving faster, or that we sample\n",
        "   the rats location less often.\n",
        "\n",
        "2) The rat tends to visit more of the arena with a large step size.\n",
        "\"\"\";"
      ]
    },
    {
      "cell_type": "code",
      "execution_count": null,
      "metadata": {
        "cellView": "form",
        "execution": {},
        "id": "FZ80yLn2pmC_"
      },
      "outputs": [],
      "source": [
        "# @title Submit your feedback\n",
        "content_review(f\"{feedback_prefix}_Varying_parameters_of_a_random_walk_Interactive_Demo\")"
      ]
    },
    {
      "cell_type": "markdown",
      "metadata": {
        "execution": {},
        "id": "hDAATt06pmC_"
      },
      "source": [
        "In practice a uniform random movement is too simple an assumption. Rats do not move completely randomly; even if you could assume that, you would need to approximate with a more complex probability distribution.\n",
        "\n",
        "Nevertheless, this example highlights how you can use sampling to approximate behaviour.\n",
        "\n",
        "**Main course preview:** During [Hidden Dynamics day](https://compneuro.neuromatch.io/tutorials/W3D2_HiddenDynamics/chapter_title.html) we will see how random walk models can be used to also model accumulation of information in decision making."
      ]
    },
    {
      "cell_type": "markdown",
      "metadata": {
        "execution": {},
        "id": "ROETCK5GpmC_"
      },
      "source": [
        "---\n",
        "# Section 2: Discrete distributions"
      ]
    },
    {
      "cell_type": "markdown",
      "metadata": {
        "execution": {},
        "id": "n1B1jTSPpmC_"
      },
      "source": [
        "## Section 2.1: Binomial distributions"
      ]
    },
    {
      "cell_type": "code",
      "execution_count": null,
      "metadata": {
        "cellView": "form",
        "execution": {},
        "id": "ZT1dYLospmC_"
      },
      "outputs": [],
      "source": [
        "# @title Video 3: Binomial distribution\n",
        "from ipywidgets import widgets\n",
        "from IPython.display import YouTubeVideo\n",
        "from IPython.display import IFrame\n",
        "from IPython.display import display\n",
        "\n",
        "\n",
        "class PlayVideo(IFrame):\n",
        "  def __init__(self, id, source, page=1, width=400, height=300, **kwargs):\n",
        "    self.id = id\n",
        "    if source == 'Bilibili':\n",
        "      src = f'https://player.bilibili.com/player.html?bvid={id}&page={page}'\n",
        "    elif source == 'Osf':\n",
        "      src = f'https://mfr.ca-1.osf.io/render?url=https://osf.io/download/{id}/?direct%26mode=render'\n",
        "    super(PlayVideo, self).__init__(src, width, height, **kwargs)\n",
        "\n",
        "\n",
        "def display_videos(video_ids, W=400, H=300, fs=1):\n",
        "  tab_contents = []\n",
        "  for i, video_id in enumerate(video_ids):\n",
        "    out = widgets.Output()\n",
        "    with out:\n",
        "      if video_ids[i][0] == 'Youtube':\n",
        "        video = YouTubeVideo(id=video_ids[i][1], width=W,\n",
        "                             height=H, fs=fs, rel=0)\n",
        "        print(f'Video available at https://youtube.com/watch?v={video.id}')\n",
        "      else:\n",
        "        video = PlayVideo(id=video_ids[i][1], source=video_ids[i][0], width=W,\n",
        "                          height=H, fs=fs, autoplay=False)\n",
        "        if video_ids[i][0] == 'Bilibili':\n",
        "          print(f'Video available at https://www.bilibili.com/video/{video.id}')\n",
        "        elif video_ids[i][0] == 'Osf':\n",
        "          print(f'Video available at https://osf.io/{video.id}')\n",
        "      display(video)\n",
        "    tab_contents.append(out)\n",
        "  return tab_contents\n",
        "\n",
        "\n",
        "video_ids = [('Youtube', 'kOXEQlmzFyw'), ('Bilibili', 'BV1Ev411W7mw')]\n",
        "tab_contents = display_videos(video_ids, W=854, H=480)\n",
        "tabs = widgets.Tab()\n",
        "tabs.children = tab_contents\n",
        "for i in range(len(tab_contents)):\n",
        "  tabs.set_title(i, video_ids[i][0])\n",
        "display(tabs)"
      ]
    },
    {
      "cell_type": "code",
      "execution_count": null,
      "metadata": {
        "cellView": "form",
        "execution": {},
        "id": "ZgsgdLKvpmC_"
      },
      "outputs": [],
      "source": [
        "# @title Submit your feedback\n",
        "content_review(f\"{feedback_prefix}_Binomial_distribution_Video\")"
      ]
    },
    {
      "cell_type": "markdown",
      "metadata": {
        "execution": {},
        "id": "b61_9ZqIpmC_"
      },
      "source": [
        "This video covers the Bernoulli and binomial distributions.\n",
        "\n",
        "<details>\n",
        "<summary> <font color='blue'>Click here for text recap of video </font></summary>\n",
        "\n",
        "The uniform distribution is very simple, and can only be used in some rare cases. If we only had access to this distribution, our statistical toolbox would be very empty. Thankfully we do have some more advanced distributions!\n",
        "\n",
        "The uniform distribution that we looked at above is an example of a continuous distribution. The value of $X$ that we draw from this distribution can take **any value** between $a$ and $b$.\n",
        "\n",
        "However, sometimes we want to be able to look at discrete events. Imagine that the rat from before is now placed in a T-maze, with food placed at the end of both arms. Initially, we would expect the rat to be choosing randomly between the two arms, but after learning it should choose more consistently.\n",
        "\n",
        "A simple way to model such random behaviour is with a single **Bernoulli trial**, that has two outcomes, {$Left, Right$}, with probability $P(Left)=p$ and $P(Right)=1-p$ as the two mutually exclusive possibilities (whether the rat goes down the left or right arm of the maze).\n",
        "</details>\n",
        "\n",
        "The binomial distribution simulates $n$ number of binary events, such as the $Left, Right$ choices of the random rat in the T-maze. Imagine that you have done an experiment and found that your rat turned left in 7 out of 10 trials. What is the probability of the rat indeed turning left 7 times ($k = 7$)?\n",
        "\n",
        "This is given by the binomial probability of $k$, given $n$ trials and probability $p$:\n",
        "\n",
        "\\begin{align}\n",
        "P(k|n,p) &= \\left( \\begin{array} \\\\n \\\\ k\\end{array} \\right) p^k (1-p)^{n-k} \\\\\n",
        "\\binom{n}{k} &= {\\frac {n!}{k!(n-k)!}}\n",
        "\\end{align}\n",
        "\n",
        "In this formula, $p$ is the probability of turning left, $n$ is the number of binary events, or trials, and $k$ is the number of times the rat turned left. The term $\\binom {n}{k}$ is the binomial coefficient.\n",
        "\n",
        "This is an example of a *probability mass function*, which specifies the probability that a discrete random variable is equal to each value. In other words, how large a part of the probability space (mass) is placed at each exact discrete value. We require that all probability adds up to 1, i.e. that\n",
        "\n",
        "\\begin{equation}\n",
        "\\sum_k P(k|n,p)=1.\n",
        "\\end{equation}\n",
        "\n",
        "Essentially, if $k$ can only be one of 10 values, the probabilities of $k$ being equal to each possible value have to sum up to 1 because there is a probability of 1 it will equal one of those 10 values (no other options exist).\n",
        "\n",
        "If we assume an equal chance of turning left or right, then $p=0.5$. Note that if we only have a single trial $n=1$ this is equivalent to a single Bernoulli trial (feel free to do the math!)."
      ]
    },
    {
      "cell_type": "markdown",
      "metadata": {
        "execution": {},
        "id": "ChYeI0WCpmDI"
      },
      "source": [
        "### Think! 2.1: Binomial distribution sampling\n",
        "\n",
        "We will draw a desired number of random samples from a binomial distribution, with $n = 10$ and $p = 0.5$. Each sample returns the number of trials, $k$, a rat turns left out of $n$ trials.\n",
        "\n",
        "We will draw 1000 samples of this (so it is as if we are observing 10 trials of the rat, 1000 different times). We can do this using numpy: `np.random.binomial(n, p, size = (n_samples,))`\n",
        "\n",
        "See below to visualize a histogram of the different values of $k$, or the number of times the rat turned left in each of the 1000 samples. In a histogram all the data is placed into bins and the contents of each bin is counted, to give a visualisation of the distribution of data. Discuss the following questions.\n",
        "\n",
        "1. What are the x-axis limits of the histogram and why?\n",
        "2. What is the shape of the histogram?\n",
        "3. Looking at the histogram, how would you interpret the outcome of the simulation if you didn't know what p was? Would you have guessed p = 0.5?\n",
        "3. What do you think the histogram would look like if the probability of turning left is 0.8 ($p = 0.8$)?"
      ]
    },
    {
      "cell_type": "code",
      "execution_count": null,
      "metadata": {
        "cellView": "form",
        "execution": {},
        "id": "jb9SpLg5pmDI"
      },
      "outputs": [],
      "source": [
        "# @markdown Execute this cell to see visualization\n",
        "\n",
        "# Select parameters for conducting binomial trials\n",
        "n = 10\n",
        "p = 0.5\n",
        "n_samples = 1000\n",
        "\n",
        "# Set random seed\n",
        "np.random.seed(1)\n",
        "\n",
        "# Now draw 1000 samples by calling the function again\n",
        "left_turn_samples_1000 = np.random.binomial(n, p, size = (n_samples,))\n",
        "\n",
        "# Visualize\n",
        "count, bins = plot_hist(left_turn_samples_1000, 'Number of left turns in sample')"
      ]
    },
    {
      "cell_type": "code",
      "execution_count": null,
      "metadata": {
        "execution": {},
        "id": "M5XsvbkzpmDJ"
      },
      "outputs": [],
      "source": [
        "# to_remove explanation\n",
        "\n",
        "\"\"\"\n",
        "1) The limits of the histogram at 0 and 10, as these are the minimum and maximum\n",
        "number of trials that a rat can turn left out of 10 trials.\n",
        "\n",
        "2) The shape seems symmetric and is centered around 5.\n",
        "\n",
        "3) An average/mean around 5 left turns out of 10 trials indicates that the rat\n",
        "chose left and right turns in the maze with equal probability (that p = 0.5)\n",
        "\n",
        "4) With p = 0.8, the center of the histogram would be at x = 8 and it would not be\n",
        "   as symmetrical (since it would be cut off at max 10). You can go into the code above\n",
        "   and run it with p = 0.8 to see this.\n",
        "\"\"\";"
      ]
    },
    {
      "cell_type": "code",
      "execution_count": null,
      "metadata": {
        "cellView": "form",
        "execution": {},
        "id": "1vMuXxA8pmDJ"
      },
      "outputs": [],
      "source": [
        "# @title Submit your feedback\n",
        "content_review(f\"{feedback_prefix}_Binomial_distribution_Sampling_Discussion\")"
      ]
    },
    {
      "cell_type": "markdown",
      "metadata": {
        "execution": {},
        "id": "6D_MBuYapmDJ"
      },
      "source": [
        "When working with the Bernoulli and binomial distributions, there are only 2 possible outcomes (in this case, turn left or turn right). In the more general case where there are $n$ possible outcomes (our rat is an n-armed maze) each with their own associated probability $p_1, p_2, p_3, p_4, ...$ , we use a **categorical distribution**. Draws from this distribution are a simple extension of the Bernoulli trial: we now have a probability for each outcome and draw based on those probabilities. We have to make sure that the probabilities sum to one:\n",
        "\n",
        "\\begin{equation}\n",
        "\\sum_i P(x=i)=\\sum_i p_i =1\n",
        "\\end{equation}\n",
        "\n",
        "If we sample from this distribution multiple times, we can then describe the distribution of outcomes from each sample as the **multinomial distribution**. Essentially, the categorical distribution is the multiple outcome extension of the Bernoulli, and the multinomial distribution is the multiple outcome extension of the binomial distribution. We'll see a bit more about this in the next tutorial when we look at Markov chains."
      ]
    },
    {
      "cell_type": "markdown",
      "metadata": {
        "execution": {},
        "id": "KRhVPtWgpmDJ"
      },
      "source": [
        "## Section 2.2: Poisson distribution"
      ]
    },
    {
      "cell_type": "code",
      "execution_count": null,
      "metadata": {
        "cellView": "form",
        "execution": {},
        "id": "FObKt46jpmDJ"
      },
      "outputs": [],
      "source": [
        "# @title Video 4: Poisson distribution\n",
        "from ipywidgets import widgets\n",
        "from IPython.display import YouTubeVideo\n",
        "from IPython.display import IFrame\n",
        "from IPython.display import display\n",
        "\n",
        "\n",
        "class PlayVideo(IFrame):\n",
        "  def __init__(self, id, source, page=1, width=400, height=300, **kwargs):\n",
        "    self.id = id\n",
        "    if source == 'Bilibili':\n",
        "      src = f'https://player.bilibili.com/player.html?bvid={id}&page={page}'\n",
        "    elif source == 'Osf':\n",
        "      src = f'https://mfr.ca-1.osf.io/render?url=https://osf.io/download/{id}/?direct%26mode=render'\n",
        "    super(PlayVideo, self).__init__(src, width, height, **kwargs)\n",
        "\n",
        "\n",
        "def display_videos(video_ids, W=400, H=300, fs=1):\n",
        "  tab_contents = []\n",
        "  for i, video_id in enumerate(video_ids):\n",
        "    out = widgets.Output()\n",
        "    with out:\n",
        "      if video_ids[i][0] == 'Youtube':\n",
        "        video = YouTubeVideo(id=video_ids[i][1], width=W,\n",
        "                             height=H, fs=fs, rel=0)\n",
        "        print(f'Video available at https://youtube.com/watch?v={video.id}')\n",
        "      else:\n",
        "        video = PlayVideo(id=video_ids[i][1], source=video_ids[i][0], width=W,\n",
        "                          height=H, fs=fs, autoplay=False)\n",
        "        if video_ids[i][0] == 'Bilibili':\n",
        "          print(f'Video available at https://www.bilibili.com/video/{video.id}')\n",
        "        elif video_ids[i][0] == 'Osf':\n",
        "          print(f'Video available at https://osf.io/{video.id}')\n",
        "      display(video)\n",
        "    tab_contents.append(out)\n",
        "  return tab_contents\n",
        "\n",
        "\n",
        "video_ids = [('Youtube', 'E_nvNb596DY'), ('Bilibili', 'BV1wV411x7P6')]\n",
        "tab_contents = display_videos(video_ids, W=854, H=480)\n",
        "tabs = widgets.Tab()\n",
        "tabs.children = tab_contents\n",
        "for i in range(len(tab_contents)):\n",
        "  tabs.set_title(i, video_ids[i][0])\n",
        "display(tabs)"
      ]
    },
    {
      "cell_type": "code",
      "execution_count": null,
      "metadata": {
        "cellView": "form",
        "execution": {},
        "id": "bm8dFIpopmDJ"
      },
      "outputs": [],
      "source": [
        "# @title Submit your feedback\n",
        "content_review(f\"{feedback_prefix}_Poisson_distribution_Video\")"
      ]
    },
    {
      "cell_type": "markdown",
      "metadata": {
        "execution": {},
        "id": "C0e3pxG-pmDK"
      },
      "source": [
        "This video covers the Poisson distribution and how it can be used to describe neural spiking.\n",
        "\n",
        "<details>\n",
        "<summary> <font color='blue'>Click here for text recap of  video </font></summary>\n",
        "\n",
        "For some phenomena there may not be a natural limit on the maximum number of possible events or outcomes.\n",
        "\n",
        "The Poisson distribution is a '**point-process**', meaning that it determines the number of discrete 'point', or binary, events that happen within a fixed space or time, allowing for the occurence of a potentially infinite number of events. The Poisson distribution is specified by a single parameter $\\lambda$ that encapsulates the mean number of events that can occur in a single time or space interval (there will be more on this concept of the 'mean' later!).\n",
        "\n",
        "Relevant to us, we can model the number of times a neuron spikes within a time interval using a Poisson distribution. In fact, neuroscientists often do! As an example, if we are recording from a neuron that tends to fire at an average rate of 4 spikes per second, then the Poisson distribution specifies the distribution of recorded spikes over one second, where $\\lambda=4$.\n",
        "\n",
        "</details>\n",
        "\n",
        "The formula for a Poisson distribution on $x$ is:\n",
        "\n",
        "\\begin{equation}\n",
        "P(x)=\\frac{\\lambda^x e^{-\\lambda}}{x!}\n",
        "\\end{equation}\n",
        "\n",
        "where $\\lambda$ is a parameter corresponding to the average outcome of $x$."
      ]
    },
    {
      "cell_type": "markdown",
      "metadata": {
        "execution": {},
        "id": "OUZs7IbZpmDK"
      },
      "source": [
        "### Coding Exercise 2.2: Poisson distribution sampling\n",
        "\n",
        "In the exercise below we will draw some samples from the Poisson distribution and see what the histogram looks.\n",
        "\n",
        "In the code, fill in the missing line so we draw 5 samples from a Poisson distribution with $\\lambda = 4$. Use `np.random.poisson`."
      ]
    },
    {
      "cell_type": "code",
      "execution_count": null,
      "metadata": {
        "execution": {},
        "id": "rDZZJvF-pmDK"
      },
      "outputs": [],
      "source": [
        "# Set random seed\n",
        "np.random.seed(0)\n",
        "\n",
        "# Draw 5 samples from a Poisson distribution with lambda = 4\n",
        "sampled_spike_counts = ...\n",
        "\n",
        "# Print the counts\n",
        "print(\"The samples drawn from the Poisson distribution are \" +\n",
        "          str(sampled_spike_counts))"
      ]
    },
    {
      "cell_type": "code",
      "execution_count": null,
      "metadata": {
        "execution": {},
        "id": "FwaAnh5-pmDK"
      },
      "outputs": [],
      "source": [
        "# to_remove solution\n",
        "\n",
        "# Set random seed\n",
        "np.random.seed(0)\n",
        "\n",
        "# Draw 5 samples from a Poisson distribution with lambda = 4\n",
        "sampled_spike_counts = np.random.poisson(4, 5)\n",
        "\n",
        "# Print the counts\n",
        "print(\"The samples drawn from the Poisson distribution are \" +\n",
        "          str(sampled_spike_counts))"
      ]
    },
    {
      "cell_type": "markdown",
      "metadata": {
        "execution": {},
        "id": "-qWygwpOpmDK"
      },
      "source": [
        "You should see that the neuron spiked 6 times, 7 times, 1 time, 8 times, and 4 times in 5 different intervals."
      ]
    },
    {
      "cell_type": "code",
      "execution_count": null,
      "metadata": {
        "cellView": "form",
        "execution": {},
        "id": "wItnCjK7pmDK"
      },
      "outputs": [],
      "source": [
        "# @title Submit your feedback\n",
        "content_review(f\"{feedback_prefix}_Poisson_distribution_sampling_Exercise\")"
      ]
    },
    {
      "cell_type": "markdown",
      "metadata": {
        "execution": {},
        "id": "ts9l9INxpmDK"
      },
      "source": [
        "### Interactive Demo 2.2: Varying parameters of Poisson distribution\n",
        "\n",
        "Use the interactive demo below to vary $\\lambda$ and the number of samples, and then visualize the resulting histogram.\n",
        "\n",
        "1. What effect does increasing the number of samples have?  \n",
        "2. What effect does changing $\\lambda$ have?\n",
        "3. With a small lambda, why is the distribution asymmetric?"
      ]
    },
    {
      "cell_type": "code",
      "execution_count": null,
      "metadata": {
        "cellView": "form",
        "execution": {},
        "id": "TQXqODTbpmDL"
      },
      "outputs": [],
      "source": [
        "# @markdown Make sure you execute this cell to enable the widget!\n",
        "\n",
        "@widgets.interact(lambda_value = widgets.FloatSlider(value=4, min=0.1, max=10, step=0.1),\n",
        "                  n_samples = widgets.IntSlider(value=5, min=5, max=500, step=1))\n",
        "\n",
        "def gen_and_plot_possion_samples(lambda_value, n_samples):\n",
        "  sampled_spike_counts = np.random.poisson(lambda_value, n_samples)\n",
        "  count, bins = plot_hist(sampled_spike_counts, 'Recorded spikes per second')"
      ]
    },
    {
      "cell_type": "code",
      "execution_count": null,
      "metadata": {
        "execution": {},
        "id": "xFvdOSmupmDL"
      },
      "outputs": [],
      "source": [
        "# to_remove explanation\n",
        "\n",
        "\"\"\"\n",
        "1) More samples only means that the shape of the distribution becomes clearer to us.\n",
        "E.g. with a decent number of samples you may be able to see whether the\n",
        "distribution is symmetrical. With a small number of samples we would not be able\n",
        "to distinguish different distributions from each other. The more data samples we\n",
        "have, the more we can say about the stochastic process that generated the data (obviously).\n",
        "\n",
        "2) Increasing lambda moves the distribution along the x-axis, essentially changing\n",
        "the mean of the distribution. With lambda = 6 for example, we would expect to see\n",
        "6 spike counts per interval on average.\n",
        "\n",
        "3) For small values of lambda the Poisson distribution becomes asymmetrical as\n",
        "it is a distribution over non-negative counts\n",
        "   (you can’t have negative numbers of spikes e.g.).\n",
        "\"\"\";"
      ]
    },
    {
      "cell_type": "code",
      "execution_count": null,
      "metadata": {
        "cellView": "form",
        "execution": {},
        "id": "ANTEVjNkpmDL"
      },
      "outputs": [],
      "source": [
        "# @title Submit your feedback\n",
        "content_review(f\"{feedback_prefix}_Varying_parameters_of_Poisson_distribution_Interactive_Demo\")"
      ]
    },
    {
      "cell_type": "markdown",
      "metadata": {
        "execution": {},
        "id": "d2QWTQJYpmDL"
      },
      "source": [
        "---\n",
        "# Section 3: Continuous distributions"
      ]
    },
    {
      "cell_type": "code",
      "execution_count": 1,
      "metadata": {
        "cellView": "form",
        "execution": {},
        "id": "0bs1ye2ZpmDM",
        "outputId": "aae039b1-875a-4a8f-8c84-6a3aefda39f5",
        "colab": {
          "base_uri": "https://localhost:8080/",
          "height": 582,
          "referenced_widgets": [
            "34bf5b356d7b4fbda255665049f8df36",
            "44229b29b6e34fd99b9ca14fab650079",
            "7f80f5b065704815976c3be30b3ae8cc",
            "3f2f18285890479c94aa234de7375ea5",
            "0c68ceb7ce1e4840b4ca4061fd958df6",
            "083577639f014471b24bf14434020868"
          ]
        }
      },
      "outputs": [
        {
          "output_type": "display_data",
          "data": {
            "text/plain": [
              "Tab(children=(Output(), Output()), _titles={'0': 'Youtube', '1': 'Bilibili'})"
            ],
            "application/vnd.jupyter.widget-view+json": {
              "version_major": 2,
              "version_minor": 0,
              "model_id": "34bf5b356d7b4fbda255665049f8df36"
            }
          },
          "metadata": {}
        }
      ],
      "source": [
        "# @title Video 5: Continuous distributions\n",
        "from ipywidgets import widgets\n",
        "from IPython.display import YouTubeVideo\n",
        "from IPython.display import IFrame\n",
        "from IPython.display import display\n",
        "\n",
        "\n",
        "class PlayVideo(IFrame):\n",
        "  def __init__(self, id, source, page=1, width=400, height=300, **kwargs):\n",
        "    self.id = id\n",
        "    if source == 'Bilibili':\n",
        "      src = f'https://player.bilibili.com/player.html?bvid={id}&page={page}'\n",
        "    elif source == 'Osf':\n",
        "      src = f'https://mfr.ca-1.osf.io/render?url=https://osf.io/download/{id}/?direct%26mode=render'\n",
        "    super(PlayVideo, self).__init__(src, width, height, **kwargs)\n",
        "\n",
        "\n",
        "def display_videos(video_ids, W=400, H=300, fs=1):\n",
        "  tab_contents = []\n",
        "  for i, video_id in enumerate(video_ids):\n",
        "    out = widgets.Output()\n",
        "    with out:\n",
        "      if video_ids[i][0] == 'Youtube':\n",
        "        video = YouTubeVideo(id=video_ids[i][1], width=W,\n",
        "                             height=H, fs=fs, rel=0)\n",
        "        print(f'Video available at https://youtube.com/watch?v={video.id}')\n",
        "      else:\n",
        "        video = PlayVideo(id=video_ids[i][1], source=video_ids[i][0], width=W,\n",
        "                          height=H, fs=fs, autoplay=False)\n",
        "        if video_ids[i][0] == 'Bilibili':\n",
        "          print(f'Video available at https://www.bilibili.com/video/{video.id}')\n",
        "        elif video_ids[i][0] == 'Osf':\n",
        "          print(f'Video available at https://osf.io/{video.id}')\n",
        "      display(video)\n",
        "    tab_contents.append(out)\n",
        "  return tab_contents\n",
        "\n",
        "\n",
        "video_ids = [('Youtube', 'LJ4Zdokb6lc'), ('Bilibili', 'BV1dq4y1L7eC')]\n",
        "tab_contents = display_videos(video_ids, W=854, H=480)\n",
        "tabs = widgets.Tab()\n",
        "tabs.children = tab_contents\n",
        "for i in range(len(tab_contents)):\n",
        "  tabs.set_title(i, video_ids[i][0])\n",
        "display(tabs)"
      ]
    },
    {
      "cell_type": "markdown",
      "source": [
        "**Note:** There is a typo in the vido ~3.40, where the product of Gaussian distributions should be $\\mathcal{N}(\\mu_1, \\sigma_1^2) \\cdot \\mathcal{N}(\\mu_2, \\sigma_2^2)$."
      ],
      "metadata": {
        "id": "yJ8OFJ5wqFB3"
      }
    },
    {
      "cell_type": "code",
      "execution_count": null,
      "metadata": {
        "cellView": "form",
        "execution": {},
        "id": "PVQDpWh_pmDM"
      },
      "outputs": [],
      "source": [
        "# @title Submit your feedback\n",
        "content_review(f\"{feedback_prefix}_Continuous_distributions_Video\")"
      ]
    },
    {
      "cell_type": "markdown",
      "metadata": {
        "execution": {},
        "id": "mzpIhIqVpmDM"
      },
      "source": [
        "We do not have to restrict ourselves to only probabilistic models of discrete events. While some events in neuroscience are discrete (e.g., number of spikes by a neuron), many others are continuous (e.g., neuroimaging signals in EEG or fMRI, distance traveled by an animal, human pointing in the direction of a stimulus).\n",
        "\n",
        "While for discrete outcomes, we can ask about the probability of a specific event (\"What is the probability this neuron will fire 4 times in the next second\"), this is not defined for a continuous distribution (\"What is the probability of the BOLD signal being exactly 4.000120141...\"). Hence we need to focus on intervals when calculating probabilities from a continuous distribution.\n",
        "\n",
        "If we want to make predictions about possible outcomes (\"I believe the BOLD signal from the area will be in the range $x_1$ to $ x_2 $\"), we can use the integral $\\int_{x_1}^{x_2} P(x)$.\n",
        "$P(x)$ is now a **probability density function**, sometimes written as $f(x)$ to distinguish it from the probability mass functions.\n",
        "\n",
        "With continuous distributions, we have to replace the normalizing sum\n",
        "\n",
        "\\begin{equation}\n",
        "\\sum_i P(x=p_i) = 1\n",
        "\\end{equation}\n",
        "\n",
        "over all possible events, with an integral\n",
        "\n",
        "\\begin{equation}\n",
        "\\int_a^b P(x) = 1\n",
        "\\end{equation}\n",
        "\n",
        "where a and b are the limits of the random variable $x$ (often $-\\infty$ and $\\infty$)."
      ]
    },
    {
      "cell_type": "markdown",
      "metadata": {
        "execution": {},
        "id": "3pEWyExfpmDM"
      },
      "source": [
        "## Section 3.1: Gaussian Distribution\n",
        "\n",
        "The most widely used continuous distribution is probably the Gaussian (also known as Normal) distribution. It is extremely common across all kinds of statistical analyses. Because of the central limit theorem, many quantities are Gaussian distributed. Gaussians also have some nice mathematical properties that permit simple closed-form solutions to several important problems.\n",
        "\n",
        "As a working example, imagine that a human participant is asked to point in the direction where they perceived a sound coming from. As an approximation, we can assume that the variability in the direction/orientation they point towards is Gaussian distributed."
      ]
    },
    {
      "cell_type": "markdown",
      "metadata": {
        "execution": {},
        "id": "79evZ33spmDM"
      },
      "source": [
        "### Coding Exercise 3.1A: Gaussian Distribution\n",
        "\n",
        "In this exercise, you will implement a Gaussian by filling in the missing portions of code for the function `my_gaussian` below. Gaussians have two parameters. The **mean** $\\mu$, which sets the location of its center, and its \"scale\" or spread is controlled by its **standard deviation** $\\sigma$, or **variance** $\\sigma^2$ (i.e. the square of standard deviation). **Be careful not to use one when the other is required.**\n",
        "\n",
        "The equation for a Gaussian probability density function is:\n",
        "\n",
        "\\begin{equation}\n",
        "f(x;\\mu,\\sigma^2) = \\mathcal{N}(\\mu,\\sigma^2) = \\frac{1}{\\sqrt{2\\pi\\sigma^2}}\\exp\\left(\\frac{-(x-\\mu)^2}{2\\sigma^2}\\right)\n",
        "\\end{equation}\n",
        "\n",
        "In Python $\\pi$ and $e$ can be written as `np.pi` and `np.exp` respectively.\n",
        "\n",
        "As a probability distribution this has an integral of one when integrated from $-\\infty$ to $\\infty$, however in the following your numerical Gaussian will only be computed over a finite number of points (for the cell below we will sample from -8 to 9 in step sizes of 0.1). You therefore need to explicitly normalize it to sum to one yourself.\n",
        "\n",
        "Test out your implementation with a $\\mu = -1$ and $\\sigma = 1$.  "
      ]
    },
    {
      "cell_type": "code",
      "execution_count": null,
      "metadata": {
        "execution": {},
        "id": "Ba4HT5PZpmDM"
      },
      "outputs": [],
      "source": [
        "def my_gaussian(x_points, mu, sigma):\n",
        "  \"\"\" Returns normalized Gaussian estimated at points `x_points`, with\n",
        "  parameters: mean `mu` and standard deviation `sigma`\n",
        "\n",
        "  Args:\n",
        "      x_points (ndarray of floats): points at which the gaussian is evaluated\n",
        "      mu (scalar): mean of the Gaussian\n",
        "      sigma (scalar): standard deviation of the gaussian\n",
        "\n",
        "  Returns:\n",
        "      (numpy array of floats) : normalized Gaussian evaluated at `x`\n",
        "  \"\"\"\n",
        "\n",
        "  ###################################################################\n",
        "  ## TODO for students: Implement the formula for a Gaussian\n",
        "  ## Add code to calculate the gaussian px as a function of mu and sigma,\n",
        "  ## for every x in x_points\n",
        "  ## Function Hints: exp -> np.exp()\n",
        "  ##                 power -> z**2\n",
        "  ##\n",
        "  ## Fill out the following then remove\n",
        "  raise NotImplementedError(\"Student exercise: need to implement Gaussian\")\n",
        "  ###################################################################\n",
        "  px = ...\n",
        "\n",
        "  # as we are doing numerical integration we have to remember to normalise\n",
        "  # taking into account the stepsize (0.1)\n",
        "  px = px/(0.1*sum(px))\n",
        "  return px\n",
        "\n",
        "x = np.arange(-8, 9, 0.1)\n",
        "\n",
        "# Generate Gaussian\n",
        "px = my_gaussian(x, -1, 1)\n",
        "\n",
        "# Visualize\n",
        "my_plot_single(x, px)"
      ]
    },
    {
      "cell_type": "code",
      "execution_count": null,
      "metadata": {
        "execution": {},
        "id": "Ij82CxIKpmDM"
      },
      "outputs": [],
      "source": [
        "# to_remove solution\n",
        "def my_gaussian(x_points, mu, sigma):\n",
        "  \"\"\" Returns normalized Gaussian estimated at points `x_points`, with\n",
        "  parameters: mean `mu` and standard deviation `sigma`\n",
        "\n",
        "  Args:\n",
        "      x_points (ndarray of floats): points at which the gaussian is evaluated\n",
        "      mu (scalar): mean of the Gaussian\n",
        "      sigma (scalar): standard deviation of the gaussian\n",
        "\n",
        "  Returns:\n",
        "      (numpy array of floats) : normalized Gaussian evaluated at `x`\n",
        "  \"\"\"\n",
        "\n",
        "  px = 1/(2*np.pi*sigma**2)**1/2 *np.exp(-(x_points-mu)**2/(2*sigma**2))\n",
        "\n",
        "  # as we are doing numerical integration we have to remember to normalise\n",
        "  # taking into account the stepsize (0.1)\n",
        "  px = px/(0.1*sum(px))\n",
        "  return px\n",
        "\n",
        "x = np.arange(-8, 9, 0.1)\n",
        "\n",
        "# Generate Gaussian\n",
        "px = my_gaussian(x, -1, 1)\n",
        "\n",
        "# Visualize\n",
        "with plt.xkcd():\n",
        "  my_plot_single(x, px)"
      ]
    },
    {
      "cell_type": "code",
      "execution_count": null,
      "metadata": {
        "cellView": "form",
        "execution": {},
        "id": "-08eK3E2pmDN"
      },
      "outputs": [],
      "source": [
        "# @title Submit your feedback\n",
        "content_review(f\"{feedback_prefix}_Gaussian_Distribution_Exercise\")"
      ]
    },
    {
      "cell_type": "markdown",
      "metadata": {
        "execution": {},
        "id": "iAcfqBW7pmDN"
      },
      "source": [
        "### Interactive Demo 3.1: Sampling from a Gaussian distribution\n",
        "\n",
        "Now that we have gained a bit of intuition about the shape of the Gaussian, let's imagine that a human participant is asked to point in the direction of a sound source, which we then measure in horizontal degrees. To simulate that we draw samples from a Normal distribution:\n",
        "\n",
        "\\begin{equation}\n",
        "x \\sim \\mathcal{N}(\\mu,\\sigma)\n",
        "\\end{equation}\n",
        "\n",
        "We can sample from a Gaussian with mean $\\mu$ and standard deviation $\\sigma$ using `np.random.normal(mu, sigma, size = (n_samples,))`.\n",
        "\n",
        "In the demo below, you can change the mean and standard deviation of the Gaussian, and the number of samples, we can compare the histogram of the samples to the true analytical distribution (in red).\n",
        "\n",
        "1. With what number of samples would you say that the full distribution (in red) is well approximated by the histogram?\n",
        "2. What if you just wanted to approximate the variables that defined the distribution, i.e., mean and variance?"
      ]
    },
    {
      "cell_type": "code",
      "execution_count": null,
      "metadata": {
        "cellView": "form",
        "execution": {},
        "id": "GRy0DebTpmDN"
      },
      "outputs": [],
      "source": [
        "#@markdown Make sure you execute this cell to enable the widget!\n",
        "\n",
        "\n",
        "@widgets.interact(mean = widgets.FloatSlider(value=0, min=-5, max=5, step=0.5),\n",
        "                  standard_dev = widgets.FloatSlider(value=0.5, min=0, max=10, step=0.1),\n",
        "                  n_samples = widgets.IntSlider(value=5, min=1, max=300, step=1))\n",
        "def gen_and_plot_normal_samples(mean, standard_dev, n_samples):\n",
        "  x = np.random.normal(mean, standard_dev, size = (n_samples,))\n",
        "  xspace = np.linspace(-20, 20, 100)\n",
        "  plot_gaussian_samples_true(x, xspace, mean, standard_dev,\n",
        "                            'orientation (degrees)', 'probability')"
      ]
    },
    {
      "cell_type": "markdown",
      "metadata": {
        "execution": {},
        "id": "4_vdStvipmDN"
      },
      "source": [
        "**Main course preview:** Gaussian distriutions are everywhere and are critical for filtering, [linear systems](https://compneuro.neuromatch.io/tutorials/W2D2_LinearSystems/chapter_title.html), [optimal control](https://compneuro.neuromatch.io/tutorials/W3D3_OptimalControl/chapter_title.html) and almost any statistical model of continuous data."
      ]
    },
    {
      "cell_type": "code",
      "execution_count": null,
      "metadata": {
        "cellView": "form",
        "execution": {},
        "id": "uq07GLimpmDN"
      },
      "outputs": [],
      "source": [
        "# @title Submit your feedback\n",
        "content_review(f\"{feedback_prefix}_Sampling_from_a_Gaussian_distribution_Interactive_Demo\")"
      ]
    },
    {
      "cell_type": "markdown",
      "metadata": {
        "execution": {},
        "id": "mWduI9RqpmDN"
      },
      "source": [
        "---\n",
        "# Summary\n",
        "\n",
        "Across the different exercises you should now:\n",
        "* have gotten some intuition about how stochastic randomly generated data can be\n",
        "* understand how to model data using simple distributions\n",
        "* understand the difference between discrete and continuous distributions\n",
        "* be able to plot a Gaussian distribution\n",
        "\n",
        "For more reading on these topics see just about any statistics textbook, or take a look at the [online resources](https://github.com/NeuromatchAcademy/precourse/blob/main/resources.md)."
      ]
    }
  ],
  "metadata": {
    "colab": {
      "name": "W0D5_Tutorial1",
      "provenance": [],
      "toc_visible": true,
      "include_colab_link": true
    },
    "kernel": {
      "display_name": "Python 3",
      "language": "python",
      "name": "python3"
    },
    "kernelspec": {
      "display_name": "Python 3",
      "language": "python",
      "name": "python3"
    },
    "language_info": {
      "codemirror_mode": {
        "name": "ipython",
        "version": 3
      },
      "file_extension": ".py",
      "mimetype": "text/x-python",
      "name": "python",
      "nbconvert_exporter": "python",
      "pygments_lexer": "ipython3",
      "version": "3.9.17"
    },
    "toc-autonumbering": true,
    "widgets": {
      "application/vnd.jupyter.widget-state+json": {
        "34bf5b356d7b4fbda255665049f8df36": {
          "model_module": "@jupyter-widgets/controls",
          "model_name": "TabModel",
          "model_module_version": "1.5.0",
          "state": {
            "_dom_classes": [],
            "_model_module": "@jupyter-widgets/controls",
            "_model_module_version": "1.5.0",
            "_model_name": "TabModel",
            "_titles": {
              "0": "Youtube",
              "1": "Bilibili"
            },
            "_view_count": null,
            "_view_module": "@jupyter-widgets/controls",
            "_view_module_version": "1.5.0",
            "_view_name": "TabView",
            "box_style": "",
            "children": [
              "IPY_MODEL_44229b29b6e34fd99b9ca14fab650079",
              "IPY_MODEL_7f80f5b065704815976c3be30b3ae8cc"
            ],
            "layout": "IPY_MODEL_3f2f18285890479c94aa234de7375ea5",
            "selected_index": 0
          }
        },
        "44229b29b6e34fd99b9ca14fab650079": {
          "model_module": "@jupyter-widgets/output",
          "model_name": "OutputModel",
          "model_module_version": "1.0.0",
          "state": {
            "_dom_classes": [],
            "_model_module": "@jupyter-widgets/output",
            "_model_module_version": "1.0.0",
            "_model_name": "OutputModel",
            "_view_count": null,
            "_view_module": "@jupyter-widgets/output",
            "_view_module_version": "1.0.0",
            "_view_name": "OutputView",
            "layout": "IPY_MODEL_0c68ceb7ce1e4840b4ca4061fd958df6",
            "msg_id": "",
            "outputs": [
              {
                "output_type": "stream",
                "name": "stdout",
                "text": [
                  "Video available at https://youtube.com/watch?v=LJ4Zdokb6lc\n"
                ]
              },
              {
                "output_type": "display_data",
                "data": {
                  "text/plain": "<IPython.lib.display.YouTubeVideo at 0x7fdbf00ed7b0>",
                  "text/html": "\n        <iframe\n            width=\"854\"\n            height=\"480\"\n            src=\"https://www.youtube.com/embed/LJ4Zdokb6lc?fs=1&rel=0\"\n            frameborder=\"0\"\n            allowfullscreen\n            \n        ></iframe>\n        ",
                  "image/jpeg": "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\n"
                },
                "metadata": {}
              }
            ]
          }
        },
        "7f80f5b065704815976c3be30b3ae8cc": {
          "model_module": "@jupyter-widgets/output",
          "model_name": "OutputModel",
          "model_module_version": "1.0.0",
          "state": {
            "_dom_classes": [],
            "_model_module": "@jupyter-widgets/output",
            "_model_module_version": "1.0.0",
            "_model_name": "OutputModel",
            "_view_count": null,
            "_view_module": "@jupyter-widgets/output",
            "_view_module_version": "1.0.0",
            "_view_name": "OutputView",
            "layout": "IPY_MODEL_083577639f014471b24bf14434020868",
            "msg_id": "",
            "outputs": [
              {
                "output_type": "stream",
                "name": "stdout",
                "text": [
                  "Video available at https://www.bilibili.com/video/BV1dq4y1L7eC\n"
                ]
              },
              {
                "output_type": "display_data",
                "data": {
                  "text/plain": "<__main__.PlayVideo at 0x7fdbf01c7040>",
                  "text/html": "\n        <iframe\n            width=\"854\"\n            height=\"480\"\n            src=\"https://player.bilibili.com/player.html?bvid=BV1dq4y1L7eC&page=1?fs=1&autoplay=False\"\n            frameborder=\"0\"\n            allowfullscreen\n            \n        ></iframe>\n        "
                },
                "metadata": {}
              }
            ]
          }
        },
        "3f2f18285890479c94aa234de7375ea5": {
          "model_module": "@jupyter-widgets/base",
          "model_name": "LayoutModel",
          "model_module_version": "1.2.0",
          "state": {
            "_model_module": "@jupyter-widgets/base",
            "_model_module_version": "1.2.0",
            "_model_name": "LayoutModel",
            "_view_count": null,
            "_view_module": "@jupyter-widgets/base",
            "_view_module_version": "1.2.0",
            "_view_name": "LayoutView",
            "align_content": null,
            "align_items": null,
            "align_self": null,
            "border": null,
            "bottom": null,
            "display": null,
            "flex": null,
            "flex_flow": null,
            "grid_area": null,
            "grid_auto_columns": null,
            "grid_auto_flow": null,
            "grid_auto_rows": null,
            "grid_column": null,
            "grid_gap": null,
            "grid_row": null,
            "grid_template_areas": null,
            "grid_template_columns": null,
            "grid_template_rows": null,
            "height": null,
            "justify_content": null,
            "justify_items": null,
            "left": null,
            "margin": null,
            "max_height": null,
            "max_width": null,
            "min_height": null,
            "min_width": null,
            "object_fit": null,
            "object_position": null,
            "order": null,
            "overflow": null,
            "overflow_x": null,
            "overflow_y": null,
            "padding": null,
            "right": null,
            "top": null,
            "visibility": null,
            "width": null
          }
        },
        "0c68ceb7ce1e4840b4ca4061fd958df6": {
          "model_module": "@jupyter-widgets/base",
          "model_name": "LayoutModel",
          "model_module_version": "1.2.0",
          "state": {
            "_model_module": "@jupyter-widgets/base",
            "_model_module_version": "1.2.0",
            "_model_name": "LayoutModel",
            "_view_count": null,
            "_view_module": "@jupyter-widgets/base",
            "_view_module_version": "1.2.0",
            "_view_name": "LayoutView",
            "align_content": null,
            "align_items": null,
            "align_self": null,
            "border": null,
            "bottom": null,
            "display": null,
            "flex": null,
            "flex_flow": null,
            "grid_area": null,
            "grid_auto_columns": null,
            "grid_auto_flow": null,
            "grid_auto_rows": null,
            "grid_column": null,
            "grid_gap": null,
            "grid_row": null,
            "grid_template_areas": null,
            "grid_template_columns": null,
            "grid_template_rows": null,
            "height": null,
            "justify_content": null,
            "justify_items": null,
            "left": null,
            "margin": null,
            "max_height": null,
            "max_width": null,
            "min_height": null,
            "min_width": null,
            "object_fit": null,
            "object_position": null,
            "order": null,
            "overflow": null,
            "overflow_x": null,
            "overflow_y": null,
            "padding": null,
            "right": null,
            "top": null,
            "visibility": null,
            "width": null
          }
        },
        "083577639f014471b24bf14434020868": {
          "model_module": "@jupyter-widgets/base",
          "model_name": "LayoutModel",
          "model_module_version": "1.2.0",
          "state": {
            "_model_module": "@jupyter-widgets/base",
            "_model_module_version": "1.2.0",
            "_model_name": "LayoutModel",
            "_view_count": null,
            "_view_module": "@jupyter-widgets/base",
            "_view_module_version": "1.2.0",
            "_view_name": "LayoutView",
            "align_content": null,
            "align_items": null,
            "align_self": null,
            "border": null,
            "bottom": null,
            "display": null,
            "flex": null,
            "flex_flow": null,
            "grid_area": null,
            "grid_auto_columns": null,
            "grid_auto_flow": null,
            "grid_auto_rows": null,
            "grid_column": null,
            "grid_gap": null,
            "grid_row": null,
            "grid_template_areas": null,
            "grid_template_columns": null,
            "grid_template_rows": null,
            "height": null,
            "justify_content": null,
            "justify_items": null,
            "left": null,
            "margin": null,
            "max_height": null,
            "max_width": null,
            "min_height": null,
            "min_width": null,
            "object_fit": null,
            "object_position": null,
            "order": null,
            "overflow": null,
            "overflow_x": null,
            "overflow_y": null,
            "padding": null,
            "right": null,
            "top": null,
            "visibility": null,
            "width": null
          }
        }
      }
    }
  },
  "nbformat": 4,
  "nbformat_minor": 0
}