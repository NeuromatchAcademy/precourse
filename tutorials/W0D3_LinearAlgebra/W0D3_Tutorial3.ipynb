{
  "cells": [
    {
      "cell_type": "markdown",
      "metadata": {
        "id": "view-in-github",
        "colab_type": "text"
      },
      "source": [
        "<a href=\"https://colab.research.google.com/github/NeuromatchAcademy/precourse/blob/fix_issue/tutorials/W0D3_LinearAlgebra/W0D3_Tutorial3.ipynb\" target=\"_parent\"><img src=\"https://colab.research.google.com/assets/colab-badge.svg\" alt=\"Open In Colab\"/></a>"
      ]
    },
    {
      "cell_type": "markdown",
      "metadata": {
        "execution": {},
        "id": "uQVOUsnUz7cB"
      },
      "source": [
        "# Bonus Tutorial: Discrete Dynamical Systems\n",
        "\n",
        "**Week 0, Day 3: Linear Algebra**\n",
        "\n",
        "**By Neuromatch Academy**\n",
        "\n",
        "**Content creators:** Ella Batty\n",
        "\n",
        "**Production editors:** Ella Batty"
      ]
    },
    {
      "cell_type": "markdown",
      "metadata": {
        "execution": {},
        "id": "xkkwrBlIz7cE"
      },
      "source": [
        "<p align='center'><img src='https://github.com/NeuromatchAcademy/widgets/blob/master/sponsors.png?raw=True'/></p>"
      ]
    },
    {
      "cell_type": "markdown",
      "metadata": {
        "execution": {},
        "id": "3hRXJHnFz7cF"
      },
      "source": [
        "---\n",
        "# Tutorial Objectives\n",
        "\n",
        "In this tutorial, we will start to gain an intuition for how eigenvalues and eigenvectors can be helpful for understanding dynamical systems. We will focus on a discrete dynamical system consisting of two neurons.\n",
        "\n",
        "By the end of the tutorial, you will:\n",
        "\n",
        "* Predict whether the firing rates of interconnected model neurons will explode or decay based on the eigenvalues of the weight matrix.\n",
        "* Apply ideas from previous tutorials (linear combination, basis vectors, etc) to understand a new concept\n",
        "\n",
        "\n",
        "\n"
      ]
    },
    {
      "cell_type": "markdown",
      "metadata": {
        "execution": {},
        "id": "h9xBe9uNz7cF"
      },
      "source": [
        "---\n",
        "# Setup"
      ]
    },
    {
      "cell_type": "code",
      "execution_count": null,
      "metadata": {
        "cellView": "form",
        "execution": {},
        "id": "p4g1JipZz7cG"
      },
      "outputs": [],
      "source": [
        "# @title Install and import feedback gadget\n",
        "\n",
        "!pip3 install vibecheck datatops --quiet\n",
        "\n",
        "from vibecheck import DatatopsContentReviewContainer\n",
        "def content_review(notebook_section: str):\n",
        "    return DatatopsContentReviewContainer(\n",
        "        \"\",  # No text prompt\n",
        "        notebook_section,\n",
        "        {\n",
        "            \"url\": \"https://pmyvdlilci.execute-api.us-east-1.amazonaws.com/klab\",\n",
        "            \"name\": \"neuromatch-precourse\",\n",
        "            \"user_key\": \"8zxfvwxw\",\n",
        "        },\n",
        "    ).render()\n",
        "\n",
        "\n",
        "feedback_prefix = \"W0D3_Bonus\""
      ]
    },
    {
      "cell_type": "code",
      "execution_count": null,
      "metadata": {
        "cellView": "both",
        "execution": {},
        "id": "SGhlkV-Jz7cH"
      },
      "outputs": [],
      "source": [
        "# Imports\n",
        "import numpy as np\n",
        "import matplotlib\n",
        "import matplotlib.pyplot as plt"
      ]
    },
    {
      "cell_type": "code",
      "execution_count": null,
      "metadata": {
        "cellView": "form",
        "execution": {},
        "id": "PPzuLPgEz7cH"
      },
      "outputs": [],
      "source": [
        "# @title Figure settings\n",
        "import logging\n",
        "logging.getLogger('matplotlib.font_manager').disabled = True\n",
        "import ipywidgets as widgets  # interactive display\n",
        "%config InlineBackend.figure_format = 'retina'\n",
        "plt.style.use(\"https://raw.githubusercontent.com/NeuromatchAcademy/content-creation/main/nma.mplstyle\")"
      ]
    },
    {
      "cell_type": "code",
      "execution_count": null,
      "metadata": {
        "cellView": "form",
        "execution": {},
        "id": "NG7aVHVYz7cH"
      },
      "outputs": [],
      "source": [
        "# @title Plotting functions\n",
        "\n",
        "def plot_circuit_responses(u, W, eigenstuff = False,\n",
        "                           xlim='default',\n",
        "                           ylim='default'):\n",
        "    fig, ax = plt.subplots(1, 1, figsize=(10, 10))\n",
        "\n",
        "    # Set up axis limits\n",
        "    if xlim == 'default':\n",
        "      extreme = np.maximum(np.abs(np.min(u)), np.max(u))\n",
        "      xlim = [- extreme, extreme]\n",
        "    if ylim == 'default':\n",
        "      extreme = np.maximum(np.abs(np.min(u)), np.max(u))\n",
        "      ylim = [- extreme, extreme]\n",
        "\n",
        "    # Set up look\n",
        "    ax.spines['right'].set_visible(False)\n",
        "    ax.spines['top'].set_visible(False)\n",
        "    cs = plt.rcParams['axes.prop_cycle'].by_key()['color']*10\n",
        "    ax.set_xlim(xlim)\n",
        "    ax.set_ylim(ylim)\n",
        "\n",
        "    # Set up tracking textz\n",
        "    tracker_text = ax.text(.5, .9, \"\", color='w',\n",
        "                           fontsize=20,\n",
        "                           verticalalignment='top',\n",
        "                           horizontalalignment='left',\n",
        "                           transform=ax.transAxes)\n",
        "\n",
        "    # Plot eigenvectors\n",
        "    if eigenstuff:\n",
        "      eigvals, eigvecs = np.linalg.eig(W)\n",
        "\n",
        "      if np.abs(eigvals[0]) < np.abs(eigvals[1]):\n",
        "        lc1 = 'c'\n",
        "        lc2 = 'g'\n",
        "      else:\n",
        "        lc1 = 'g'\n",
        "        lc2 = 'c'\n",
        "\n",
        "      ax.plot(np.arange(-10000, 10000)*eigvecs[0, 0],\n",
        "              np.arange(-10000, 10000)*eigvecs[1, 0],\n",
        "              lc1, alpha=.5, label = r'$\\mathbf{v}_1$')\n",
        "      ax.plot(np.arange(-10000, 10000)*eigvecs[0, 1],\n",
        "              np.arange(-10000, 10000)*eigvecs[1, 1],\n",
        "              lc2, alpha=.5, label = r'$\\mathbf{v}_2$')\n",
        "      ax.legend()\n",
        "\n",
        "    # Set up scatter\n",
        "    cmap = plt.cm.coolwarm\n",
        "    norm = plt.Normalize(vmin=0, vmax=u.shape[1])\n",
        "    ax.plot(u[0,:], u[1, :], alpha=.4, zorder = 0)\n",
        "    scatter = ax.scatter(u[0, :], u[1, :], alpha=1,\n",
        "                         c=cmap(norm(np.arange(u.shape[1]))),\n",
        "                         zorder=1)\n",
        "\n",
        "\n",
        "    ax.set(xlabel='Neuron 1 Firing Rate ($a_1$)',\n",
        "           ylabel='Neuron 2 Firing Rate ($a_2$)',\n",
        "           title='Neural firing over time')\n",
        "\n",
        "    fig.colorbar(matplotlib.cm.ScalarMappable(norm=norm, cmap=cmap),\n",
        "                 ax=ax, label='Time step')"
      ]
    },
    {
      "cell_type": "code",
      "execution_count": null,
      "metadata": {
        "cellView": "form",
        "execution": {},
        "id": "20kK3uWQz7cI"
      },
      "outputs": [],
      "source": [
        "# @title Helper functions\n",
        "\n",
        "def get_eigval_specified_matrix(target_eig):\n",
        "  \"\"\"Generates matrix with specified eigvals\n",
        "\n",
        "    Args:\n",
        "      target_eig (list): list of target eigenvalues, can be real or complex,\n",
        "              should be length 2 unless you desire repeated eigenvalues\n",
        "              with the same eigenvector, in which case length 1\n",
        "\n",
        "    Returns:\n",
        "      ndarray: 2 x 2 matrix with target eigvals\n",
        "\n",
        "  \"\"\"\n",
        "\n",
        "  # Set up two eigenvectors\n",
        "  V = np.array([[1, 1], [-1, 1]]).astype('float')\n",
        "  for i in range(2):\n",
        "    V[:, i] = V[:, i]/np.linalg.norm(V[:, i])\n",
        "\n",
        "  # Get matrix with target eigenvalues\n",
        "  if type(target_eig[0]) == int or type(target_eig[0]) == float:\n",
        "\n",
        "    if len(target_eig) == 2: # distinct eigvecs (not necessarily distinct eigvals)\n",
        "\n",
        "        D = np.diag(target_eig)\n",
        "        A = V @ D @ np.linalg.inv(V)\n",
        "\n",
        "    else: # repeated with same vec\n",
        "      summed = 2*target_eig[0]\n",
        "\n",
        "      a = summed - 3\n",
        "      d = 3\n",
        "      bc = target_eig[0]**2 - a*d\n",
        "      factors = [n for n in range(1, bc+ 1) if bc % n == 0]\n",
        "      b = factors[int(np.floor(len(factors)/2))]\n",
        "      c = bc/-b\n",
        "\n",
        "      A = np.array([[a, b], [c, d]])\n",
        "\n",
        "  elif type(target_eig[0]) == complex:\n",
        "\n",
        "      C = [np.real(V[:,0]), np.real(V[:,1])]\n",
        "      B = np.array([[np.real(target_eig[0]), np.imag(target_eig[0])],\n",
        "                    [-np.imag(target_eig[0]), np.real(target_eig[0])]]).squeeze()\n",
        "      A = C @ B @ np.linalg.inv(C)\n",
        "\n",
        "  return A"
      ]
    },
    {
      "cell_type": "markdown",
      "metadata": {
        "execution": {},
        "id": "gH_xF-yWz7cI"
      },
      "source": [
        "---\n",
        "\n",
        "# Section 1: Defining a neural circuit\n",
        "\n",
        "\n",
        "\n"
      ]
    },
    {
      "cell_type": "markdown",
      "metadata": {
        "execution": {},
        "id": "WjlsnFuiz7cJ"
      },
      "source": [
        "**Please note a correction to the video appearing below it**\n"
      ]
    },
    {
      "cell_type": "code",
      "execution_count": null,
      "metadata": {
        "cellView": "form",
        "execution": {},
        "id": "YV398CNuz7cJ"
      },
      "outputs": [],
      "source": [
        "# @title Video 1: A neural circuit\n",
        "from ipywidgets import widgets\n",
        "from IPython.display import YouTubeVideo\n",
        "from IPython.display import IFrame\n",
        "from IPython.display import display\n",
        "\n",
        "\n",
        "class PlayVideo(IFrame):\n",
        "  def __init__(self, id, source, page=1, width=400, height=300, **kwargs):\n",
        "    self.id = id\n",
        "    if source == 'Bilibili':\n",
        "      src = f'https://player.bilibili.com/player.html?bvid={id}&page={page}'\n",
        "    elif source == 'Osf':\n",
        "      src = f'https://mfr.ca-1.osf.io/render?url=https://osf.io/download/{id}/?direct%26mode=render'\n",
        "    super(PlayVideo, self).__init__(src, width, height, **kwargs)\n",
        "\n",
        "\n",
        "def display_videos(video_ids, W=400, H=300, fs=1):\n",
        "  tab_contents = []\n",
        "  for i, video_id in enumerate(video_ids):\n",
        "    out = widgets.Output()\n",
        "    with out:\n",
        "      if video_ids[i][0] == 'Youtube':\n",
        "        video = YouTubeVideo(id=video_ids[i][1], width=W,\n",
        "                             height=H, fs=fs, rel=0)\n",
        "        print(f'Video available at https://youtube.com/watch?v={video.id}')\n",
        "      else:\n",
        "        video = PlayVideo(id=video_ids[i][1], source=video_ids[i][0], width=W,\n",
        "                          height=H, fs=fs, autoplay=False)\n",
        "        if video_ids[i][0] == 'Bilibili':\n",
        "          print(f'Video available at https://www.bilibili.com/video/{video.id}')\n",
        "        elif video_ids[i][0] == 'Osf':\n",
        "          print(f'Video available at https://osf.io/{video.id}')\n",
        "      display(video)\n",
        "    tab_contents.append(out)\n",
        "  return tab_contents\n",
        "\n",
        "\n",
        "video_ids = [('Youtube', 'XJu2bQgnn9M'), ('Bilibili', 'BV1564y1b78X')]\n",
        "tab_contents = display_videos(video_ids, W=854, H=480)\n",
        "tabs = widgets.Tab()\n",
        "tabs.children = tab_contents\n",
        "for i in range(len(tab_contents)):\n",
        "  tabs.set_title(i, video_ids[i][0])\n",
        "display(tabs)"
      ]
    },
    {
      "cell_type": "code",
      "execution_count": null,
      "metadata": {
        "cellView": "form",
        "execution": {},
        "id": "jSgwXVbZz7cJ"
      },
      "outputs": [],
      "source": [
        "# @title Submit your feedback\n",
        "content_review(f\"{feedback_prefix}_A_neural_circuit_Video\")"
      ]
    },
    {
      "cell_type": "markdown",
      "metadata": {
        "execution": {},
        "id": "5QE5aO3az7cJ"
      },
      "source": [
        "This video covers our neural circuit we will be working with in this tutorial.\n",
        "\n",
        "**Please note this correction to the video: I had wrong subscripts for weights in the equations and matrix. These should be:**\n",
        "\n",
        "\\begin{aligned}\n",
        "a_{1, t} &= w_{1, 1}a_{1, t-1} + w_{2, 1}a_{2, t-1}\\\\\n",
        "a_{2, t} &= w_{1, 2}a_{1, t-1} + w_{2, 2}a_{2, t-1}\n",
        "\\end{aligned}\n",
        "\n",
        "<br>\n",
        "\n",
        "\\begin{equation}\n",
        "\\mathbf{W} = \\begin{bmatrix} w_{1, 1} & w_{2, 1} \\\\ w_{1, 2} & w_{2, 2} \\end{bmatrix}, \\mathbf{a}_{t} =   \\begin{bmatrix} a_{1, t} \\\\ a_{2, t} \\end{bmatrix}\n",
        "\\end{equation}\n",
        "\n",
        "<details>\n",
        "<summary> <font color='blue'>Click here for text recap of video </font></summary>\n",
        "\n",
        "In previous tutorials, we have looked at static models of LGN neurons based on the responses of retinal neurons. By static, I mean that we just looked at a single time point.\n",
        "\n",
        "Let's now introduce the concept of time. We will chop time up into little bins and look at the activity of neurons in each bin. That is, we will work in a **discrete** time framework. For example, if each bin is 1 second long, we will look at the firing rate of each neuron at intervals of a second.\n",
        "\n",
        "Instead of examining pre- and post- synaptic neurons, we will examine two neurons in one area that are connected. In our model, the activity of neuron 1 at one time bin depends on the activities of both neurons during the previous time bin multiplied by the respective weights from itself and neuron 2. It might seem weird for a neuron to have a weight to itself - this is abstracting away some biological details but basically conveys how much the neural activity depends on its history. (Throughout this course, we'll see lots of neuron models and how some model biological detail more faithfully while others abstract.)\n",
        "\n",
        "We will refer to the activity of neuron i during time bin j as $a_{i, j}$. The weight from neuron y to neuron x will be $w_{y, x}$. With this helpful notation, we can write an equation for the activity of neuron 1 at time bin t:\n",
        "\n",
        "\\begin{equation}\n",
        "a_{1, t} = w_{1, 1}a_{1, t-1} + w_{2, 1}a_{2, t-1}\n",
        "\\end{equation}\n",
        "\n",
        "And the symmetric model is true of neuron 2:\n",
        "\\begin{equation}\n",
        "a_{2, t} = w_{1, 2}a_{1, t-1} + w_{2, 2}a_{2, t-1}\n",
        "\\end{equation}\n",
        "\n",
        "This is already a mess of subscript numbers - luckily we can use matrices and vectors once again and our model becomes:\n",
        "\n",
        "\\begin{equation}\n",
        "\\mathbf{a}_{t} = \\mathbf{W}\\mathbf{a}_{t-1}\n",
        "\\end{equation}\n",
        "\n",
        "where:\n",
        "\n",
        "\\begin{equation}\n",
        "\\mathbf{W} = \\begin{bmatrix} w_{1, 1} & w_{2, 1} \\\\ w_{1, 2} & w_{2, 2} \\end{bmatrix}, \\mathbf{a}_{t} =   \\begin{bmatrix} a_{1, t} \\\\ a_{2, t} \\end{bmatrix}\\end{equation}\n",
        "\n",
        "It turns out that this is a **discrete dynamical system**. Dynamical systems are concerned with how quantities evolve other time, in this case our neural firing rates. When we model the evolution of quantities over time using a discrete time framework, it is, unsurprisingly, a discrete dynamical system. We will see continuous dynamical systems (where we embrace the full continuity of time) tomorrow and later in the comp neuro course during W2D2: Linear Dynamics.\n"
      ]
    },
    {
      "cell_type": "markdown",
      "metadata": {
        "execution": {},
        "id": "YXpdOfMYz7cJ"
      },
      "source": [
        "## Coding Exercise 1: Implementing the circuit\n",
        "\n",
        "In this exercise, you will implement the function `circuit_implementation`. Given a weight matrix, initial activities at time 0, and a number of time bins to model, this function calculates the neural firing rates at each time bin.\n",
        "\n",
        "We will use initial firing rates of 1 for both neurons:\n",
        "\n",
        "\\begin{equation}\n",
        "\\mathbf{a}_0 =\n",
        "\\begin{bmatrix}\n",
        "1 \\\\\n",
        "1\n",
        "\\end{bmatrix}\n",
        "\\end{equation}\n",
        "\n",
        "and the weight matrix:\n",
        "\n",
        "\\begin{equation}\n",
        "\\mathbf{W} =\n",
        "\\begin{bmatrix}\n",
        "1 & 0.2 \\\\\n",
        "0.1 & 1\n",
        "\\end{bmatrix}\n",
        "\\end{equation}\n",
        "\n",
        "We will look at activity over 30 time steps. As before, we will allow our firing rates to be negative, despite this not being possible biologically.\n"
      ]
    },
    {
      "cell_type": "code",
      "execution_count": null,
      "metadata": {
        "execution": {},
        "id": "XjocUxC8z7cJ"
      },
      "outputs": [],
      "source": [
        "def circuit_implementation(W, a0, T):\n",
        "  \"\"\" Simulate the responses of N neurons over time given their connections\n",
        "\n",
        "  Args:\n",
        "    W (ndarray): weight matrix of synaptic connections, should be N x N\n",
        "    a0 (ndarray): initial condition or input vector, should be N,\n",
        "    T (scalar): number of time steps to run simulation for\n",
        "\n",
        "  Returns:\n",
        "    a (ndarray): the neural responses over time, should be N x T\n",
        "\n",
        "  \"\"\"\n",
        "\n",
        "  # Compute the number of neurons\n",
        "  N = W.shape[0]\n",
        "\n",
        "  # Initialize empty response array and initial condition\n",
        "  a = np.zeros((N, T))\n",
        "  a[:, 0]  = a0\n",
        "\n",
        "  #################################################\n",
        "  ## TODO for students ##\n",
        "  # Fill out function and remove\n",
        "  raise NotImplementedError(\"Student exercise: Complete circuit_implementation\")\n",
        "  #################################################\n",
        "\n",
        "  # Loop over time steps and compute u(t+1)\n",
        "  for i_t in range(1, T):\n",
        "      a[:, i_t] = ...\n",
        "\n",
        "  return a\n",
        "\n",
        "\n",
        "# Define W, u0, T\n",
        "W = np.array([[1, .2], [.1, 1]])\n",
        "a0 = np.array([1, 1])\n",
        "T = 30\n",
        "\n",
        "# Get neural activities\n",
        "a = circuit_implementation(W, a0, T)\n",
        "\n",
        "# Visualize neural activities\n",
        "plot_circuit_responses(a, W)"
      ]
    },
    {
      "cell_type": "code",
      "execution_count": null,
      "metadata": {
        "execution": {},
        "id": "9uj9XReTz7cK"
      },
      "outputs": [],
      "source": [
        "# to_remove solution\n",
        "def circuit_implementation(W, a0, T):\n",
        "  \"\"\" Simulate the responses of N neurons over time given their connections\n",
        "\n",
        "  Args:\n",
        "    W (ndarray): weight matrix of synaptic connections, should be N x N\n",
        "    a0 (ndarray): initial condition or input vector, should be N,\n",
        "    T (scalar): number of time steps to run simulation for\n",
        "\n",
        "  Returns:\n",
        "    a (ndarray): the neural responses over time, should be N x T\n",
        "\n",
        "  \"\"\"\n",
        "\n",
        "  # Compute the number of neurons\n",
        "  N = W.shape[0]\n",
        "\n",
        "  # Initialize empty response array and initial condition\n",
        "  a = np.zeros((N, T))\n",
        "  a[:, 0]  = a0\n",
        "\n",
        "  # Loop over time steps and compute u(t+1)\n",
        "  for i_t in range(1, T):\n",
        "      a[:, i_t] = W @ a[:, i_t-1]\n",
        "\n",
        "  return a\n",
        "\n",
        "\n",
        "# Define W, u0, T\n",
        "W = np.array([[1, .2], [.1, 1]])\n",
        "a0 = np.array([1, 1])\n",
        "T = 30\n",
        "\n",
        "# Get neural activities\n",
        "a = circuit_implementation(W, a0, T)\n",
        "\n",
        "# Visualize neural activities\n",
        "with plt.xkcd():\n",
        "  plot_circuit_responses(a, W)"
      ]
    },
    {
      "cell_type": "code",
      "execution_count": null,
      "metadata": {
        "cellView": "form",
        "execution": {},
        "id": "f449pwmFz7cK"
      },
      "outputs": [],
      "source": [
        "# @title Submit your feedback\n",
        "content_review(f\"{feedback_prefix}_Implementing_the_circuit_Exercise\")"
      ]
    },
    {
      "cell_type": "markdown",
      "metadata": {
        "execution": {},
        "id": "yGaGDyH3z7cK"
      },
      "source": [
        "The firing rates of both neurons are exploding to infinity over time. Let's now see what happens with a different weight matrix:\n",
        "\n",
        "\\begin{equation}\n",
        "\\mathbf{W} =\n",
        "\\begin{bmatrix}\n",
        "0.2 & 0.1 \\\\\n",
        "1 & 0.2\n",
        "\\end{bmatrix}\n",
        "\\end{equation}"
      ]
    },
    {
      "cell_type": "code",
      "execution_count": null,
      "metadata": {
        "cellView": "form",
        "execution": {},
        "id": "8v_zWB0Mz7cK"
      },
      "outputs": [],
      "source": [
        "# @markdown Execute this cell to visualize activity over time\n",
        "\n",
        "# Define W, a0, T\n",
        "W = np.array([[.2, .1], [1, .2]])\n",
        "a0 = np.array([1, 1])\n",
        "T = 30\n",
        "\n",
        "# Get neural activities\n",
        "a = circuit_implementation(W, a0, T)\n",
        "\n",
        "# Visualize neural activities\n",
        "plot_circuit_responses(a, W)"
      ]
    },
    {
      "cell_type": "markdown",
      "metadata": {
        "execution": {},
        "id": "5_yT1fNrz7cK"
      },
      "source": [
        "We can see that with this weight matrix, the firing rates are decaying towards zero. It turns out that we could have predicted this by looking at the eigenvalues of the weight matrices, as we'll see in the next section."
      ]
    },
    {
      "cell_type": "markdown",
      "metadata": {
        "execution": {},
        "id": "sfHb7GkYz7cK"
      },
      "source": [
        "---\n",
        "# Section 2: Understanding dynamics using eigenstuff\n",
        "\n",
        "As we'll see in this section, eigenvectors and eigenvalues are incredibly useful for understanding the evolution of the neural firing rates, and discrete dynamical systems in general.\n",
        "\n"
      ]
    },
    {
      "cell_type": "markdown",
      "metadata": {
        "execution": {},
        "id": "_GZQzi7bz7cK"
      },
      "source": [
        "## Section 2.1: Initial firing rates along an eigenvector\n"
      ]
    },
    {
      "cell_type": "markdown",
      "metadata": {
        "execution": {},
        "id": "DZhuROTfz7cL"
      },
      "source": [
        "**Please note this correction to the video: the equation at the bottom of slide 115 (at 2:31) should be: $a_i = W^ia_0$**"
      ]
    },
    {
      "cell_type": "code",
      "execution_count": 1,
      "metadata": {
        "cellView": "form",
        "execution": {},
        "id": "9DjYTCCPz7cL",
        "outputId": "28766779-0fea-4e1a-b9b3-9158c76e0ef7",
        "colab": {
          "base_uri": "https://localhost:8080/",
          "height": 582,
          "referenced_widgets": [
            "c3be5cf88034423b993732e4e8e87281",
            "ea040907c2ee4dc196d72165dfa27445",
            "ddb524014bef42efa45823f04c8fa638",
            "2553bf362bd6435897d4ca8f748033fb",
            "dae5a03f16b1442b85474f8b5799b46e",
            "d83c6ca3b7b7490f8ea6a4a1f1ec3543"
          ]
        }
      },
      "outputs": [
        {
          "output_type": "display_data",
          "data": {
            "text/plain": [
              "Tab(children=(Output(), Output()), _titles={'0': 'Youtube', '1': 'Bilibili'})"
            ],
            "application/vnd.jupyter.widget-view+json": {
              "version_major": 2,
              "version_minor": 0,
              "model_id": "c3be5cf88034423b993732e4e8e87281"
            }
          },
          "metadata": {}
        }
      ],
      "source": [
        "# @title Video 2: Looking at activity along an eigenvector\n",
        "from ipywidgets import widgets\n",
        "from IPython.display import YouTubeVideo\n",
        "from IPython.display import IFrame\n",
        "from IPython.display import display\n",
        "\n",
        "\n",
        "class PlayVideo(IFrame):\n",
        "  def __init__(self, id, source, page=1, width=400, height=300, **kwargs):\n",
        "    self.id = id\n",
        "    if source == 'Bilibili':\n",
        "      src = f'https://player.bilibili.com/player.html?bvid={id}&page={page}'\n",
        "    elif source == 'Osf':\n",
        "      src = f'https://mfr.ca-1.osf.io/render?url=https://osf.io/download/{id}/?direct%26mode=render'\n",
        "    super(PlayVideo, self).__init__(src, width, height, **kwargs)\n",
        "\n",
        "\n",
        "def display_videos(video_ids, W=400, H=300, fs=1):\n",
        "  tab_contents = []\n",
        "  for i, video_id in enumerate(video_ids):\n",
        "    out = widgets.Output()\n",
        "    with out:\n",
        "      if video_ids[i][0] == 'Youtube':\n",
        "        video = YouTubeVideo(id=video_ids[i][1], width=W,\n",
        "                             height=H, fs=fs, rel=0)\n",
        "        print(f'Video available at https://youtube.com/watch?v={video.id}')\n",
        "      else:\n",
        "        video = PlayVideo(id=video_ids[i][1], source=video_ids[i][0], width=W,\n",
        "                          height=H, fs=fs, autoplay=False)\n",
        "        if video_ids[i][0] == 'Bilibili':\n",
        "          print(f'Video available at https://www.bilibili.com/video/{video.id}')\n",
        "        elif video_ids[i][0] == 'Osf':\n",
        "          print(f'Video available at https://osf.io/{video.id}')\n",
        "      display(video)\n",
        "    tab_contents.append(out)\n",
        "  return tab_contents\n",
        "\n",
        "\n",
        "video_ids = [('Youtube', 'BnSvcWbYf8g'), ('Bilibili', 'BV1Tf4y1b7de')]\n",
        "tab_contents = display_videos(video_ids, W=854, H=480)\n",
        "tabs = widgets.Tab()\n",
        "tabs.children = tab_contents\n",
        "for i in range(len(tab_contents)):\n",
        "  tabs.set_title(i, video_ids[i][0])\n",
        "display(tabs)"
      ]
    },
    {
      "cell_type": "markdown",
      "source": [
        "**Note:** In 2.30 the equation for $\\text{a}_i$ should be $\\text{a}_i = W^i  a_0$"
      ],
      "metadata": {
        "id": "DcWVl2YN0GyD"
      }
    },
    {
      "cell_type": "code",
      "execution_count": null,
      "metadata": {
        "cellView": "form",
        "execution": {},
        "id": "9tTzJ7sAz7cL"
      },
      "outputs": [],
      "source": [
        "# @title Submit your feedback\n",
        "content_review(f\"{feedback_prefix}_Looking_at_activity_along_an_eigenvector_Video\")"
      ]
    },
    {
      "cell_type": "markdown",
      "metadata": {
        "execution": {},
        "id": "07YZDhB1z7cL"
      },
      "source": [
        "This video covers what happens if our initial firing rates fall along one of the eigenvectors of the weight matrix.\n",
        "\n",
        "<details>\n",
        "<summary> <font color='blue'>Click here for text recap of video </font></summary>\n",
        "\n",
        "**Rewriting our circuit equation**\n",
        "\n",
        "In our neural circuit, we are modeling the activities at a time step as:\n",
        "$$\\mathbf{a}_{t} = \\mathbf{W}\\mathbf{a}_{t-1} $$\n",
        "\n",
        "Let's start at time  step 1:\n",
        "$$\\mathbf{a}_{1} = \\mathbf{W}\\mathbf{a}_{0} $$\n",
        "\n",
        "And move on to time step 2:\n",
        "$$\\mathbf{a}_{2} = \\mathbf{W}\\mathbf{a}_{1} $$\n",
        "\n",
        "In the above equation, we can subsitute in $\\mathbf{a}_{1} = \\mathbf{W}\\mathbf{a}_{0}$:\n",
        "$$\\mathbf{a}_{2} = \\mathbf{W}\\mathbf{W}\\mathbf{a}_{0} = \\mathbf{W}^2 \\mathbf{a}_{0}$$\n",
        "\n",
        "We can keep doing this with subsequent time steps:\n",
        "$$\\mathbf{a}_{3} = \\mathbf{W}\\mathbf{a}_{2} = \\mathbf{W}\\mathbf{W}^2 \\mathbf{a}_{0} = \\mathbf{W}^3\\mathbf{a}_{0}  $$\n",
        "$$\\mathbf{a}_{4} = \\mathbf{W}\\mathbf{a}_{3} = \\mathbf{W}\\mathbf{W}^3 \\mathbf{a}_{0} = \\mathbf{W}^4\\mathbf{a}_{0}  $$\n",
        "\n",
        "This means that we can write the activity at any point as:\n",
        "$$\\mathbf{a}_{i} = \\mathbf{W}^i\\mathbf{a}_{0}  $$\n",
        "\n",
        "**Initial firing rates along an eigenvector**\n",
        "\n",
        "Remember from the last tutorial, that an eigenvector of matrix $\\mathbf{W}$ is a vector that becomes a scalar multiple (eigenvalue) of itself when multiplied by that matrix:\n",
        "\n",
        "$$\\mathbf{W}\\mathbf{v} = \\lambda\\mathbf{v}$$\n",
        "\n",
        "Let's look at what happens if the initial firing rates in our neural circuit lie along that eigenvector, using the same substitution method as in the previous section:\n",
        "$$\\mathbf{a}_{0} = \\mathbf{v} $$\n",
        "$$\\mathbf{a}_{1} = \\mathbf{W}\\mathbf{a}_0 = \\mathbf{W}\\mathbf{v} = \\lambda\\mathbf{v} $$\n",
        "$$\\mathbf{a}_{2} = \\mathbf{W}\\mathbf{a}_1 = \\mathbf{W}\\lambda\\mathbf{v} = \\lambda\\mathbf{W}\\mathbf{v} = \\lambda^2\\mathbf{v}$$\n",
        "$$\\mathbf{a}_{3} = \\mathbf{W}\\mathbf{a}_2 = \\mathbf{W}\\lambda^2\\mathbf{v} = \\lambda^2\\mathbf{W}\\mathbf{v} = \\lambda^3\\mathbf{v}$$\n",
        "$$...$$\n",
        "$$\\mathbf{a}_i = \\lambda^i\\mathbf{v}$$\n",
        "\n",
        "The activities at any time step equal a scalar times the initial activities. In other words, if the initial activities lie along an eigenvector, the activities will only evolve along that eigenvector."
      ]
    },
    {
      "cell_type": "markdown",
      "metadata": {
        "execution": {},
        "id": "AXPTJpqcz7cL"
      },
      "source": [
        "### Interactive demo 2.1: Changing the eigenvalue\n",
        "\n",
        "Let's visualize what happens if the initial activities of the neurons lie along an eigenvector and think about how this depends on the eigenvalue.\n",
        "\n",
        "The interactive demo below is the same visualization you saw in Section 1, but now we also plot the eigenvectors $\\mathbf{v}_1$ and $\\mathbf{v}_2$.\n",
        "\n",
        "Questions:\n",
        "1.  What happens if the eigenvalue is large (2)?\n",
        "2.  What happens if you move the eigenvalue from 2 to towards 0?\n",
        "3.  What happens with negative eigenvalues?"
      ]
    },
    {
      "cell_type": "code",
      "execution_count": null,
      "metadata": {
        "cellView": "form",
        "execution": {},
        "id": "B6EVMgrnz7cL"
      },
      "outputs": [],
      "source": [
        "# @markdown Execute this cell to enable the widget. Please be patient for a few seconds after you change the slider\n",
        "\n",
        "@widgets.interact(eigenvalue = widgets.FloatSlider(value=0.5, min=-2, max=2, step=0.2))\n",
        "def plot_system(eigenvalue):\n",
        "\n",
        "  # Get weight matrix with specified eigenvalues\n",
        "  W = get_eigval_specified_matrix([eigenvalue, eigenvalue])\n",
        "\n",
        "  # Get initial condition\n",
        "  u0 = np.array([1, 1])\n",
        "\n",
        "  # Get neural activities\n",
        "  u = circuit_implementation(W, u0, 10)\n",
        "\n",
        "  # Visualize neural activities\n",
        "  plot_circuit_responses(u, W, eigenstuff = True, xlim = [-15, 15], ylim = [-15, 15])"
      ]
    },
    {
      "cell_type": "code",
      "execution_count": null,
      "metadata": {
        "execution": {},
        "id": "OzqLkyHYz7cL"
      },
      "outputs": [],
      "source": [
        "# to_remove explanation\n",
        "\n",
        "\"\"\"\n",
        "1) With the eigenvalue = 2, the activities of the neurons explode towards infinity, along\n",
        "   the eigenvector.\n",
        "\n",
        "2) At eigenvalue = 1, there is a shift in what happens. With the eigenvalue above 1,\n",
        "  the activites always explode. Once the eigenvalue is below 1, the activities decay to 0.\n",
        "  If the eigenvalue equals 1, the activities never differ from the initial condition.\n",
        "  This makes sense with the equation above. Lambda is raised to a power when computing activities:\n",
        "  if it's a fraction, this term will get smaller so the activities will. If above 1, this term\n",
        "   will explore so the activities will.\n",
        "\n",
        "3) If the eigenvalue is between -1 and 0, the neural activities jump across the\n",
        "   origin repeatedly along the eigenvector but eventually decay to 0. If the eigenvalue is below -1, the\n",
        "   activities jump across the origin repeatedly along the eigenvector but explode to\n",
        "   positive or negative infinity. Once again, this makes sense if you think through the equation above.\n",
        "\"\"\";"
      ]
    },
    {
      "cell_type": "code",
      "execution_count": null,
      "metadata": {
        "cellView": "form",
        "execution": {},
        "id": "hHf3v2dRz7cM"
      },
      "outputs": [],
      "source": [
        "# @title Submit your feedback\n",
        "content_review(f\"{feedback_prefix}_Changing_the_eigenvalue_Interactive_Demo\")"
      ]
    },
    {
      "cell_type": "markdown",
      "metadata": {
        "execution": {},
        "id": "jA65fQRBz7cM"
      },
      "source": [
        "## Section 2.2: Understanding general dynamics using eigenstuff"
      ]
    },
    {
      "cell_type": "code",
      "execution_count": null,
      "metadata": {
        "cellView": "form",
        "execution": {},
        "id": "I9w8UYWtz7cM"
      },
      "outputs": [],
      "source": [
        "# @title Video 3: Understanding general dynamics using eigenstuff\n",
        "from ipywidgets import widgets\n",
        "from IPython.display import YouTubeVideo\n",
        "from IPython.display import IFrame\n",
        "from IPython.display import display\n",
        "\n",
        "\n",
        "class PlayVideo(IFrame):\n",
        "  def __init__(self, id, source, page=1, width=400, height=300, **kwargs):\n",
        "    self.id = id\n",
        "    if source == 'Bilibili':\n",
        "      src = f'https://player.bilibili.com/player.html?bvid={id}&page={page}'\n",
        "    elif source == 'Osf':\n",
        "      src = f'https://mfr.ca-1.osf.io/render?url=https://osf.io/download/{id}/?direct%26mode=render'\n",
        "    super(PlayVideo, self).__init__(src, width, height, **kwargs)\n",
        "\n",
        "\n",
        "def display_videos(video_ids, W=400, H=300, fs=1):\n",
        "  tab_contents = []\n",
        "  for i, video_id in enumerate(video_ids):\n",
        "    out = widgets.Output()\n",
        "    with out:\n",
        "      if video_ids[i][0] == 'Youtube':\n",
        "        video = YouTubeVideo(id=video_ids[i][1], width=W,\n",
        "                             height=H, fs=fs, rel=0)\n",
        "        print(f'Video available at https://youtube.com/watch?v={video.id}')\n",
        "      else:\n",
        "        video = PlayVideo(id=video_ids[i][1], source=video_ids[i][0], width=W,\n",
        "                          height=H, fs=fs, autoplay=False)\n",
        "        if video_ids[i][0] == 'Bilibili':\n",
        "          print(f'Video available at https://www.bilibili.com/video/{video.id}')\n",
        "        elif video_ids[i][0] == 'Osf':\n",
        "          print(f'Video available at https://osf.io/{video.id}')\n",
        "      display(video)\n",
        "    tab_contents.append(out)\n",
        "  return tab_contents\n",
        "\n",
        "\n",
        "video_ids = [('Youtube', '66DExLQPzPI'), ('Bilibili', 'BV1fX4y1c7y7')]\n",
        "tab_contents = display_videos(video_ids, W=854, H=480)\n",
        "tabs = widgets.Tab()\n",
        "tabs.children = tab_contents\n",
        "for i in range(len(tab_contents)):\n",
        "  tabs.set_title(i, video_ids[i][0])\n",
        "display(tabs)"
      ]
    },
    {
      "cell_type": "code",
      "execution_count": null,
      "metadata": {
        "cellView": "form",
        "execution": {},
        "id": "Mw2ZxdV_z7cM"
      },
      "outputs": [],
      "source": [
        "# @title Submit your feedback\n",
        "content_review(f\"{feedback_prefix}_Understanding_general_dynamics_using_eigenstuff_Video\")"
      ]
    },
    {
      "cell_type": "markdown",
      "metadata": {
        "execution": {},
        "id": "3lbafOuxz7cM"
      },
      "source": [
        "This video covers how the eigenvalues and eigenvectors of the weight matrix affect the neural activities more generally.\n",
        "\n",
        "<details>\n",
        "<summary> <font color='blue'>Click here for text recap of video </font></summary>\n",
        "\n",
        "We now know that if our initial activities (or initial condition) fall on an eigenvector of $\\mathbf{W}$, the activities will evolve along that line, either exploding to infinity if the absolute value of the eigenvalue is above 1 or decaying to the origin it it is below 1. What if our initial condition doesn't fall along the eigenvector though?\n",
        "\n",
        "To understand what will happen, we will use the ideas of basis vectors and linear combinations from Tutorial 1.\n",
        "\n",
        "Let's assume for now that our weight matrix has two distinct eigenvectors ($\\mathbf{v}_1$ and $\\mathbf{v}_2$) with corresponding eigenvalues $\\lambda_1$ and $\\lambda_2$, and that these eigenvectors form a basis for 2D space. That means we can write any vector in 2D space as a linear combination of our eigenvectors, including our initial activity vector:\n",
        "\n",
        "\\begin{equation}\n",
        "\\mathbf{a}_0 = c_1\\mathbf{v}_1 + c_2\\mathbf{v}_2\n",
        "\\end{equation}\n",
        "\n",
        "Let's compute the next time step, using our previous strategy of substitution:\n",
        "\n",
        "\\begin{align}\n",
        "\\mathbf{a}_1 &= \\mathbf{W}\\mathbf{a}_0 \\\\\n",
        "&= \\mathbf{W}(c_1\\mathbf{v}_1 + c_2\\mathbf{v}_2) \\\\\n",
        "&= c_1\\mathbf{W}\\mathbf{v}_1 + c_2\\mathbf{W}\\mathbf{v}_2 \\\\\n",
        "&= c_1\\lambda_1\\mathbf{v}_1 + c_2\\lambda_2\\mathbf{v}_2\n",
        "\\end{align}\n",
        "\n",
        "All activities can be written as:\n",
        "\n",
        "\\begin{equation}\n",
        "\\mathbf{a}_i = c_1\\lambda_1^i\\mathbf{v}_1 + c_2\\lambda_2^i\\mathbf{v}_2\n",
        "\\end{equation}\n",
        "\n",
        "We'll see what this means for our system in the next demo."
      ]
    },
    {
      "cell_type": "markdown",
      "metadata": {
        "execution": {},
        "id": "2aWfAu0lz7cM"
      },
      "source": [
        "Before we get to the neural circuit, refresh your memory on linear combinations briefly by looking at our widget from tutorial 1 below. What happens when the absolute values of both scalar multiples of both vectors is big? What about when one is big and one is small?"
      ]
    },
    {
      "cell_type": "code",
      "execution_count": null,
      "metadata": {
        "cellView": "form",
        "execution": {},
        "id": "1-8GdY1uz7cM"
      },
      "outputs": [],
      "source": [
        " #@markdown Make sure you execute this cell to enable the widget! Move the sliders for “a” and “b”. After releasing the slider, be patient for a couple of seconds to see the desired change.\n",
        "\n",
        "\n",
        "def plot_arrows(x, y, a_times_x, b_times_y):\n",
        "  fig, ax = plt.subplots(figsize=(10, 7))\n",
        "\n",
        "  ax.spines['top'].set_color('none')\n",
        "  ax.spines['bottom'].set_position('zero')\n",
        "  ax.spines['left'].set_position('zero')\n",
        "  ax.spines['right'].set_color('none')\n",
        "\n",
        "  ax.set_aspect('equal', adjustable='box')\n",
        "  ax.set(xlim = [-10, 10], ylim = [-10, 10], xticks = np.arange(-10, 10), yticks = np.arange(-10, 10), xticklabels = [], yticklabels = [])\n",
        "\n",
        "  ax.grid(alpha=.4)\n",
        "\n",
        "  z = a_times_x + b_times_y\n",
        "  z_arr = ax.arrow(0, 0, z[0], z[1], width=.08, color='k', length_includes_head = True);\n",
        "\n",
        "  x_orig, = ax.plot([0, x[0]], [0, x[1]], '--', color='#648FFF')\n",
        "  y_orig, = ax.plot([0, y[0]], [0, y[1]], '--',  color='#DC267F')\n",
        "\n",
        "  ax_arr = ax.arrow(0, 0, a_times_x[0], a_times_x[1], width=.08, color='#648FFF', length_includes_head = True);\n",
        "  by_arr = ax.arrow(0, 0, b_times_y[0], b_times_y[1], width=.08, color='#DC267F', length_includes_head = True);\n",
        "\n",
        "  ax.plot([a_times_x[0], z[0]], [a_times_x[1], z[1]], '--k')\n",
        "  ax.plot([b_times_y[0], z[0]], [b_times_y[1], z[1]], '--k')\n",
        "\n",
        "\n",
        "  leg = ax.legend([x_orig, y_orig, ax_arr, by_arr, z_arr], [r\"$\\mathbf{x}$\", r\"$\\mathbf{y}$\", r\"$a\\mathbf{x}$\", r\"$b\\mathbf{y}$\", r\"$\\mathbf{z} = a\\mathbf{x} + b\\mathbf{y}$\"], handlelength = 2, fontsize = 25, loc = 'center left', bbox_to_anchor=(1.05, .5))\n",
        "  for handle, label in zip(leg.legendHandles, leg.texts):\n",
        "      try:\n",
        "          label.set_color(handle.get_facecolor())\n",
        "      except:\n",
        "          label.set_color(handle.get_color())\n",
        "      #handle.set_visible(False)\n",
        "\n",
        "@widgets.interact(a = widgets.FloatSlider(value=1.0, min=-4, max=4, step=0.1), b = widgets.FloatSlider(value=1.0, min=-4, max=4, step=0.1))\n",
        "def plot_linear_combination(a, b):\n",
        "  x = np.array([3, 1])\n",
        "  y = np.array([-1, 2])\n",
        "\n",
        "  plot_arrows(x, y, a*x, b*y)"
      ]
    },
    {
      "cell_type": "markdown",
      "metadata": {
        "execution": {},
        "id": "eMob0oRfz7cN"
      },
      "source": [
        "### Interactive demo 2.2: Changing both eigenvalues\n",
        "\n",
        "In the demo below, you can now change both eigenvalues and the initial condition (with `a0_1` setting neuron 1 initial activity and `a0_2` setting neuron 2 initial activity). We will only look at positive eigenvalues to keep things a little more simple. We also make sure the second eigenvalue is always the smaller one (just for better visualization purposes).\n",
        "\n",
        "Think each of the following questions through based on the equation we just arrived at and then play with the demo to see if you are correct.\n",
        "\n",
        "\\begin{equation}\n",
        "\\mathbf{a}_i = c_1\\lambda_1^i\\mathbf{v}_1 + c_2\\lambda_2^i\\mathbf{v}_2\n",
        "\\end{equation}\n",
        "\n",
        "1. What will happen when both eigenvalues are greater than 1? Does this depend on initial condition?  Set eigenvalue1 to 2 and eigenvalue2 to 1.2 and try out different initial conditions. What do you see?\n",
        "2. What will happen when both eigenvalues are less than 1?\n",
        "3. What happens if one eigenvalue is below 1 and the other is above 1?"
      ]
    },
    {
      "cell_type": "code",
      "execution_count": null,
      "metadata": {
        "cellView": "form",
        "execution": {},
        "id": "eCqvJsNxz7cN"
      },
      "outputs": [],
      "source": [
        "# @markdown Execute this cell to enable the widget (there is a small lag so be patient after changing sliders)\n",
        "eigenvalue1 = widgets.FloatSlider(value=0.5, min=0.2, max=2, step=0.2)\n",
        "eigenvalue2 = widgets.FloatSlider(value=0.2, min=0.2, max=0.5, step=0.2)\n",
        "a0_1 = widgets.FloatSlider(value=1, min=-5, max=5, step=0.2)\n",
        "a0_2 = widgets.FloatSlider(value=2, min=-5, max=5, step=0.2)\n",
        "\n",
        "def update_range(*args):\n",
        "    eigenvalue2.max = eigenvalue1.value - 0.2\n",
        "eigenvalue1.observe(update_range, 'value')\n",
        "\n",
        "\n",
        "def plot_system(eigenvalue1, eigenvalue2, a0_1, a0_2):\n",
        "\n",
        "  # Get initial condition\n",
        "  a0 = np.array([a0_1, a0_2])\n",
        "\n",
        "  # Get weight matrix with specified eigenvalues\n",
        "  W = get_eigval_specified_matrix([eigenvalue1, eigenvalue2])\n",
        "\n",
        "  # Get neural activities\n",
        "  u = circuit_implementation(W, a0, 10)\n",
        "\n",
        "  # Visualize neural activities\n",
        "  plot_circuit_responses(u, W, eigenstuff = True, xlim = [-15, 15], ylim = [-15, 15])\n",
        "\n",
        "widgets.interact(plot_system, eigenvalue1 = eigenvalue1, eigenvalue2 = eigenvalue2, a0_1 = a0_1, a0_2 = a0_2)"
      ]
    },
    {
      "cell_type": "code",
      "execution_count": null,
      "metadata": {
        "execution": {},
        "id": "AlghyKpPz7cQ"
      },
      "outputs": [],
      "source": [
        "# to_remove explanation\n",
        "\n",
        "\"\"\"\n",
        "1)  If both eigenvalues are above 1, the neural activities will eventually explode\n",
        "    to infinity or negative infinity, depending on initial conditions. The exact trajectory\n",
        "    is drawn towards the eigenvector with the larger eigenvalue. This is because the larger eigenvalue\n",
        "    will increasingly dominate the other one as it is raised to increasingly larger powers.\n",
        "\n",
        "2) If both eigenvalues are below 1, the neural activity will eventually decay to 0.\n",
        "\n",
        "3)  The activities will eventually explode to positive or negative infinity, unless\n",
        "    the initial condition lies exactly on the eigenvector with the small eigenvalue. If the\n",
        "    initial condition is near to that eigenvector, the trajectory will first go towards\n",
        "    the origin before exploding\n",
        "\"\"\";"
      ]
    },
    {
      "cell_type": "code",
      "execution_count": null,
      "metadata": {
        "cellView": "form",
        "execution": {},
        "id": "YNVo4nt6z7cR"
      },
      "outputs": [],
      "source": [
        "# @title Submit your feedback\n",
        "content_review(f\"{feedback_prefix}_Changing_both_eigenvalues_Interactive_Demo\")"
      ]
    },
    {
      "cell_type": "markdown",
      "metadata": {
        "execution": {},
        "id": "llqn9SPNz7cR"
      },
      "source": [
        "## Section 2.3: Complex eigenvalues\n",
        "\n",
        "We've been hiding some complexity from you up until now, namely that eigenvalues can be complex. Complex eigenvalues result in a very specific type of dynamics: rotations.\n",
        "\n",
        "We will not delve into the proof or intuition behind this here as you'll encounter complex eigenvalues in dynamical systems in W2D2: Linear Dynamics.\n",
        "\n",
        "Instead, we will simply demonstrate how the nature of the rotations depends on the complex eigenvalues in the animation below. We plot a 3-neuron circuit to better show the rotations. We illustrate each of the following:\n",
        "\n",
        "\n",
        "*   Complex eigenvalues with an absolute value equal to 1 result in a sustained rotation in 3D space.\n",
        "\n",
        "*   Complex eigenvalues with an absolute value below 1 result in a rotation towards the origin.\n",
        "\n",
        "*   Complex eigenvalues with an absolute value above 1 result in a rotation towards the positive/negative infinity.\n",
        "\n"
      ]
    },
    {
      "cell_type": "markdown",
      "metadata": {
        "execution": {},
        "id": "bQN-I5L4z7cR"
      },
      "source": [
        "<figure>\n",
        "<img src=\"https://raw.githubusercontent.com/NeuromatchAcademy/precourse/main/tutorials/W0D3_LinearAlgebra/static/complex_eigenvalues.gif\">\n",
        "</figure>"
      ]
    },
    {
      "cell_type": "markdown",
      "metadata": {
        "execution": {},
        "id": "JkkFjcTFz7cR"
      },
      "source": [
        "---\n",
        "# Summary\n",
        "\n",
        "You have seen how we can predict what happens in a discrete dynamical system with an update rule of:\n",
        "\n",
        "\\begin{equation}\n",
        "\\mathbf{a}_t = \\mathbf{W}\\mathbf{a}_{t-1}\n",
        "\\end{equation}\n",
        "\n",
        "<br>\n",
        "\n",
        "The most important takeaway is that inspecting eigenvalues and eigenvectors enables you to predict how discrete dynamical systems evolve. Specifically:\n",
        "\n",
        "* If all eigenvalues are real and have absolute values above 1, the neural activities explode to infinity or negative infinity.\n",
        "\n",
        "* If all eigenvalues are real and have absolute values below 1, the neural activities decay to 0.\n",
        "\n",
        "* If all eigenvalues are real and at least one has an absolute value above 1, the neural activities explode to infinity or negative infinity, except for special cases where the initial condition lies along an eigenvector with an eigenvalue whose absolute value is below 1.\n",
        "\n",
        "* If eigenvalues are complex, the neural activities rotate in space and decay or explode depending on the amplitude of the complex eigenvalues.\n",
        "\n",
        "* Even finer details of the trajectories can be predicted by examining the exact relationship of eigenvalues and eigenvectors.\n",
        "\n",
        "<br>\n",
        "\n",
        "Importantly, these ideas extend far beyond our toy neural circuit. Discrete dynamical systems with the same structure of update rule are common. While the exact dependencies on eigenvalues will change, we will see that we can still use eigenvalues/vectors to understand continuous dynamical systems in [Linear Systems day](https://compneuro.neuromatch.io/tutorials/W2D2_LinearSystems/chapter_title.html)."
      ]
    }
  ],
  "metadata": {
    "colab": {
      "name": "W0D3_Tutorial3",
      "provenance": [],
      "toc_visible": true,
      "include_colab_link": true
    },
    "kernel": {
      "display_name": "Python 3",
      "language": "python",
      "name": "python3"
    },
    "kernelspec": {
      "display_name": "Python 3",
      "language": "python",
      "name": "python3"
    },
    "language_info": {
      "codemirror_mode": {
        "name": "ipython",
        "version": 3
      },
      "file_extension": ".py",
      "mimetype": "text/x-python",
      "name": "python",
      "nbconvert_exporter": "python",
      "pygments_lexer": "ipython3",
      "version": "3.9.17"
    },
    "toc-autonumbering": true,
    "widgets": {
      "application/vnd.jupyter.widget-state+json": {
        "c3be5cf88034423b993732e4e8e87281": {
          "model_module": "@jupyter-widgets/controls",
          "model_name": "TabModel",
          "model_module_version": "1.5.0",
          "state": {
            "_dom_classes": [],
            "_model_module": "@jupyter-widgets/controls",
            "_model_module_version": "1.5.0",
            "_model_name": "TabModel",
            "_titles": {
              "0": "Youtube",
              "1": "Bilibili"
            },
            "_view_count": null,
            "_view_module": "@jupyter-widgets/controls",
            "_view_module_version": "1.5.0",
            "_view_name": "TabView",
            "box_style": "",
            "children": [
              "IPY_MODEL_ea040907c2ee4dc196d72165dfa27445",
              "IPY_MODEL_ddb524014bef42efa45823f04c8fa638"
            ],
            "layout": "IPY_MODEL_2553bf362bd6435897d4ca8f748033fb",
            "selected_index": 0
          }
        },
        "ea040907c2ee4dc196d72165dfa27445": {
          "model_module": "@jupyter-widgets/output",
          "model_name": "OutputModel",
          "model_module_version": "1.0.0",
          "state": {
            "_dom_classes": [],
            "_model_module": "@jupyter-widgets/output",
            "_model_module_version": "1.0.0",
            "_model_name": "OutputModel",
            "_view_count": null,
            "_view_module": "@jupyter-widgets/output",
            "_view_module_version": "1.0.0",
            "_view_name": "OutputView",
            "layout": "IPY_MODEL_dae5a03f16b1442b85474f8b5799b46e",
            "msg_id": "",
            "outputs": [
              {
                "output_type": "stream",
                "name": "stdout",
                "text": [
                  "Video available at https://youtube.com/watch?v=BnSvcWbYf8g\n"
                ]
              },
              {
                "output_type": "display_data",
                "data": {
                  "text/plain": "<IPython.lib.display.YouTubeVideo at 0x7f1ee88b15a0>",
                  "text/html": "\n        <iframe\n            width=\"854\"\n            height=\"480\"\n            src=\"https://www.youtube.com/embed/BnSvcWbYf8g?fs=1&rel=0\"\n            frameborder=\"0\"\n            allowfullscreen\n            \n        ></iframe>\n        ",
                  "image/jpeg": "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\n"
                },
                "metadata": {}
              }
            ]
          }
        },
        "ddb524014bef42efa45823f04c8fa638": {
          "model_module": "@jupyter-widgets/output",
          "model_name": "OutputModel",
          "model_module_version": "1.0.0",
          "state": {
            "_dom_classes": [],
            "_model_module": "@jupyter-widgets/output",
            "_model_module_version": "1.0.0",
            "_model_name": "OutputModel",
            "_view_count": null,
            "_view_module": "@jupyter-widgets/output",
            "_view_module_version": "1.0.0",
            "_view_name": "OutputView",
            "layout": "IPY_MODEL_d83c6ca3b7b7490f8ea6a4a1f1ec3543",
            "msg_id": "",
            "outputs": [
              {
                "output_type": "stream",
                "name": "stdout",
                "text": [
                  "Video available at https://www.bilibili.com/video/BV1Tf4y1b7de\n"
                ]
              },
              {
                "output_type": "display_data",
                "data": {
                  "text/plain": "<__main__.PlayVideo at 0x7f1ee858ab00>",
                  "text/html": "\n        <iframe\n            width=\"854\"\n            height=\"480\"\n            src=\"https://player.bilibili.com/player.html?bvid=BV1Tf4y1b7de&page=1?fs=1&autoplay=False\"\n            frameborder=\"0\"\n            allowfullscreen\n            \n        ></iframe>\n        "
                },
                "metadata": {}
              }
            ]
          }
        },
        "2553bf362bd6435897d4ca8f748033fb": {
          "model_module": "@jupyter-widgets/base",
          "model_name": "LayoutModel",
          "model_module_version": "1.2.0",
          "state": {
            "_model_module": "@jupyter-widgets/base",
            "_model_module_version": "1.2.0",
            "_model_name": "LayoutModel",
            "_view_count": null,
            "_view_module": "@jupyter-widgets/base",
            "_view_module_version": "1.2.0",
            "_view_name": "LayoutView",
            "align_content": null,
            "align_items": null,
            "align_self": null,
            "border": null,
            "bottom": null,
            "display": null,
            "flex": null,
            "flex_flow": null,
            "grid_area": null,
            "grid_auto_columns": null,
            "grid_auto_flow": null,
            "grid_auto_rows": null,
            "grid_column": null,
            "grid_gap": null,
            "grid_row": null,
            "grid_template_areas": null,
            "grid_template_columns": null,
            "grid_template_rows": null,
            "height": null,
            "justify_content": null,
            "justify_items": null,
            "left": null,
            "margin": null,
            "max_height": null,
            "max_width": null,
            "min_height": null,
            "min_width": null,
            "object_fit": null,
            "object_position": null,
            "order": null,
            "overflow": null,
            "overflow_x": null,
            "overflow_y": null,
            "padding": null,
            "right": null,
            "top": null,
            "visibility": null,
            "width": null
          }
        },
        "dae5a03f16b1442b85474f8b5799b46e": {
          "model_module": "@jupyter-widgets/base",
          "model_name": "LayoutModel",
          "model_module_version": "1.2.0",
          "state": {
            "_model_module": "@jupyter-widgets/base",
            "_model_module_version": "1.2.0",
            "_model_name": "LayoutModel",
            "_view_count": null,
            "_view_module": "@jupyter-widgets/base",
            "_view_module_version": "1.2.0",
            "_view_name": "LayoutView",
            "align_content": null,
            "align_items": null,
            "align_self": null,
            "border": null,
            "bottom": null,
            "display": null,
            "flex": null,
            "flex_flow": null,
            "grid_area": null,
            "grid_auto_columns": null,
            "grid_auto_flow": null,
            "grid_auto_rows": null,
            "grid_column": null,
            "grid_gap": null,
            "grid_row": null,
            "grid_template_areas": null,
            "grid_template_columns": null,
            "grid_template_rows": null,
            "height": null,
            "justify_content": null,
            "justify_items": null,
            "left": null,
            "margin": null,
            "max_height": null,
            "max_width": null,
            "min_height": null,
            "min_width": null,
            "object_fit": null,
            "object_position": null,
            "order": null,
            "overflow": null,
            "overflow_x": null,
            "overflow_y": null,
            "padding": null,
            "right": null,
            "top": null,
            "visibility": null,
            "width": null
          }
        },
        "d83c6ca3b7b7490f8ea6a4a1f1ec3543": {
          "model_module": "@jupyter-widgets/base",
          "model_name": "LayoutModel",
          "model_module_version": "1.2.0",
          "state": {
            "_model_module": "@jupyter-widgets/base",
            "_model_module_version": "1.2.0",
            "_model_name": "LayoutModel",
            "_view_count": null,
            "_view_module": "@jupyter-widgets/base",
            "_view_module_version": "1.2.0",
            "_view_name": "LayoutView",
            "align_content": null,
            "align_items": null,
            "align_self": null,
            "border": null,
            "bottom": null,
            "display": null,
            "flex": null,
            "flex_flow": null,
            "grid_area": null,
            "grid_auto_columns": null,
            "grid_auto_flow": null,
            "grid_auto_rows": null,
            "grid_column": null,
            "grid_gap": null,
            "grid_row": null,
            "grid_template_areas": null,
            "grid_template_columns": null,
            "grid_template_rows": null,
            "height": null,
            "justify_content": null,
            "justify_items": null,
            "left": null,
            "margin": null,
            "max_height": null,
            "max_width": null,
            "min_height": null,
            "min_width": null,
            "object_fit": null,
            "object_position": null,
            "order": null,
            "overflow": null,
            "overflow_x": null,
            "overflow_y": null,
            "padding": null,
            "right": null,
            "top": null,
            "visibility": null,
            "width": null
          }
        }
      }
    }
  },
  "nbformat": 4,
  "nbformat_minor": 0
}